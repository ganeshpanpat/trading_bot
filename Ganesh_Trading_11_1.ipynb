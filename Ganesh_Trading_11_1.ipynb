{
  "cells": [
    {
      "cell_type": "markdown",
      "metadata": {
        "id": "xB5drY383Vl2"
      },
      "source": [
        "# Welcome"
      ]
    },
    {
      "cell_type": "code",
      "execution_count": null,
      "metadata": {
        "colab": {
          "base_uri": "https://localhost:8080/"
        },
        "id": "d5sVCxUhGMIY",
        "outputId": "8f198103-dce1-4a60-f669-2537259f4e40"
      },
      "outputs": [
        {
          "output_type": "stream",
          "name": "stdout",
          "text": [
            "....!!! Jay Shri Ganesh !!!....\n",
            "....!!! Jay Mahalaxmi !!!....\n",
            "....!!! Have a profitable Day !!!....\n"
          ]
        }
      ],
      "source": [
        "print('....!!! Jay Shri Ganesh !!!....\\n....!!! Jay Mahalaxmi !!!....\\n....!!! Have a profitable Day !!!....')"
      ]
    },
    {
      "cell_type": "code",
      "execution_count": null,
      "metadata": {
        "colab": {
          "base_uri": "https://localhost:8080/"
        },
        "id": "oOcmZPnaTR8i",
        "outputId": "efe6235c-3833-400b-83f1-3878d2a34463"
      },
      "outputs": [
        {
          "output_type": "stream",
          "name": "stdout",
          "text": [
            "time: 3.43 ms (started: 2023-02-04 09:13:23 +00:00)\n"
          ]
        }
      ],
      "source": [
        "#@title Install Lib\n",
        "'''\n",
        "!wget http://prdownloads.sourceforge.net/ta-lib/ta-lib-0.4.0-src.tar.gz\n",
        "!tar -xzvf ta-lib-0.4.0-src.tar.gz\n",
        "%cd ta-lib\n",
        "!./configure --prefix=/usr\n",
        "!make\n",
        "!make install\n",
        "!pip install Ta-Lib\n",
        "import talib\n",
        "import talib as ta\n",
        "'''\n",
        "!pip install smartapi-python\n",
        "!pip install websocket-client\n",
        "!pip install pandas\n",
        "!pip install pandas_ta\n",
        "!pip install talib\n",
        "!pip install requests\n",
        "!pip install numpy\n",
        "!pip install yfinance\n",
        "!pip install py5paisa\n",
        "!pip install pyotp\n",
        "!pip install ipython-autotime\n",
        "!pip install nsepython\n",
        "%load_ext autotime\n",
        "from google.colab import output\n",
        "output.clear()"
      ]
    },
    {
      "cell_type": "code",
      "execution_count": null,
      "metadata": {
        "colab": {
          "base_uri": "https://localhost:8080/"
        },
        "id": "W21g5impF0sa",
        "outputId": "d980d8f5-e278-4e64-c42c-908478ecd465"
      },
      "outputs": [
        {
          "output_type": "stream",
          "name": "stdout",
          "text": [
            "time: 2.13 s (started: 2023-02-04 09:13:23 +00:00)\n"
          ]
        }
      ],
      "source": [
        "#Import lib\n",
        "from smartapi import SmartConnect\n",
        "from smartapi import SmartWebSocket\n",
        "import threading\n",
        "import pandas as pd\n",
        "import pandas_ta as pdta\n",
        "import json\n",
        "import requests\n",
        "from datetime import datetime, timedelta, date\n",
        "from time import time, sleep\n",
        "import datetime as dt\n",
        "import math\n",
        "import numpy\n",
        "import warnings\n",
        "from dateutil.tz import gettz\n",
        "import yfinance as yf\n",
        "import sys\n",
        "import time\n",
        "from google.colab import files\n",
        "from google.colab import output\n",
        "from py5paisa import FivePaisaClient\n",
        "from nsepython import *\n",
        "import pyotp\n",
        "pd.options.mode.chained_assignment = None\n",
        "warnings.filterwarnings('ignore')\n",
        "NoneType = type(None)"
      ]
    },
    {
      "cell_type": "code",
      "execution_count": null,
      "metadata": {
        "colab": {
          "base_uri": "https://localhost:8080/"
        },
        "id": "7fKR8qBiI-9o",
        "outputId": "7b13aab6-c0ec-4b58-9e1c-d2f7509dd915"
      },
      "outputs": [
        {
          "output_type": "stream",
          "name": "stdout",
          "text": [
            "time: 1.56 ms (started: 2023-02-04 09:13:26 +00:00)\n"
          ]
        }
      ],
      "source": [
        "#Login Details\n",
        "def get_user_pwd(user):\n",
        "  if user=='Ganesh': username = 'G93179'; pwd = '4789'; apikey = 'CjOKjC5g'; token='U4EAZJ3L44CNJHNUZ56R22TPKI'\n",
        "  elif user=='Kalyani': username = 'K205244'; pwd = '4789'; apikey = 'lzC7yJmt'; token='YDV6CJI6BEU3GWON7GZTZNU3RM'\n",
        "  elif user==\"Akshay\": username='A325394'; pwd='Ganesh@2'; apikey='OeSllszj'; token='G4OKBQKHXPS67EN2WMVP3TZ7X4'\n",
        "  elif user==\"Suhas\": username = 'S1067701'; pwd = '4399'; apikey = 'CjOKjC5g'; token='ZYLJYV6UJUPJ53P7RIAPOQS2T4'\n",
        "  elif user==\"Vikas\": username = 'V208426'; pwd = '9545'; apikey = 'zi800LyJ'; token='E4SE7WLR37OTHFVWVQZNV2EXJM'\n",
        "  elif user==\"Jitendra\": username = 'J50204098'; pwd = '5310'; apikey = 'a5BQY0Na'; token='OFUOJ2DTNTXKXFATSKM35RCUZA'\n",
        "  elif user==\"Niranjan\": username = ''; pwd = ''; apikey = ''; token=''\n",
        "  return username,pwd,apikey,token"
      ]
    },
    {
      "cell_type": "code",
      "execution_count": null,
      "metadata": {
        "colab": {
          "base_uri": "https://localhost:8080/"
        },
        "id": "cxKQ8hZPgfdT",
        "outputId": "032041c0-6215-44e3-f6b7-ef5ec44d66f3"
      },
      "outputs": [
        {
          "output_type": "execute_result",
          "data": {
            "text/plain": [
              "('Ganesh', 'G93179', '4789', 'CjOKjC5g', 'U4EAZJ3L44CNJHNUZ56R22TPKI')"
            ]
          },
          "metadata": {},
          "execution_count": 5
        },
        {
          "output_type": "stream",
          "name": "stdout",
          "text": [
            "time: 11 ms (started: 2023-02-04 09:13:26 +00:00)\n"
          ]
        }
      ],
      "source": [
        "#@title { run: \"auto\" }\n",
        "user = \"Ganesh\"  #@param ['Ganesh', 'Kalyani','Akshay','Mithilesh','Suhas','Vikas','Jitendra','Niranjan']\n",
        "username,pwd,apikey,token=get_user_pwd(user)\n",
        "user,username,pwd,apikey,token"
      ]
    },
    {
      "cell_type": "code",
      "execution_count": null,
      "metadata": {
        "colab": {
          "base_uri": "https://localhost:8080/"
        },
        "id": "clD3Xbv9JSdh",
        "outputId": "5c6b16be-1de2-4f37-ae16-255103064723"
      },
      "outputs": [
        {
          "output_type": "stream",
          "name": "stdout",
          "text": [
            "time: 5.76 ms (started: 2023-02-04 09:13:26 +00:00)\n"
          ]
        }
      ],
      "source": [
        "#@title Variable\n",
        "#Set Target , Define Scope and set lot size\n",
        "#@title {run: \"auto\"}\n",
        "global lots_to_trade,banknifty_target,banknifty_sl,nifty_target\n",
        "global nifty_sl,trailing_stop_loss,percent_target,percent_loss,percent_trail\n",
        "global trade_exit,stop_loss_type,trailing_stop_loss_type,target_order_type\n",
        "global near_option_trade\n",
        "global one_m_timeframe,three_m_timeframe,five_m_timeframe,fifteen_m_timeframe\n",
        "global bank_nifty_trading,nifty_trading,stock_trading,bnf_start_trade,nf_start_trade\n",
        "global day_end_exit_all\n",
        "global orderbook,open_position\n",
        "global banknifty_sl_one_min,banknifty_target_one_min\n",
        "global nifty_sl_one_min,nifty_target_one_min,robo_order_one_min\n",
        "global Candle_trading,index_trail,two_candle_low_target\n",
        "global pnl, pnl_sl,pnl_tgt\n",
        "global candle_trade_target\n",
        "pnl=0\n",
        "pnl_sl=-10000\n",
        "pnl_tgt=10000\n",
        "lots_to_trade=1\n",
        "trade_exit='percent' #@param ['percent', 'points', 'indicator']\n",
        "day_end_exit_all='No' #@param ['Yes', 'No']\n",
        "#points exit\n",
        "banknifty_target=40\n",
        "banknifty_sl=105\n",
        "nifty_target=20\n",
        "nifty_sl=51\n",
        "trailing_stop_loss=10\n",
        "banknifty_target_one_min=20\n",
        "banknifty_sl_one_min=40\n",
        "nifty_target_one_min=10\n",
        "nifty_sl_one_min=20\n",
        "near_option_trade=\"No\"\n",
        "two_candle_low_target=2\n",
        "\n",
        "target_order_type=\"Stop_Loss\" #@param ['Target','Stop_Loss','NA']\n",
        "stop_loss_type='points' #@param ['points','three_candle_low','previous_candle_low']\n",
        "candle_trade_target='points' #@param ['points','three_candle_low','previous_candle_low']\n",
        "index_trail='three_candle_low' #@param ['three_candle_low','previous_candle_low','NA']\n",
        "trailing_stop_loss_type='three_candle_low'#@param ['points','three_candle_low','previous_candle_low','No']\n",
        "percent_target= 30\n",
        "percent_loss= 50\n",
        "percent_stop_trail=5\n",
        "near_option_trade=\"No\"\n",
        "#Select Time Frames\n",
        "one_m_timeframe='Yes' #@param ['Yes','No']\n",
        "robo_order_one_min='Yes' #@param ['Yes','No']\n",
        "five_m_timeframe='Yes' #@param ['Yes','No']\n",
        "three_m_timeframe='Yes' #@param ['Yes','No']\n",
        "fifteen_m_timeframe='Yes' #@param ['Yes','No']\n",
        "#Select Index\n",
        "bank_nifty_trading='Yes' #@param ['Yes','No']\n",
        "nifty_trading='Yes' #@param ['Yes','No']\n",
        "stock_trading='No' #@param ['Yes','No']\n",
        "stock_scanner='No' #@param ['Yes','No']\n",
        "Candle_trading='No' #@param ['Yes','No']"
      ]
    },
    {
      "cell_type": "code",
      "execution_count": null,
      "metadata": {
        "colab": {
          "base_uri": "https://localhost:8080/",
          "height": 87
        },
        "id": "Mbdrpdyx29ti",
        "outputId": "a294d6c9-4fd2-42f8-fc15-c9ca402b016b"
      },
      "outputs": [
        {
          "output_type": "stream",
          "name": "stdout",
          "text": [
            "Time\n"
          ]
        },
        {
          "output_type": "execute_result",
          "data": {
            "text/plain": [
              "\"\\nglobal marketopen,marketclose,orbclose,finalclose\\nnow = datetime.now(tz=gettz('Asia/Kolkata'))\\nclose=now+timedelta(minutes=120)\\nmarketopen = now.replace(hour=0, minute=5, second=0, microsecond=0,tzinfo=None)\\norbclose = now.replace(hour=9, minute=30, second=0, microsecond=0,tzinfo=None)\\nmarketclose = close.replace(second=0, microsecond=0,tzinfo=None)\\nfinalclose = close.replace(second=0, microsecond=0,tzinfo=None)\\n\""
            ],
            "application/vnd.google.colaboratory.intrinsic+json": {
              "type": "string"
            }
          },
          "metadata": {},
          "execution_count": 7
        },
        {
          "output_type": "stream",
          "name": "stdout",
          "text": [
            "time: 7.81 ms (started: 2023-02-04 09:13:26 +00:00)\n"
          ]
        }
      ],
      "source": [
        "#time\n",
        "print(\"Time\")\n",
        "'''\n",
        "global marketopen,marketclose,orbclose,finalclose\n",
        "now = datetime.now(tz=gettz('Asia/Kolkata'))\n",
        "close=now+timedelta(minutes=120)\n",
        "marketopen = now.replace(hour=0, minute=5, second=0, microsecond=0,tzinfo=None)\n",
        "orbclose = now.replace(hour=9, minute=30, second=0, microsecond=0,tzinfo=None)\n",
        "marketclose = close.replace(second=0, microsecond=0,tzinfo=None)\n",
        "finalclose = close.replace(second=0, microsecond=0,tzinfo=None)\n",
        "'''"
      ]
    },
    {
      "cell_type": "code",
      "execution_count": null,
      "metadata": {
        "colab": {
          "base_uri": "https://localhost:8080/"
        },
        "id": "dQwjXZUxkAaD",
        "outputId": "f27aaaa4-da07-4dee-e201-b7a274ab27c8"
      },
      "outputs": [
        {
          "output_type": "stream",
          "name": "stdout",
          "text": [
            "time: 1.58 ms (started: 2023-02-04 09:13:26 +00:00)\n"
          ]
        }
      ],
      "source": [
        "variable={\n",
        "  'lots_to_trade':1,\n",
        "  'trade_exit':'percent',\n",
        "  'day_end_exit_all':'No',\n",
        "  'banknifty_target':40,'banknifty_sl':105,\n",
        "  'nifty_target':20,'nifty_sl':51,\n",
        "  'trailing_stop_loss':10,\n",
        "  'banknifty_target_one_min':20,'banknifty_sl_one_min':40,\n",
        "  'nifty_target_one_min':10,'nifty_sl_one_min':20,\n",
        "  'near_option_trade':\"No\",\n",
        "  'target_order_type':\"Stop_Loss\",\n",
        "  'stop_loss_type':'points',\n",
        "  'index_trail':'three_candle_low',\n",
        "  'trailing_stop_loss_type':'three_candle_low',\n",
        "  'percent_target': 30,'percent_loss': 50,\n",
        "  'percent_stop_trail':5,\n",
        "  'near_option_trade':\"No\",\n",
        "  'robo_order_one_min':'No',\n",
        "  'one_m_timeframe':'Yes',\n",
        "  'five_m_timeframe':'Yes',\n",
        "  'three_m_timeframe':'No',\n",
        "  'fifteen_m_timeframe':'Yes',\n",
        "  'bank_nifty_trading':'Yes',\n",
        "  'nifty_trading':'Yes',\n",
        "  'stock_trading':'No',\n",
        "  'stock_scanner':'Yes',\n",
        "  'Candle_trading':'Yes',}"
      ]
    },
    {
      "cell_type": "code",
      "execution_count": null,
      "metadata": {
        "colab": {
          "base_uri": "https://localhost:8080/"
        },
        "id": "EsgSK91MJf4g",
        "outputId": "4bca87a8-69a4-41fa-ec1d-172df6c2c1ff"
      },
      "outputs": [
        {
          "output_type": "stream",
          "name": "stdout",
          "text": [
            "time: 2.14 ms (started: 2023-02-04 09:54:40 +00:00)\n"
          ]
        }
      ],
      "source": [
        "#Telegram Msg\n",
        "BOT_TOKEN = '5051044776:AAHh6XjxhRT94iXkR4Eofp2PPHY3Omk2KtI'\n",
        "BOT_CHAT_ID = '-1001542241163'\n",
        "BOT_CHAT_ONE_MINUTE = '-1001542241163'\n",
        "#BOT_CHAT_ONE_MINUTE='-882387563'\n",
        "import requests\n",
        "def telegram_bot_sendtext(bot_message):\n",
        "  bot_message=user_name+':\\n'+bot_message\n",
        "  #send_text = 'https://api.telegram.org/bot' + BOT_TOKEN + '/sendMessage?chat_id=' + BOT_CHAT_ID + \\\n",
        "  #              '&parse_mode=HTML&text=' + bot_message\n",
        "  matches = [\"Candle\"]\n",
        "  if any(x in bot_message for x in matches): check_msg=True\n",
        "  else: check_msg=False\n",
        "  if check_msg==True:\n",
        "    send_text = 'https://api.telegram.org/bot' + BOT_TOKEN + '/sendMessage?chat_id=' + BOT_CHAT_ONE_MINUTE + \\\n",
        "              '&parse_mode=HTML&text=' + bot_message\n",
        "  else:\n",
        "    send_text = 'https://api.telegram.org/bot' + BOT_TOKEN + '/sendMessage?chat_id=' + BOT_CHAT_ID + \\\n",
        "                '&parse_mode=HTML&text=' + bot_message\n",
        "  response = requests.get(send_text)"
      ]
    },
    {
      "cell_type": "code",
      "execution_count": null,
      "metadata": {
        "colab": {
          "base_uri": "https://localhost:8080/"
        },
        "id": "5YUIv3A1Ja2y",
        "outputId": "2b9c82d9-83f3-4676-e2aa-248c0c98a231"
      },
      "outputs": [
        {
          "output_type": "stream",
          "name": "stdout",
          "text": [
            "Welcome Ganesh Panpat ...\n",
            "time: 3.12 s (started: 2023-02-04 09:13:26 +00:00)\n"
          ]
        }
      ],
      "source": [
        "#Angel Login\n",
        "try:\n",
        "  #Token\n",
        "  FEED_TOKEN = None\n",
        "  TOKEN_MAP = None\n",
        "  SMART_API_OBJ = None\n",
        "  global user_name\n",
        "  obj=SmartConnect(api_key=apikey)\n",
        "  data = obj.generateSession(username,pwd,pyotp.TOTP(token).now())\n",
        "  #data = obj.generateSession(username,pwd,totp)\n",
        "  refreshToken= data['data']['refreshToken']\n",
        "  feedToken=obj.getfeedToken()\n",
        "  userProfile= obj.getProfile(refreshToken)\n",
        "  aa= userProfile.get('data')\n",
        "  print('Welcome',aa.get('name').title(),'...')\n",
        "  user_name=aa.get('name').title().split(' ')[0]\n",
        "except Exception as e:\n",
        "  print(\"Unable to login\")\n",
        "  user_name=user\n",
        "  telegram_bot_sendtext(\"Unable to Login : Angel\")"
      ]
    },
    {
      "cell_type": "code",
      "execution_count": null,
      "metadata": {
        "colab": {
          "base_uri": "https://localhost:8080/"
        },
        "id": "SyLzyAn5NJFE",
        "outputId": "36e3a18c-181c-43b8-fec5-a9cdbd68c9c4"
      },
      "outputs": [
        {
          "output_type": "stream",
          "name": "stdout",
          "text": [
            " 09:13:31 | Logged in!!\n",
            "time: 6.25 s (started: 2023-02-04 09:13:29 +00:00)\n"
          ]
        }
      ],
      "source": [
        "#5Paisa Login\n",
        "try:\n",
        "  cred={\"APP_NAME\":\"5P55855873\",\"APP_SOURCE\":\"11252\",\"USER_ID\":\"Qg4DkF1kYJu\",\"PASSWORD\":\"Fa5dP7pSKrk\",\n",
        "      \"USER_KEY\":\"Fu8p5qK2FrzUANDObUHzpCDsEeNys7nY\",\"ENCRYPTION_KEY\":\"iRRqmJ1NEluKmKWHk2UNh4oEGucsfKiN\"}\n",
        "  client = FivePaisaClient(email=\"kalyanipatharkar@gmail.com\", passwd=\"Ganesh$321\", dob=\"19920101\",cred=cred)\n",
        "  client.login()\n",
        "except Exception as e:\n",
        "  user_name=user\n",
        "  telegram_bot_sendtext(\"Unable to Login : 5 Paisa\")"
      ]
    },
    {
      "cell_type": "code",
      "source": [
        "def nirjan_5p_login():\n",
        "  #5Paisa Login\n",
        "  try:\n",
        "    cred={\"APP_NAME\":\"5P57003034\",\"APP_SOURCE\":\"14754\",\"USER_ID\":\"jho0Egx0Qw7\",\"PASSWORD\":\"dFbC2tPeGag\",\n",
        "        \"USER_KEY\":\"LQS3oMu1EckdG8RQdOJuiLL38ESEmY7C\",\"ENCRYPTION_KEY\":\"pbGSWxwNDwZwc0bEZzwevw7x1AVPnzLV\"}\n",
        "    client = FivePaisaClient(email=\"niranjanb001@gmail.com\", passwd=\"niru@#1517\", dob=\"19930315\",cred=cred)\n",
        "    client.login()\n",
        "  except Exception as e:\n",
        "    user_name=user\n",
        "    telegram_bot_sendtext(\"Unable to Login : 5 Paisa\")"
      ],
      "metadata": {
        "colab": {
          "base_uri": "https://localhost:8080/"
        },
        "id": "LoXWcpW2mkZK",
        "outputId": "dad2fcd4-cbfd-4b57-ba8e-45619fb3a9ca"
      },
      "execution_count": null,
      "outputs": [
        {
          "output_type": "stream",
          "name": "stdout",
          "text": [
            "time: 1.22 ms (started: 2023-02-04 09:13:35 +00:00)\n"
          ]
        }
      ]
    },
    {
      "cell_type": "code",
      "execution_count": null,
      "metadata": {
        "colab": {
          "base_uri": "https://localhost:8080/"
        },
        "id": "250ZYlUVsr_n",
        "outputId": "ab1f0423-662b-4991-e9be-7a372610d95c"
      },
      "outputs": [
        {
          "output_type": "stream",
          "name": "stdout",
          "text": [
            "time: 1.86 ms (started: 2023-02-04 09:13:35 +00:00)\n"
          ]
        }
      ],
      "source": [
        "global signal_dict,orb_dict\n",
        "orb_dict = {\"NIFTY_5m_high\": \"-\", \"NIFTY_5m_low\": \"-\",\"NIFTY_15m_high\":\"-\",\"NIFTY_15m_low\":\"-\",\n",
        "          \"BANKNIFTY_5m_high\": \"-\", \"BANKNIFTY_5m_low\": \"-\",\"BANKNIFTY_15m_high\":\"-\",\"BANKNIFTY_15m_low\":\"-\"}\n",
        "signal_dict = {\"NIFTY_1m\": \"-\", \"NIFTY_3m\": \"-\",\"NIFTY_5m\":\"-\",\"NIFTY_15m\":\"-\",\n",
        "      \"BANKNIFTY_1m\": \"-\",\"BANKNIFTY_3m\":\"-\", \"BANKNIFTY_5m\":\"-\",\"BANKNIFTY_15m\":\"-\",\n",
        "      \"NIFTY_1m_indicator\": \"-\", \"NIFTY_3m_indicator\": \"-\",\"NIFTY_5m_indicator\":\"-\",\"NIFTY_15m_indicator\":\"-\",\n",
        "      \"BANKNIFTY_1m_indicator\": \"-\",\"BANKNIFTY_3m_indicator\":\"-\", \"BANKNIFTY_5m_indicator\":\"-\",\"BANKNIFTY_15m_indicator\":\"-\"}"
      ]
    },
    {
      "cell_type": "code",
      "execution_count": null,
      "metadata": {
        "colab": {
          "base_uri": "https://localhost:8080/",
          "height": 441
        },
        "id": "pQIIFuetJuBo",
        "outputId": "e34074c7-9c55-4ddf-db1d-44cf056c258d"
      },
      "outputs": [
        {
          "output_type": "execute_result",
          "data": {
            "text/plain": [
              "                           token                     symbol        name  \\\n",
              "0                          11971                 GOLDIAM-EQ     GOLDIAM   \n",
              "1                          31412               MTEDUCARE-BL   MTEDUCARE   \n",
              "2                           8125                RPSGVENT-BL    RPSGVENT   \n",
              "3                          18154                 HATHWAY-EQ     HATHWAY   \n",
              "4                           1232                  GRASIM-EQ      GRASIM   \n",
              "...                          ...                        ...         ...   \n",
              "89466   GUARSEED1018AUG23CE7200S   GUARSEED1018AUG23CE7200S  GUARSEED10   \n",
              "89467    TMCFGRNZM18AUG23CE9100S    TMCFGRNZM18AUG23CE9100S   TMCFGRNZM   \n",
              "89468     GUARGUM520FEB23PE8400S     GUARGUM520FEB23PE8400S    GUARGUM5   \n",
              "89469      DHANIYA19JUN23PE8000S      DHANIYA19JUN23PE8000S     DHANIYA   \n",
              "89470  JEERAUNJHA20MAR23CE22800S  JEERAUNJHA20MAR23CE22800S  JEERAUNJHA   \n",
              "\n",
              "           expiry     strike lotsize instrumenttype exch_seg   tick_size  \n",
              "0             NaN       -1.0       1                     NSE    5.000000  \n",
              "1             NaN       -1.0       1                     NSE    5.000000  \n",
              "2             NaN       -1.0       1                     NSE    5.000000  \n",
              "3             NaN       -1.0       1                     NSE    5.000000  \n",
              "4             NaN       -1.0       1                     NSE    5.000000  \n",
              "...           ...        ...     ...            ...      ...         ...  \n",
              "89466  2023-08-18   720000.0       5         OPTFUT    NCDEX   50.000000  \n",
              "89467  2023-08-18   910000.0       5         OPTFUT    NCDEX  100.000000  \n",
              "89468  2023-02-20   840000.0       5         OPTFUT    NCDEX   50.000000  \n",
              "89469  2023-06-19   800000.0       5         OPTFUT    NCDEX  100.000000  \n",
              "89470  2023-03-20  2280000.0       3         OPTFUT    NCDEX  100.000000  \n",
              "\n",
              "[89471 rows x 9 columns]"
            ],
            "text/html": [
              "\n",
              "  <div id=\"df-7bc691a3-156f-4cb6-a1a4-9ab644437c64\">\n",
              "    <div class=\"colab-df-container\">\n",
              "      <div>\n",
              "<style scoped>\n",
              "    .dataframe tbody tr th:only-of-type {\n",
              "        vertical-align: middle;\n",
              "    }\n",
              "\n",
              "    .dataframe tbody tr th {\n",
              "        vertical-align: top;\n",
              "    }\n",
              "\n",
              "    .dataframe thead th {\n",
              "        text-align: right;\n",
              "    }\n",
              "</style>\n",
              "<table border=\"1\" class=\"dataframe\">\n",
              "  <thead>\n",
              "    <tr style=\"text-align: right;\">\n",
              "      <th></th>\n",
              "      <th>token</th>\n",
              "      <th>symbol</th>\n",
              "      <th>name</th>\n",
              "      <th>expiry</th>\n",
              "      <th>strike</th>\n",
              "      <th>lotsize</th>\n",
              "      <th>instrumenttype</th>\n",
              "      <th>exch_seg</th>\n",
              "      <th>tick_size</th>\n",
              "    </tr>\n",
              "  </thead>\n",
              "  <tbody>\n",
              "    <tr>\n",
              "      <th>0</th>\n",
              "      <td>11971</td>\n",
              "      <td>GOLDIAM-EQ</td>\n",
              "      <td>GOLDIAM</td>\n",
              "      <td>NaN</td>\n",
              "      <td>-1.0</td>\n",
              "      <td>1</td>\n",
              "      <td></td>\n",
              "      <td>NSE</td>\n",
              "      <td>5.000000</td>\n",
              "    </tr>\n",
              "    <tr>\n",
              "      <th>1</th>\n",
              "      <td>31412</td>\n",
              "      <td>MTEDUCARE-BL</td>\n",
              "      <td>MTEDUCARE</td>\n",
              "      <td>NaN</td>\n",
              "      <td>-1.0</td>\n",
              "      <td>1</td>\n",
              "      <td></td>\n",
              "      <td>NSE</td>\n",
              "      <td>5.000000</td>\n",
              "    </tr>\n",
              "    <tr>\n",
              "      <th>2</th>\n",
              "      <td>8125</td>\n",
              "      <td>RPSGVENT-BL</td>\n",
              "      <td>RPSGVENT</td>\n",
              "      <td>NaN</td>\n",
              "      <td>-1.0</td>\n",
              "      <td>1</td>\n",
              "      <td></td>\n",
              "      <td>NSE</td>\n",
              "      <td>5.000000</td>\n",
              "    </tr>\n",
              "    <tr>\n",
              "      <th>3</th>\n",
              "      <td>18154</td>\n",
              "      <td>HATHWAY-EQ</td>\n",
              "      <td>HATHWAY</td>\n",
              "      <td>NaN</td>\n",
              "      <td>-1.0</td>\n",
              "      <td>1</td>\n",
              "      <td></td>\n",
              "      <td>NSE</td>\n",
              "      <td>5.000000</td>\n",
              "    </tr>\n",
              "    <tr>\n",
              "      <th>4</th>\n",
              "      <td>1232</td>\n",
              "      <td>GRASIM-EQ</td>\n",
              "      <td>GRASIM</td>\n",
              "      <td>NaN</td>\n",
              "      <td>-1.0</td>\n",
              "      <td>1</td>\n",
              "      <td></td>\n",
              "      <td>NSE</td>\n",
              "      <td>5.000000</td>\n",
              "    </tr>\n",
              "    <tr>\n",
              "      <th>...</th>\n",
              "      <td>...</td>\n",
              "      <td>...</td>\n",
              "      <td>...</td>\n",
              "      <td>...</td>\n",
              "      <td>...</td>\n",
              "      <td>...</td>\n",
              "      <td>...</td>\n",
              "      <td>...</td>\n",
              "      <td>...</td>\n",
              "    </tr>\n",
              "    <tr>\n",
              "      <th>89466</th>\n",
              "      <td>GUARSEED1018AUG23CE7200S</td>\n",
              "      <td>GUARSEED1018AUG23CE7200S</td>\n",
              "      <td>GUARSEED10</td>\n",
              "      <td>2023-08-18</td>\n",
              "      <td>720000.0</td>\n",
              "      <td>5</td>\n",
              "      <td>OPTFUT</td>\n",
              "      <td>NCDEX</td>\n",
              "      <td>50.000000</td>\n",
              "    </tr>\n",
              "    <tr>\n",
              "      <th>89467</th>\n",
              "      <td>TMCFGRNZM18AUG23CE9100S</td>\n",
              "      <td>TMCFGRNZM18AUG23CE9100S</td>\n",
              "      <td>TMCFGRNZM</td>\n",
              "      <td>2023-08-18</td>\n",
              "      <td>910000.0</td>\n",
              "      <td>5</td>\n",
              "      <td>OPTFUT</td>\n",
              "      <td>NCDEX</td>\n",
              "      <td>100.000000</td>\n",
              "    </tr>\n",
              "    <tr>\n",
              "      <th>89468</th>\n",
              "      <td>GUARGUM520FEB23PE8400S</td>\n",
              "      <td>GUARGUM520FEB23PE8400S</td>\n",
              "      <td>GUARGUM5</td>\n",
              "      <td>2023-02-20</td>\n",
              "      <td>840000.0</td>\n",
              "      <td>5</td>\n",
              "      <td>OPTFUT</td>\n",
              "      <td>NCDEX</td>\n",
              "      <td>50.000000</td>\n",
              "    </tr>\n",
              "    <tr>\n",
              "      <th>89469</th>\n",
              "      <td>DHANIYA19JUN23PE8000S</td>\n",
              "      <td>DHANIYA19JUN23PE8000S</td>\n",
              "      <td>DHANIYA</td>\n",
              "      <td>2023-06-19</td>\n",
              "      <td>800000.0</td>\n",
              "      <td>5</td>\n",
              "      <td>OPTFUT</td>\n",
              "      <td>NCDEX</td>\n",
              "      <td>100.000000</td>\n",
              "    </tr>\n",
              "    <tr>\n",
              "      <th>89470</th>\n",
              "      <td>JEERAUNJHA20MAR23CE22800S</td>\n",
              "      <td>JEERAUNJHA20MAR23CE22800S</td>\n",
              "      <td>JEERAUNJHA</td>\n",
              "      <td>2023-03-20</td>\n",
              "      <td>2280000.0</td>\n",
              "      <td>3</td>\n",
              "      <td>OPTFUT</td>\n",
              "      <td>NCDEX</td>\n",
              "      <td>100.000000</td>\n",
              "    </tr>\n",
              "  </tbody>\n",
              "</table>\n",
              "<p>89471 rows × 9 columns</p>\n",
              "</div>\n",
              "      <button class=\"colab-df-convert\" onclick=\"convertToInteractive('df-7bc691a3-156f-4cb6-a1a4-9ab644437c64')\"\n",
              "              title=\"Convert this dataframe to an interactive table.\"\n",
              "              style=\"display:none;\">\n",
              "        \n",
              "  <svg xmlns=\"http://www.w3.org/2000/svg\" height=\"24px\"viewBox=\"0 0 24 24\"\n",
              "       width=\"24px\">\n",
              "    <path d=\"M0 0h24v24H0V0z\" fill=\"none\"/>\n",
              "    <path d=\"M18.56 5.44l.94 2.06.94-2.06 2.06-.94-2.06-.94-.94-2.06-.94 2.06-2.06.94zm-11 1L8.5 8.5l.94-2.06 2.06-.94-2.06-.94L8.5 2.5l-.94 2.06-2.06.94zm10 10l.94 2.06.94-2.06 2.06-.94-2.06-.94-.94-2.06-.94 2.06-2.06.94z\"/><path d=\"M17.41 7.96l-1.37-1.37c-.4-.4-.92-.59-1.43-.59-.52 0-1.04.2-1.43.59L10.3 9.45l-7.72 7.72c-.78.78-.78 2.05 0 2.83L4 21.41c.39.39.9.59 1.41.59.51 0 1.02-.2 1.41-.59l7.78-7.78 2.81-2.81c.8-.78.8-2.07 0-2.86zM5.41 20L4 18.59l7.72-7.72 1.47 1.35L5.41 20z\"/>\n",
              "  </svg>\n",
              "      </button>\n",
              "      \n",
              "  <style>\n",
              "    .colab-df-container {\n",
              "      display:flex;\n",
              "      flex-wrap:wrap;\n",
              "      gap: 12px;\n",
              "    }\n",
              "\n",
              "    .colab-df-convert {\n",
              "      background-color: #E8F0FE;\n",
              "      border: none;\n",
              "      border-radius: 50%;\n",
              "      cursor: pointer;\n",
              "      display: none;\n",
              "      fill: #1967D2;\n",
              "      height: 32px;\n",
              "      padding: 0 0 0 0;\n",
              "      width: 32px;\n",
              "    }\n",
              "\n",
              "    .colab-df-convert:hover {\n",
              "      background-color: #E2EBFA;\n",
              "      box-shadow: 0px 1px 2px rgba(60, 64, 67, 0.3), 0px 1px 3px 1px rgba(60, 64, 67, 0.15);\n",
              "      fill: #174EA6;\n",
              "    }\n",
              "\n",
              "    [theme=dark] .colab-df-convert {\n",
              "      background-color: #3B4455;\n",
              "      fill: #D2E3FC;\n",
              "    }\n",
              "\n",
              "    [theme=dark] .colab-df-convert:hover {\n",
              "      background-color: #434B5C;\n",
              "      box-shadow: 0px 1px 3px 1px rgba(0, 0, 0, 0.15);\n",
              "      filter: drop-shadow(0px 1px 2px rgba(0, 0, 0, 0.3));\n",
              "      fill: #FFFFFF;\n",
              "    }\n",
              "  </style>\n",
              "\n",
              "      <script>\n",
              "        const buttonEl =\n",
              "          document.querySelector('#df-7bc691a3-156f-4cb6-a1a4-9ab644437c64 button.colab-df-convert');\n",
              "        buttonEl.style.display =\n",
              "          google.colab.kernel.accessAllowed ? 'block' : 'none';\n",
              "\n",
              "        async function convertToInteractive(key) {\n",
              "          const element = document.querySelector('#df-7bc691a3-156f-4cb6-a1a4-9ab644437c64');\n",
              "          const dataTable =\n",
              "            await google.colab.kernel.invokeFunction('convertToInteractive',\n",
              "                                                     [key], {});\n",
              "          if (!dataTable) return;\n",
              "\n",
              "          const docLinkHtml = 'Like what you see? Visit the ' +\n",
              "            '<a target=\"_blank\" href=https://colab.research.google.com/notebooks/data_table.ipynb>data table notebook</a>'\n",
              "            + ' to learn more about interactive tables.';\n",
              "          element.innerHTML = '';\n",
              "          dataTable['output_type'] = 'display_data';\n",
              "          await google.colab.output.renderOutput(dataTable, element);\n",
              "          const docLink = document.createElement('div');\n",
              "          docLink.innerHTML = docLinkHtml;\n",
              "          element.appendChild(docLink);\n",
              "        }\n",
              "      </script>\n",
              "    </div>\n",
              "  </div>\n",
              "  "
            ]
          },
          "metadata": {},
          "execution_count": 14
        },
        {
          "output_type": "stream",
          "name": "stdout",
          "text": [
            "time: 7.47 s (started: 2023-02-04 09:13:35 +00:00)\n"
          ]
        }
      ],
      "source": [
        "#Get Token Data\n",
        "url = 'https://margincalculator.angelbroking.com/OpenAPI_File/files/OpenAPIScripMaster.json'\n",
        "d = requests.get(url).json()\n",
        "token_df = pd.DataFrame.from_dict(d)\n",
        "token_df['expiry'] = pd.to_datetime(token_df['expiry']).apply(lambda x: x.date())\n",
        "token_df = token_df.astype({'strike': float})\n",
        "d=None\n",
        "token_df"
      ]
    },
    {
      "cell_type": "code",
      "execution_count": null,
      "metadata": {
        "colab": {
          "base_uri": "https://localhost:8080/"
        },
        "id": "RkDWFk1EJzVn",
        "outputId": "d02cb2b8-1e9b-4e15-99fe-040f125e57c4"
      },
      "outputs": [
        {
          "output_type": "stream",
          "name": "stdout",
          "text": [
            "time: 11.8 ms (started: 2023-02-04 09:13:43 +00:00)\n"
          ]
        }
      ],
      "source": [
        "#Get Token Info\n",
        "def getTokenInfo (symbol, exch_seg ='NSE',instrumenttype='OPTIDX',strike_price = '',pe_ce = 'CE',expiry_day = None):\n",
        "    df = token_df\n",
        "    strike_price = strike_price*100\n",
        "    if exch_seg == 'NSE':\n",
        "        eq_df = df[(df['exch_seg'] == 'NSE') ]\n",
        "        #return df[(df['exch_seg'] == 'NSE') & (df['name']== (symbol)) & (df['symbol'].str.endswith('-EQ'))]\n",
        "        return eq_df[eq_df['name'] == symbol]\n",
        "    elif exch_seg == 'NFO' and ((instrumenttype == 'FUTSTK') or (instrumenttype == 'FUTIDX')):\n",
        "        return df[(df['exch_seg'] == 'NFO') & (df['instrumenttype'] == instrumenttype) & (df['name'] == symbol)].sort_values(by=['expiry'])\n",
        "    elif exch_seg == 'NFO' and (instrumenttype == 'OPTSTK' or instrumenttype == 'OPTIDX'):\n",
        "        return (df[(df['exch_seg'] == 'NFO') & (df['expiry']==expiry_day) &  (df['instrumenttype'] == instrumenttype) & (df['name'] == symbol) \n",
        "        & (df['strike'] == strike_price) & (df['symbol'].str.endswith(pe_ce))].sort_values(by=['expiry']))"
      ]
    },
    {
      "cell_type": "code",
      "execution_count": null,
      "metadata": {
        "colab": {
          "base_uri": "https://localhost:8080/"
        },
        "id": "A8fzU6TJJ4q4",
        "outputId": "a0b03dac-2fac-41a4-e374-2180e695ce8c"
      },
      "outputs": [
        {
          "output_type": "execute_result",
          "data": {
            "text/plain": [
              "(datetime.date(2023, 2, 9),\n",
              " datetime.date(2023, 2, 16),\n",
              " datetime.date(2023, 2, 23),\n",
              " 'BANKNIFTY23FEB23FUT',\n",
              " '48756',\n",
              " 'NIFTY23FEB23FUT',\n",
              " '48757')"
            ]
          },
          "metadata": {},
          "execution_count": 16
        },
        {
          "output_type": "stream",
          "name": "stdout",
          "text": [
            "time: 798 ms (started: 2023-02-04 09:13:43 +00:00)\n"
          ]
        }
      ],
      "source": [
        "# Get Expire Days and future token\n",
        "now_dt=datetime.datetime.now(tz=gettz('Asia/Kolkata')).date()\n",
        "expiry_df=token_df\n",
        "expiry_df = expiry_df[(token_df['name'] == 'BANKNIFTY') & (token_df['instrumenttype'] == 'OPTIDX') & (token_df['expiry']>=now_dt)]\n",
        "expiry_day = expiry_df['expiry'].min()\n",
        "next_expiry_df = expiry_df[(token_df['name'] == 'BANKNIFTY') & (token_df['instrumenttype'] == 'OPTIDX') & (token_df['expiry']>expiry_day)]\n",
        "next_expiry_day = next_expiry_df['expiry'].min()\n",
        "monthly_expiry_df = token_df[(token_df['name'] == 'BANKNIFTY') & (token_df['instrumenttype'] == 'FUTIDX')  & (token_df['expiry']>=now_dt)]\n",
        "monthly_expiry_day = monthly_expiry_df['expiry'].min()\n",
        "bnf_future = getTokenInfo('BANKNIFTY','NFO','FUTIDX','','',monthly_expiry_day).iloc[0]\n",
        "bnf_future_symbol=bnf_future['symbol']\n",
        "bnf_future_token=bnf_future['token']\n",
        "nf_future = getTokenInfo('NIFTY','NFO','FUTIDX','','',monthly_expiry_day).iloc[0]\n",
        "nf_future_symbol=nf_future['symbol']\n",
        "nf_future_token=nf_future['token']\n",
        "expiry_day,next_expiry_day,monthly_expiry_day,bnf_future_symbol,bnf_future_token,nf_future_symbol,nf_future_token"
      ]
    },
    {
      "cell_type": "code",
      "execution_count": null,
      "metadata": {
        "colab": {
          "base_uri": "https://localhost:8080/"
        },
        "id": "8WARtxIfcDWo",
        "outputId": "2ff50e7a-d967-4892-888d-dc778fa2159a"
      },
      "outputs": [
        {
          "output_type": "stream",
          "name": "stdout",
          "text": [
            "time: 11.9 ms (started: 2023-02-04 09:13:44 +00:00)\n"
          ]
        }
      ],
      "source": [
        "#get near option\n",
        "def get_near_options(symbol):\n",
        "  symbol_index=\"NIFTY\" if symbol[:5]==\"NIFTY\" else \"BANKNIFTY\"\n",
        "  indexLtp=get_index_ltp(symbol_index)\n",
        "  ltp=indexLtp*100\n",
        "  symbol_index,indexLtp\n",
        "  if symbol[-2:]==\"PE\":\n",
        "    df = token_df[(token_df['name'] == symbol_index)  & (token_df['expiry']==expiry_day) & (token_df['strike']<ltp) &\n",
        "              (token_df['symbol'].str.endswith('PE')) & (token_df['symbol']!=symbol)]\n",
        "    df=df.sort_values('strike', ascending=False).head(3)\n",
        "  else:\n",
        "    df = token_df[(token_df['name'] == symbol_index) & (token_df['expiry']==expiry_day) & (token_df['strike']>=ltp) &\n",
        "                (token_df['symbol'].str.endswith('CE')) & (token_df['symbol']!=symbol)]\n",
        "    df=df.sort_values('strike', ascending=True).head(3)\n",
        "  return df"
      ]
    },
    {
      "cell_type": "code",
      "execution_count": null,
      "metadata": {
        "colab": {
          "base_uri": "https://localhost:8080/"
        },
        "id": "3Tb_CxBezPoJ",
        "outputId": "8fae3949-ddb1-4941-c663-24071562365e"
      },
      "outputs": [
        {
          "output_type": "stream",
          "name": "stdout",
          "text": [
            "time: 11.5 ms (started: 2023-02-04 09:13:44 +00:00)\n"
          ]
        }
      ],
      "source": [
        "def near_option_list(symbol,indicator_strategy,interval):\n",
        "  try:\n",
        "    df=get_near_options(symbol)\n",
        "    if symbol[:5]=='NIFTY': stoploss,target=40,20\n",
        "    else: stoploss,target=80,40\n",
        "    for i in df.index:\n",
        "      option_token=df['token'][i]\n",
        "      option_symbol=df['symbol'][i]\n",
        "      lotsize=df['lotsize'][i]\n",
        "      target= banknifty_target if option_symbol[:4]=='BANK' else nifty_target\n",
        "      stop_loss= banknifty_sl if option_symbol[:4]=='BANK' else nifty_sl\n",
        "      trade_price=place_order(token=option_token,symbol=option_symbol,qty=lotsize,buy_sell='BUY',ordertype='MARKET',price=0,\n",
        "                    variety='NORMAL',exch_seg='NFO',producttype='CARRYFORWARD')\n",
        "      if trade_price!=\"-\":\n",
        "        #ltpInfo = obj.ltpData('NFO',option_symbol,option_token)\n",
        "        #ltp_price = ltpInfo['data']['ltp']\n",
        "        ltp_price=get_ltp_price(symbol=option_symbol,token=option_token,exch_seg=\"NFO\")\n",
        "        order_price=ltp_price if trade_price=='-' else trade_price\n",
        "        tm=datetime.now(tz=gettz('Asia/Kolkata')).replace(microsecond=0, tzinfo=None)\n",
        "        if trade_exit=='percent' or trade_exit=='indicator':\n",
        "          target_price=(order_price*(100+percent_target))/100\n",
        "          stop_loss_price=(order_price*(100-percent_loss))/100\n",
        "        elif trade_exit=='points':\n",
        "          target_price=order_price+target\n",
        "          stop_loss_price=order_price-stop_loss\n",
        "        if target_order_type==\"Target\":\n",
        "          place_order(token=option_token,symbol=option_symbol,qty=lotsize,buy_sell='SELL',ordertype='LIMIT',price=(target_price),\n",
        "            variety='NORMAL',exch_seg='NFO',producttype='CARRYFORWARD')\n",
        "        elif target_order_type==\"Stop_Loss\":\n",
        "          place_order(token=option_token,symbol=option_symbol,qty=lotsize,buy_sell='SELL',ordertype='STOPLOSS_LIMIT',price=stop_loss_price,\n",
        "            variety='STOPLOSS',exch_seg='NFO',producttype='CARRYFORWARD',triggerprice=stop_loss_price,squareoff=stop_loss_price, stoploss=stop_loss_price)\n",
        "        print ('***Buy: ',option_symbol, ' Price: ',trade_price,' Indicator: ',indicator_strategy)\n",
        "        buy_msg=('Buy: '+'\\n'+option_symbol+'\\nPrice: '+str(trade_price)+' LTP: '+str(ltp_price)+'\\n'+str(indicator_strategy) \n",
        "            +'\\nTarget: '+str(target_price)+'\\nStop Loss: '+str(stop_loss_price)+ '\\nBuy Time: '+str(tm)+'\\nIndex SL: '+'-')\n",
        "        telegram_bot_sendtext(buy_msg)\n",
        "        break\n",
        "  except Exception as e:\n",
        "    print(\"Error in near_option_list\",e)"
      ]
    },
    {
      "cell_type": "code",
      "execution_count": null,
      "metadata": {
        "colab": {
          "base_uri": "https://localhost:8080/"
        },
        "id": "Fuc4olifJ8Cy",
        "outputId": "52064798-9621-4016-a0ae-4024c4cf8ab6"
      },
      "outputs": [
        {
          "output_type": "stream",
          "name": "stdout",
          "text": [
            "time: 1.09 ms (started: 2023-02-04 09:13:44 +00:00)\n"
          ]
        }
      ],
      "source": [
        "#Get Index Token\n",
        "def getTokenInfo_index(symbol):\n",
        "  df = token_df\n",
        "  return df[(df['exch_seg'] == 'NSE') & (df['symbol']== (symbol))]"
      ]
    },
    {
      "cell_type": "code",
      "execution_count": null,
      "metadata": {
        "colab": {
          "base_uri": "https://localhost:8080/"
        },
        "id": "5QoyWMOtKAnQ",
        "outputId": "c62a3d8d-0659-4272-c34a-3e001f6abe5b"
      },
      "outputs": [
        {
          "output_type": "stream",
          "name": "stdout",
          "text": [
            "time: 10.8 ms (started: 2023-02-04 09:13:44 +00:00)\n"
          ]
        }
      ],
      "source": [
        "# Get Open Position\n",
        "def get_open_position():\n",
        "  global pnl\n",
        "  try:\n",
        "    open_position=obj.position()['data']\n",
        "    if isinstance(open_position,list)!=True :\n",
        "      open_position='No Open Position'; pnl=0\n",
        "      return open_position\n",
        "    else:\n",
        "      open_position=pd.DataFrame(open_position)\n",
        "      open_position=open_position[['symboltoken','tradingsymbol','instrumenttype','exchange','netprice','cfbuyavgprice','avgnetprice','netqty','realised','unrealised','ltp']]\n",
        "      open_position['realised'] = open_position['realised'].astype(float)\n",
        "      open_position['unrealised'] = open_position['unrealised'].astype(float)\n",
        "      pnl=float(open_position['realised'].sum())+float(open_position['unrealised'].sum())\n",
        "      open_position = open_position[(open_position['netqty'] > '0') & (open_position['instrumenttype'] == 'OPTIDX')]\n",
        "      open_position['Buy Rate']='-'\n",
        "      open_position['Target']='-'\n",
        "      open_position['Stop Loss']='-'\n",
        "      trade_book=obj.tradeBook()['data']\n",
        "      sleep(1)\n",
        "      if isinstance(trade_book,NoneType)!=True:\n",
        "        trade_book=pd.DataFrame(trade_book)\n",
        "        trade_book=trade_book.sort_values(by=['filltime'], ascending=False)\n",
        "      for i in open_position.index:\n",
        "        tradingsymbol=open_position['tradingsymbol'][i]\n",
        "        open_position['Buy Rate'][i]=open_position['netprice'][i]\n",
        "        if isinstance(trade_book,NoneType)!=True:\n",
        "          symbol_trade_book=trade_book[(trade_book['tradingsymbol'] == tradingsymbol) & (trade_book['transactiontype'] == 'BUY')]\n",
        "          if len(symbol_trade_book)!=0:\n",
        "            open_position['Buy Rate'][i]=symbol_trade_book.iloc[0]['fillprice']\n",
        "        elif int(float(open_position['avgnetprice'][i]))==0:\n",
        "          open_position['Buy Rate'][i]=open_position['cfbuyavgprice'][i]\n",
        "        open_position['Target'][i]= float(int(float(open_position['Buy Rate'][i])))*1.3\n",
        "        open_position['Stop Loss'][i]= float(int(float(open_position['Buy Rate'][i])))*0.5\n",
        "      if len(open_position)==0:\n",
        "        open_position='No Open Position'\n",
        "        return open_position\n",
        "      d=open_position\n",
        "      d = d.rename(columns={'symboltoken':'Token','tradingsymbol':'Symbol','netqty':'Qty','realised':'PL','unrealised':'UPL'})\n",
        "      print(d[['Token', 'Symbol','Qty','Buy Rate','Target','Stop Loss','ltp','PL','UPL']].to_string(index=False))\n",
        "      return open_position\n",
        "  except Exception as e:\n",
        "    open_position='No Open Position'\n",
        "    print(\"Error in get_open_position\",e)\n",
        "    return open_position"
      ]
    },
    {
      "cell_type": "code",
      "execution_count": null,
      "metadata": {
        "colab": {
          "base_uri": "https://localhost:8080/"
        },
        "id": "deV7EST0KCwH",
        "outputId": "6c96ab0b-727f-4d5d-d496-b7fa5046c4a6"
      },
      "outputs": [
        {
          "output_type": "stream",
          "name": "stdout",
          "text": [
            "time: 4.49 ms (started: 2023-02-04 09:13:46 +00:00)\n"
          ]
        }
      ],
      "source": [
        "#Get Last Buy Price of order\n",
        "def get_price_of_position(symbol):\n",
        "  price='-'\n",
        "  position=obj.position()['data']\n",
        "  position=pd.DataFrame(position)\n",
        "  position=position[(position['tradingsymbol']==symbol)]\n",
        "  price=position.iloc[0]['cfbuyavgprice']\n",
        "  trade_book=obj.tradeBook()['data']\n",
        "  if isinstance(trade_book,NoneType)!=True:\n",
        "    trade_book=pd.DataFrame(trade_book)\n",
        "    trade_book = trade_book[(trade_book['tradingsymbol'] == symbol) & (trade_book['transactiontype'] == 'BUY')]\n",
        "    no_of_trades=(len(trade_book))\n",
        "    if no_of_trades!=0:\n",
        "      trade_book=trade_book.sort_values(by=['filltime'], ascending=False)\n",
        "      price=trade_book.iloc[0]['fillprice']\n",
        "  return price"
      ]
    },
    {
      "cell_type": "code",
      "execution_count": null,
      "metadata": {
        "colab": {
          "base_uri": "https://localhost:8080/"
        },
        "id": "7t_oKhv1LZ0J",
        "outputId": "3308c5e7-3a2e-4981-f106-050e548337ce"
      },
      "outputs": [
        {
          "output_type": "stream",
          "name": "stdout",
          "text": [
            "time: 3.75 ms (started: 2023-02-04 09:13:46 +00:00)\n"
          ]
        }
      ],
      "source": [
        "# Get Active Order or position\n",
        "def get_active_order(symbol):\n",
        "  try:\n",
        "    orderId,orderPrice='NoOrder','NoOrder'\n",
        "    orderBook=obj.orderBook()['data']\n",
        "    if isinstance(orderBook,NoneType)!=True:\n",
        "      d= pd.DataFrame.from_dict(obj.orderBook()['data'])\n",
        "      orderBook=d[['orderid','exchange','transactiontype','orderstatus','symboltoken','tradingsymbol','price',\n",
        "                  'quantity','updatetime','variety','ordertype','producttype']]\n",
        "      orderBook = orderBook[(orderBook['tradingsymbol'] == symbol) & \n",
        "                            ((orderBook['orderstatus'] != 'complete') & (orderBook['orderstatus'] != 'cancelled') &\n",
        "                             (orderBook['orderstatus'] != 'rejected') & (orderBook['orderstatus'] != 'AMO CANCELLED'))]\n",
        "      if len(orderBook)==0: orderId,orderPrice='NoOrder','NoOrder'\n",
        "      elif len(orderBook) !=0:\n",
        "          orderId=orderBook.iloc[0]['orderid']\n",
        "          orderPrice=int(orderBook.iloc[0]['price'])\n",
        "    return orderId,orderPrice\n",
        "  except Exception as e:\n",
        "    orderId,orderPrice='NoOrder','NoOrder'\n",
        "    return orderId,orderPrice"
      ]
    },
    {
      "cell_type": "code",
      "execution_count": null,
      "metadata": {
        "colab": {
          "base_uri": "https://localhost:8080/"
        },
        "id": "4CeJEJzC5Eti",
        "outputId": "167b3232-938f-4da1-b302-5ef7a9217e9b"
      },
      "outputs": [
        {
          "output_type": "stream",
          "name": "stdout",
          "text": [
            "time: 3.4 ms (started: 2023-02-04 09:13:46 +00:00)\n"
          ]
        }
      ],
      "source": [
        "def get_todays_trade_index(symbol,interval=\"-\",candle_type=\"-\",token=\"-\",exch_seg=\"-\",dat='-'):\n",
        "  df=get_historical_data(symbol=symbol,interval=interval,candle_type=candle_type,token=token,exch_seg=exch_seg)\n",
        "  df['Trade Time'] = df.index\n",
        "  df = df[(df['Date'] == dat) & (df['Trade'] != '-')]\n",
        "  df=df.reset_index()\n",
        "  for i in range(0,len(df)):\n",
        "    if df['Time Frame'].iloc[i]==\"Candle Pattern\": df['Trade Time'].iloc[i]=df['Trade Time'].iloc[i] + timedelta(minutes=3)\n",
        "    elif df['Time Frame'].iloc[i]==\"5m\": df['Trade Time'].iloc[i]=df['Trade Time'].iloc[i] + timedelta(minutes=5)\n",
        "    elif df['Time Frame'].iloc[i]==\"15m\": df['Trade Time'].iloc[i]=df['Trade Time'].iloc[i] + timedelta(minutes=15)\n",
        "  df=df[['Trade Time','Close','Trade','Trade End','Indicator']]\n",
        "  df['Trade End Time']= datetime.datetime.now(tz=gettz('Asia/Kolkata')).replace(hour=15, minute=29, second=0, microsecond=0, tzinfo=None)\n",
        "  df['Exit Indicator']='-'\n",
        "  df['Symbol']=\"BANKNIFTY\" if symbol==\"^NSEBANK\" else \"NIFTY\"\n",
        "  df['Remark']='-'\n",
        "  return df"
      ]
    },
    {
      "cell_type": "code",
      "execution_count": null,
      "metadata": {
        "colab": {
          "base_uri": "https://localhost:8080/"
        },
        "id": "wkbtGjv66hD_",
        "outputId": "cc118edd-5f3f-4a3c-e0ae-f9d2ee6ee6be"
      },
      "outputs": [
        {
          "output_type": "stream",
          "name": "stdout",
          "text": [
            "time: 11.5 ms (started: 2023-02-04 09:13:46 +00:00)\n"
          ]
        }
      ],
      "source": [
        "def get_all_trade_list():\n",
        "  dat=(datetime.datetime.now(tz=gettz('Asia/Kolkata'))- timedelta(days=1)).strftime(\"%m/%d/%y\")\n",
        "  nf_trade_5_min=get_todays_trade_index(symbol=\"^NSEI\",interval=\"5m\",candle_type=\"NORMAL\",dat=dat)\n",
        "  nf_trade_15_min=get_todays_trade_index(symbol=\"^NSEI\",interval=\"15m\",candle_type=\"NORMAL\",dat=dat)\n",
        "  bnf_trade_5_min=get_todays_trade_index(symbol=\"^NSEBANK\",interval=\"5m\",candle_type=\"NORMAL\",dat=dat)\n",
        "  bnf_trade_15_min=get_todays_trade_index(symbol=\"^NSEBANK\",interval=\"15m\",candle_type=\"NORMAL\",dat=dat)\n",
        "  nf_trade_3_min=get_todays_trade_index(symbol=nf_future['symbol'],interval=\"3m\",candle_type=\"NORMAL\",token=nf_future['token'],exch_seg=nf_future['exch_seg'],dat=dat)\n",
        "  all_trade=pd.DataFrame()\n",
        "  all_trade=all_trade.append(nf_trade_5_min)\n",
        "  all_trade=all_trade.append(nf_trade_15_min)\n",
        "  all_trade=all_trade.append(bnf_trade_5_min)\n",
        "  all_trade=all_trade.append(bnf_trade_15_min)\n",
        "  #all_trade=all_trade.append(nf_trade_3_min)\n",
        "  all_trade.sort_values(by=['Trade Time'], ascending = True, inplace=True)\n",
        "  for i in range(0,len(all_trade)):\n",
        "    for j in range(i+1,len(all_trade)):\n",
        "      if all_trade['Trade'].iloc[j]!= all_trade['Trade'].iloc[i] and all_trade['Symbol'].iloc[j]!= all_trade['Symbol'].iloc[i]:\n",
        "        all_trade['Trade End Time'].iloc[i]=all_trade['Trade Time'].iloc[j]\n",
        "        all_trade['Exit Indicator'].iloc[i]=all_trade['Indicator'].iloc[j]\n",
        "        break\n",
        "  all_trade=all_trade.append(nf_trade_3_min)\n",
        "  all_trade.sort_values(by=['Trade Time'], ascending = True, inplace=True)\n",
        "  return all_trade"
      ]
    },
    {
      "cell_type": "code",
      "execution_count": null,
      "metadata": {
        "colab": {
          "base_uri": "https://localhost:8080/"
        },
        "id": "nZNhw8arkmS3",
        "outputId": "f2de7810-c0a1-4dd2-994b-aa054904becf"
      },
      "outputs": [
        {
          "output_type": "stream",
          "name": "stdout",
          "text": [
            "time: 2.9 ms (started: 2023-02-04 09:13:46 +00:00)\n"
          ]
        }
      ],
      "source": [
        "def get_indicator_todays_trade(orderdf,all_trade):\n",
        "  for i in range(0,len(orderdf)):\n",
        "    tm= orderdf['updatetime'].iloc[i].replace(second=0,microsecond=0)\n",
        "    for j in range(0,len(all_trade)):\n",
        "      if all_trade['Trade Time'].iloc[j]==tm and all_trade['Symbol'].iloc[j][:4]==orderdf['Symbol'].iloc[i][:4] and all_trade['Remark'].iloc[j]=='-':\n",
        "        all_trade['Remark'].iloc[j]='Taken'\n",
        "        orderdf['Strategy'].iloc[i]=all_trade['Indicator'].iloc[j]\n",
        "        orderdf['Exit Time'].iloc[i]=all_trade['Trade End Time'].iloc[j]\n",
        "        orderdf['Sell Indicator'].iloc[i]=all_trade['Exit Indicator'].iloc[j]\n",
        "  return orderdf\n"
      ]
    },
    {
      "cell_type": "code",
      "execution_count": null,
      "metadata": {
        "colab": {
          "base_uri": "https://localhost:8080/"
        },
        "id": "jFVNuejA8Kkn",
        "outputId": "70697cd3-4d87-446a-ece3-65badced0295"
      },
      "outputs": [
        {
          "output_type": "stream",
          "name": "stdout",
          "text": [
            "time: 12.3 ms (started: 2023-02-04 09:13:46 +00:00)\n"
          ]
        }
      ],
      "source": [
        "def update_price_orderbook(df):\n",
        "  for j in range(0,len(df)):\n",
        "    try:\n",
        "      if df['price'].iloc[j]==0:\n",
        "        text=df['text'].iloc[j]\n",
        "        ordertag=df['ordertag'].iloc[j]\n",
        "        if 'You require Rs. ' in text and ' funds to execute this order.' in text and type(text)==str :\n",
        "          abc='-'\n",
        "          abc=(text.split('You require Rs. '))[1].split(' funds to execute this order.')[0]\n",
        "          if abc!='-' and int(float(abc)) <= 50000:\n",
        "            df['price'].iloc[j]=(round(float(abc)/float(df['quantity'].iloc[j]),2))\n",
        "        if \"LTP: \" in ordertag:\n",
        "          df['price'].iloc[j]=float(ordertag.split(\"LTP: \",1)[1])\n",
        "        if df['price'].iloc[j]==0:df['price'].iloc[j]='-'\n",
        "    except Exception as e:\n",
        "      pass\n",
        "  return df"
      ]
    },
    {
      "cell_type": "code",
      "execution_count": null,
      "metadata": {
        "colab": {
          "base_uri": "https://localhost:8080/"
        },
        "id": "1YuvyD9230UR",
        "outputId": "44a5730c-e643-44be-ed4e-27143f0c771f"
      },
      "outputs": [
        {
          "output_type": "stream",
          "name": "stdout",
          "text": [
            "time: 17.9 ms (started: 2023-02-04 09:13:46 +00:00)\n"
          ]
        }
      ],
      "source": [
        "def get_todays_trade():\n",
        "  global todays_trade_log,orderbook,pending_trade\n",
        "  try:\n",
        "    get_order_book()\n",
        "    if len(orderbook)==0:\n",
        "      todays_trade_log = pd.DataFrame(columns = ['updatetime','symboltoken','tradingsymbol','exchange','price','ordertag',\n",
        "          'Sell','Exit Time','quantity','Sell Indicator','Status','LTP','Profit','Index SL','Time Frame','Stop Loss','Target'])\n",
        "    else:\n",
        "      sell_df=orderbook[(orderbook['transactiontype']==\"SELL\") & ((orderbook['status']==\"complete\") | (orderbook['status']==\"rejected\"))]\n",
        "      buy_df=orderbook[(orderbook['transactiontype']==\"BUY\") & ((orderbook['status']==\"complete\") | (orderbook['status']==\"rejected\"))]\n",
        "      sell_df['Remark']='-';buy_df['Sell']='-'\n",
        "      buy_df['Exit Time']=datetime.datetime.now(tz=gettz('Asia/Kolkata')).replace(hour=15, minute=30, second=0, microsecond=0,tzinfo=None)\n",
        "      buy_df['Sell Indicator']='-'\n",
        "      buy_df['Status']='Pending'\n",
        "      buy_df['LTP']='-';buy_df['Profit']='-'\n",
        "      buy_df['Index SL']='-';buy_df['Time Frame']='-'\n",
        "      for i in range(0,len(buy_df)):\n",
        "        symbol=buy_df['tradingsymbol'].iloc[i]\n",
        "        updatetime=buy_df['updatetime'].iloc[i]\n",
        "        for j in range(0,len(sell_df)):\n",
        "          if sell_df['tradingsymbol'].iloc[j]==symbol and sell_df['updatetime'].iloc[j] >= updatetime and sell_df['Remark'].iloc[j] =='-':\n",
        "            buy_df['Sell'].iloc[i]=sell_df['price'].iloc[j]\n",
        "            buy_df['Exit Time'].iloc[i]=sell_df['updatetime'].iloc[j]\n",
        "            buy_df['Sell Indicator'].iloc[i]=sell_df['ordertag'].iloc[j]\n",
        "            buy_df['Status'].iloc[i]='Closed'\n",
        "            sell_df['Remark'].iloc[j]='Taken'\n",
        "            break\n",
        "      for i in range(0,len(buy_df)):\n",
        "        if buy_df['Status'].iloc[i]=='Pending':\n",
        "          buy_df['LTP'].iloc[i]=get_ltp_price(symbol=buy_df['tradingsymbol'].iloc[i],token=buy_df['symboltoken'].iloc[i],exch_seg=buy_df['exchange'].iloc[i])\n",
        "          buy_df['Profit'].iloc[i]=(float(buy_df['LTP'].iloc[i])-float(buy_df['price'].iloc[i]))*float(buy_df['quantity'].iloc[i])\n",
        "        else:\n",
        "          buy_df['Profit'].iloc[i]=(float(buy_df['Sell'].iloc[i])-float(buy_df['price'].iloc[i]))*float(buy_df['quantity'].iloc[i])\n",
        "      if trade_exit==\"percent\":\n",
        "        buy_df['Stop Loss']=buy_df['price']*0.5\n",
        "        buy_df['Target']=buy_df['price']*1.3\n",
        "      elif trade_exit==\"indicator\":\n",
        "        buy_df['Stop Loss']=buy_df['price']*0.001\n",
        "        buy_df['Target']=buy_df['price']*10\n",
        "      elif trade_exit==\"points\":\n",
        "        buy_df['Target']='-';buy_df['Stop Loss']='-'\n",
        "        for i in range(0,len(buy_df)):\n",
        "          buy_df['Target'].iloc[i]=buy_df['price'].iloc[i]+(banknifty_target if buy_df['tradingsymbol'].iloc[i][:4]==\"BANK\" else nifty_target)\n",
        "          buy_df['Stop Loss'].iloc[i]=buy_df['price'].iloc[i]-(banknifty_sl if buy_df['tradingsymbol'].iloc[i][:4]==\"BANK\" else nifty_sl)\n",
        "      for i in range(0,len(buy_df)):\n",
        "        if buy_df['ordertag'].iloc[i]!=\"-\" or buy_df['ordertag'].iloc[i]!='':\n",
        "          if buy_df['ordertag'].iloc[i][:2]==\"5m\": buy_df['Time Frame'].iloc[i]='5m'\n",
        "          elif buy_df['ordertag'].iloc[i][:3]==\"15m\": buy_df['Time Frame'].iloc[i]='15m'\n",
        "          elif buy_df['ordertag'].iloc[i][:2]==\"Ca\": buy_df['Time Frame'].iloc[i]='Candle Pattern'\n",
        "          elif buy_df['ordertag'].iloc[i][:2]==\"3m\": buy_df['Time Frame'].iloc[i]='3m'\n",
        "        if buy_df['ordertag'].iloc[i]=='-':\n",
        "          buy_df['ordertag'].iloc[i]='-';buy_df['Time Frame'].iloc[i]='-'\n",
        "      todays_trade_log=buy_df\n",
        "      todays_trade_log=todays_trade_log.sort_values(by = ['Status', 'updatetime'], ascending = [True, True], na_position = 'first')\n",
        "      todays_trade_log['updatetime'] = pd.to_datetime(todays_trade_log['updatetime']).dt.time\n",
        "      todays_trade_log['Exit Time'] = pd.to_datetime(todays_trade_log['Exit Time']).dt.time\n",
        "      todays_trade_log=todays_trade_log.round(2)\n",
        "      todays_trade_log['High']='-'\n",
        "      todays_trade_log['Low']='-'\n",
        "      for i in range(0,len(todays_trade_log)):\n",
        "        ordertag=todays_trade_log['ordertag'].iloc[i]\n",
        "        if \"Index SL: \" in ordertag: todays_trade_log['Index SL'].iloc[i]=float(ordertag.split(\"Index SL: \",1)[1])\n",
        "      print(\"Realised:\",int(todays_trade_log[(todays_trade_log['Status']=='Closed')]['Profit'].sum()),\"Unrealised:\",int(todays_trade_log[(todays_trade_log['Status']!='Closed')]['Profit'].sum()))\n",
        "      todays_trade_log=todays_trade_log[['updatetime','symboltoken','tradingsymbol','exchange','price','ordertag',\n",
        "          'Sell','Exit Time','quantity','Sell Indicator','Status','LTP','Profit','Index SL','Time Frame','Stop Loss','Target']]\n",
        "      #todays_trade_log = todays_trade_log.rename(columns={'updatetime':'Datetime','Stop Loss':'SL'})\n",
        "      n_todays_trade_log=todays_trade_log[(todays_trade_log['Status']!='Closed')]\n",
        "      #n_todays_trade_log = n_todays_trade_log.rename(columns={'updatetime':'Datetime','Stop Loss':'SL'})\n",
        "      #print(n_todays_trade_log[['Datetime','tradingsymbol','price','Sell','SL','Target','LTP','Status',\n",
        "      #                          'Profit','Index SL','Exit Time','ordertag','Sell Indicator']].to_string(index=False))\n",
        "      if len(n_todays_trade_log)!=0:\n",
        "        n_todays_trade_log = n_todays_trade_log.rename(columns={'updatetime':'Datetime'})\n",
        "        print(n_todays_trade_log[['Datetime','tradingsymbol','price','Stop Loss','Target','LTP',\n",
        "                                'Profit','Index SL','ordertag']].to_string(index=False))\n",
        "  except Exception as e:\n",
        "    print(\"Error get_todays_trade\",e)\n",
        "    todays_trade_log = pd.DataFrame(columns = ['updatetime','symboltoken','tradingsymbol','exchange','price','ordertag',\n",
        "          'Sell','Exit Time','quantity','Sell Indicator','Status','LTP','Profit','Index SL','Time Frame','Stop Loss','Target'])"
      ]
    },
    {
      "cell_type": "code",
      "source": [
        "def update_high_low_todays_trade():\n",
        "  get_todays_trade()\n",
        "  df = pd.DataFrame()\n",
        "  opt_symbol_list=todays_trade_log['symboltoken'].unique()\n",
        "  optiols_ohlc_data=pd.DataFrame()\n",
        "  dat=(datetime.datetime.now(tz=gettz('Asia/Kolkata'))- timedelta(days=0)).strftime(\"%m/%d/%y\")\n",
        "  to_date= datetime.datetime.now(tz=gettz('Asia/Kolkata'))\n",
        "  from_date = to_date - timedelta(days=1)\n",
        "  fromdate = from_date.strftime(\"%Y-%m-%d %H:%M\")\n",
        "  todate = to_date.strftime(\"%Y-%m-%d %H:%M\")\n",
        "  for i in opt_symbol_list:\n",
        "    try:\n",
        "      historicParam={\"exchange\": 'NFO',\"symboltoken\": i,\"interval\": \"ONE_MINUTE\",\"fromdate\": fromdate, \"todate\": todate}\n",
        "      res_json=obj.getCandleData(historicParam)\n",
        "      old_data = pd.DataFrame(res_json['data'], columns=['timestamp','O','H','L','C','V'])\n",
        "      old_data['Token']=i\n",
        "      optiols_ohlc_data=optiols_ohlc_data.append(old_data)\n",
        "    except Exception as e:\n",
        "      pass\n",
        "  optiols_ohlc_data = optiols_ohlc_data.rename(columns={'timestamp':'Datetime','O':'Open','H':'High','L':'Low','C':'Close','V':'Volume'})\n",
        "  optiols_ohlc_data['Datetime'] = pd.to_datetime(optiols_ohlc_data['Datetime'],format = '%Y-%m-%d %H:%M:%S')\n",
        "  optiols_ohlc_data['Datetime']=optiols_ohlc_data['Datetime'].dt.tz_localize(None)\n",
        "  optiols_ohlc_data['Date']=optiols_ohlc_data['Datetime'].dt.strftime('%m/%d/%y')\n",
        "  optiols_ohlc_data['Datetime'] = pd.to_datetime(optiols_ohlc_data['Datetime']).dt.time\n",
        "  optiols_ohlc_data=optiols_ohlc_data[['Date','Datetime','Token','Open','High','Low','Close','Volume']]\n",
        "  for i in range(0,len(todays_trade_log)):\n",
        "    try:\n",
        "      tm=todays_trade_log['updatetime'].values[i]\n",
        "      end_tm=todays_trade_log['Exit Time'].values[i]\n",
        "      token=todays_trade_log['symboltoken'].values[i]\n",
        "      old_data=optiols_ohlc_data[(optiols_ohlc_data['Token']==token)]\n",
        "      old_data = old_data[(old_data['Datetime'] >= tm ) & (old_data['Datetime'] <= end_tm)]\n",
        "      todays_trade_log['High'].values[i]=old_data['High'].max()\n",
        "      todays_trade_log['Low'].values[i]=old_data['Low'].min()\n",
        "    except Exception as e:\n",
        "      pass"
      ],
      "metadata": {
        "colab": {
          "base_uri": "https://localhost:8080/"
        },
        "id": "ZoyJSH5ViS4R",
        "outputId": "3901e911-8e53-424c-d2de-c8bad1c5e489"
      },
      "execution_count": null,
      "outputs": [
        {
          "output_type": "stream",
          "name": "stdout",
          "text": [
            "time: 6.17 ms (started: 2023-02-04 09:13:46 +00:00)\n"
          ]
        }
      ]
    },
    {
      "cell_type": "code",
      "source": [
        "#print(orderbook.to_string(index=False))"
      ],
      "metadata": {
        "colab": {
          "base_uri": "https://localhost:8080/"
        },
        "id": "jE90eocHdCKR",
        "outputId": "6dea7478-3f2d-425b-d60b-c4e7d1793991"
      },
      "execution_count": null,
      "outputs": [
        {
          "output_type": "stream",
          "name": "stdout",
          "text": [
            "time: 465 µs (started: 2023-02-04 09:13:46 +00:00)\n"
          ]
        }
      ]
    },
    {
      "cell_type": "code",
      "execution_count": null,
      "metadata": {
        "colab": {
          "base_uri": "https://localhost:8080/"
        },
        "id": "YbsB8dVzLuS2",
        "outputId": "786c9e30-c50d-425f-9086-2549f69674de"
      },
      "outputs": [
        {
          "output_type": "stream",
          "name": "stdout",
          "text": [
            "time: 5.52 ms (started: 2023-02-04 09:13:46 +00:00)\n"
          ]
        }
      ],
      "source": [
        "#Get Order Book\n",
        "def get_order_book():\n",
        "  global orderbook\n",
        "  try:\n",
        "    for attempt in range(3):\n",
        "      try:\n",
        "        orderbook=obj.orderBook()['data']\n",
        "        if isinstance(orderbook, NoneType)!=True: \n",
        "          break\n",
        "      except:\n",
        "        pass\n",
        "    if isinstance(orderbook, NoneType)!=True: #or isinstance(orderbook,NoneType)!=True\n",
        "      orderbook= pd.DataFrame.from_dict(orderbook)\n",
        "      orderbook['updatetime'] = pd.to_datetime(orderbook['updatetime'])\n",
        "      orderbook=orderbook.sort_values(by = ['updatetime'], ascending = [True], na_position = 'first')\n",
        "      for i in range(0,len(orderbook)):\n",
        "        if orderbook['ordertag'].iloc[i]==\"\": orderbook['ordertag'].iloc[i]=\"-\"\n",
        "        if orderbook['status'].iloc[i]==\"complete\":\n",
        "          orderbook['ordertag'].iloc[i]=\"*\" + orderbook['ordertag'].iloc[i]\n",
        "          orderbook['price'].iloc[i]=orderbook['averageprice'].iloc[i]\n",
        "      orderbook=update_price_orderbook(orderbook)\n",
        "    else:\n",
        "      orderbook= pd.DataFrame(columns = ['variety', 'ordertype', 'producttype', 'duration', 'price','triggerprice', 'quantity', 'disclosedquantity',\n",
        "                'squareoff','stoploss', 'trailingstoploss', 'tradingsymbol', 'transactiontype','exchange', 'symboltoken', 'ordertag', 'instrumenttype',\n",
        "                'strikeprice','optiontype', 'expirydate', 'lotsize', 'cancelsize', 'averageprice','filledshares', 'unfilledshares', 'orderid', 'text',\n",
        "                'status','orderstatus', 'updatetime', 'exchtime', 'exchorderupdatetime','fillid', 'filltime', 'parentorderid'])\n",
        "  except Exception as e:\n",
        "    orderbook= pd.DataFrame(columns = ['variety', 'ordertype', 'producttype', 'duration', 'price','triggerprice', 'quantity', 'disclosedquantity',\n",
        "                'squareoff','stoploss', 'trailingstoploss', 'tradingsymbol', 'transactiontype','exchange', 'symboltoken', 'ordertag', 'instrumenttype',\n",
        "                'strikeprice','optiontype', 'expirydate', 'lotsize', 'cancelsize', 'averageprice','filledshares', 'unfilledshares', 'orderid', 'text',\n",
        "                'status','orderstatus', 'updatetime', 'exchtime', 'exchorderupdatetime','fillid', 'filltime', 'parentorderid'])\n",
        "    print(\"Error in get_order_book\",e)"
      ]
    },
    {
      "cell_type": "code",
      "execution_count": null,
      "metadata": {
        "colab": {
          "base_uri": "https://localhost:8080/"
        },
        "id": "wy5hzmepUuGm",
        "outputId": "be41539f-ace0-49a9-f2a3-00b620b2b2a1"
      },
      "outputs": [
        {
          "output_type": "stream",
          "name": "stdout",
          "text": [
            "time: 3.18 ms (started: 2023-02-04 09:13:46 +00:00)\n"
          ]
        }
      ],
      "source": [
        "#Cancel all order of symbol\n",
        "def cancel_all_order(symbol):\n",
        "  try:\n",
        "    if isinstance(orderbook,NoneType)!=True:\n",
        "      orderlist = orderbook[(orderbook['tradingsymbol'] == symbol) & ((orderbook['orderstatus'] != 'complete') & \n",
        "                                                                          (orderbook['orderstatus'] != 'cancelled') &\n",
        "                                                                          (orderbook['orderstatus'] != 'rejected') &\n",
        "                                                                          (orderbook['orderstatus'] != 'AMO CANCELLED'))]\n",
        "      orderlist_a = orderbook[(orderbook['tradingsymbol'] == symbol) & (orderbook['variety'] == 'ROBO') &\n",
        "                              (orderbook['transactiontype'] == 'BUY') & (orderbook['orderstatus'] == 'complete')]\n",
        "      orderlist=orderlist.append(orderlist_a)\n",
        "      if len(orderlist)==0:\n",
        "        print(\"No Active Order for \",symbol)\n",
        "      for i in range(0,len(orderlist)):\n",
        "        cancel_order(orderlist.iloc[i]['orderid'],orderlist.iloc[i]['variety'])\n",
        "    else:\n",
        "      print(\"No Active Order\")\n",
        "  except Exception as e:\n",
        "    print(\"Error cancel_all_order\",e)"
      ]
    },
    {
      "cell_type": "code",
      "execution_count": null,
      "metadata": {
        "colab": {
          "base_uri": "https://localhost:8080/"
        },
        "id": "MmvdmZOL_j14",
        "outputId": "195ed386-8baa-466b-f1b9-002dd12738cf"
      },
      "outputs": [
        {
          "output_type": "stream",
          "name": "stdout",
          "text": [
            "time: 16 ms (started: 2023-02-04 09:13:46 +00:00)\n"
          ]
        }
      ],
      "source": [
        "def close_all_todays_trade(bnf_signal='-',nf_signal='-',bnf_indicator='Indicator Exit',nf_indicator='Indicator Exit'):\n",
        "  for i in range(0,len(todays_trade_log)):\n",
        "    if todays_trade_log['Status'].iloc[i]==\"Pending\":\n",
        "      tradingsymbol=todays_trade_log['tradingsymbol'].iloc[i]\n",
        "      symboltoken=todays_trade_log['symboltoken'].iloc[i]\n",
        "      qty=todays_trade_log['quantity'].iloc[i]\n",
        "      ltp_price=get_ltp_price(symbol=tradingsymbol,token=symboltoken,exch_seg=\"NFO\")\n",
        "      ordertag=bnf_indicator if tradingsymbol[:4]=='BANK' else nf_indicator\n",
        "      ordertag=ordertag + ' LTP: '+ str(ltp_price)\n",
        "      if ((bnf_signal=='Sell' and tradingsymbol[-2:]=='CE' and tradingsymbol[:4]=='BANK') or \n",
        "        (bnf_signal=='Buy' and tradingsymbol[-2:]=='PE' and tradingsymbol[:4]=='BANK') or \n",
        "        (nf_signal=='Sell' and tradingsymbol[-2:]=='CE' and tradingsymbol[:5]=='NIFTY') or\n",
        "        (nf_signal=='Buy' and tradingsymbol[-2:]=='PE' and tradingsymbol[:5]=='NIFTY')):\n",
        "        place_order(token=symboltoken,symbol=tradingsymbol,qty=qty,buy_sell='SELL',ordertype='STOPLOSS_LIMIT',price=ltp_price,\n",
        "           variety='STOPLOSS',exch_seg='NFO',producttype='CARRYFORWARD',triggerprice=ltp_price,squareoff=ltp_price, stoploss=ltp_price,\n",
        "           ordertag=ordertag)\n",
        "        prt=float(ltp_price)-float(todays_trade_log['price'].iloc[i])\n",
        "        todays_trade_log['Profit'].iloc[i]=float(prt)*float(todays_trade_log['quantity'].iloc[i])\n",
        "        trade_info=(todays_trade_log['tradingsymbol'].iloc[i] +'\\nBuy: ' + str(todays_trade_log['price'].iloc[i]) +\n",
        "              '\\nTarget: ' +str(todays_trade_log['Target'].iloc[i])+ ' Stop Loss: ' +str(todays_trade_log['Stop Loss'].iloc[i])+\n",
        "              ' LTP:' +str(float(ltp_price)) + '\\nBuy Time: '+str(todays_trade_log['updatetime'].iloc[i])+\n",
        "              '\\nIndicator: ' + str(todays_trade_log['ordertag'].iloc[i])+\n",
        "              '\\nProfit: ' + str(int(todays_trade_log['Profit'].iloc[i])))\n",
        "        pl=(\"Realised:\"+str(int(todays_trade_log[(todays_trade_log['Status']=='Closed')]['Profit'].sum())) +\n",
        "          \" Unrealised:\"+str(int(todays_trade_log[(todays_trade_log['Status']!='Closed')]['Profit'].sum())))\n",
        "        telegram_bot_sendtext(\"Exit: \"+ ordertag +'\\n'+ trade_info +'\\n'+ pl)"
      ]
    },
    {
      "cell_type": "code",
      "execution_count": null,
      "metadata": {
        "colab": {
          "base_uri": "https://localhost:8080/"
        },
        "id": "vzfvOV0jg-dF",
        "outputId": "877a3c52-b80b-47ae-f8f3-bd6312dcafd5"
      },
      "outputs": [
        {
          "output_type": "stream",
          "name": "stdout",
          "text": [
            "time: 4.4 ms (started: 2023-02-04 09:13:46 +00:00)\n"
          ]
        }
      ],
      "source": [
        "def cancel_options_all_order(bnf_signal='-',nf_signal='-'):\n",
        "  get_order_book()\n",
        "  orderlist = orderbook[((orderbook['orderstatus'] != 'complete') & (orderbook['orderstatus'] != 'cancelled') &\n",
        "                      (orderbook['orderstatus'] != 'rejected') & (orderbook['orderstatus'] != 'AMO CANCELLED'))]\n",
        "  orderlist_a = orderbook[(orderbook['variety'] == 'ROBO') & (orderbook['transactiontype'] == 'BUY') & (orderbook['orderstatus'] == 'complete')]\n",
        "  orderlist=orderlist.append(orderlist_a)\n",
        "  orderlist=orderlist[['orderid','updatetime','symboltoken','tradingsymbol','exchange','price','variety','quantity','status']]\n",
        "  for i in range(0,len(orderlist)):\n",
        "    try:\n",
        "      tradingsymbol=orderlist['tradingsymbol'].iloc[i]\n",
        "      if ((bnf_signal=='Sell' and tradingsymbol[-2:]=='CE' and tradingsymbol[:4]=='BANK') or \n",
        "        (bnf_signal=='Buy' and tradingsymbol[-2:]=='PE' and tradingsymbol[:4]=='BANK') or \n",
        "        (nf_signal=='Sell' and tradingsymbol[-2:]=='CE' and tradingsymbol[:5]=='NIFTY') or\n",
        "        (nf_signal=='Buy' and tradingsymbol[-2:]=='PE' and tradingsymbol[:5]=='NIFTY')):\n",
        "        cancel_order(orderlist['orderid'].iloc[i],orderlist['variety'].iloc[i])\n",
        "    except Exception as e:\n",
        "      print(\"Error in cancel_options_all_order\", e)"
      ]
    },
    {
      "cell_type": "code",
      "execution_count": null,
      "metadata": {
        "colab": {
          "base_uri": "https://localhost:8080/"
        },
        "id": "0ipp6W6X6bbD",
        "outputId": "2b550608-7c89-44ba-c558-c31698f97666"
      },
      "outputs": [
        {
          "output_type": "stream",
          "name": "stdout",
          "text": [
            "time: 5.66 ms (started: 2023-02-04 09:13:46 +00:00)\n"
          ]
        }
      ],
      "source": [
        "def close_all_position(bnf_signal='-',nf_signal='-',bnf_indicator='Indicator Exit',nf_indicator='Indicator Exit'):\n",
        "  cancel_options_all_order(bnf_signal='-',nf_signal='-')\n",
        "  if isinstance(open_position,str)==True : #or open_position=='No Position' or len(open_position)==0)\n",
        "    pass\n",
        "  else:\n",
        "    for i in open_position.index:\n",
        "      try:\n",
        "        tradingsymbol=open_position.loc[i]['tradingsymbol']\n",
        "        symboltoken=open_position.loc[i]['symboltoken']\n",
        "        qty=open_position['netqty'][i]\n",
        "        ltp_price=float(open_position['ltp'][i])\n",
        "        sl=float(ltp_price)\n",
        "        position_cnt=0\n",
        "        ordertag=bnf_indicator if tradingsymbol[:4]=='BANK' else nf_indicator\n",
        "        ordertag=ordertag + ' LTP: '+ str(ltp_price)\n",
        "        if ((bnf_signal=='Sell' and tradingsymbol[-2:]=='CE' and tradingsymbol[:4]=='BANK') or \n",
        "          (bnf_signal=='Buy' and tradingsymbol[-2:]=='PE' and tradingsymbol[:4]=='BANK') or \n",
        "          (nf_signal=='Sell' and tradingsymbol[-2:]=='CE' and tradingsymbol[:5]=='NIFTY') or\n",
        "          (nf_signal=='Buy' and tradingsymbol[-2:]=='PE' and tradingsymbol[:5]=='NIFTY')):\n",
        "          place_order(token=symboltoken,symbol=tradingsymbol,qty=qty,buy_sell='SELL',ordertype='STOPLOSS_LIMIT',price=sl,\n",
        "                    variety='STOPLOSS',exch_seg='NFO',producttype='CARRYFORWARD',triggerprice=sl,squareoff=sl, stoploss=sl,ordertag=ordertag)\n",
        "          telegram_bot_sendtext(\"Exit: \"+tradingsymbol +\"\\n\"+ ordertag)\n",
        "      except Exception as e:\n",
        "        print(\"Error in close_all_position:\", e)"
      ]
    },
    {
      "cell_type": "code",
      "execution_count": null,
      "metadata": {
        "colab": {
          "base_uri": "https://localhost:8080/"
        },
        "id": "O5rg_4FsLhYq",
        "outputId": "273f6a54-6ecb-4abe-cb41-38ad769ed48a"
      },
      "outputs": [
        {
          "output_type": "stream",
          "name": "stdout",
          "text": [
            "time: 1.5 ms (started: 2023-02-04 09:13:46 +00:00)\n"
          ]
        }
      ],
      "source": [
        "#get Stock Token\n",
        "def getTokenInfo_stk (symbol):\n",
        "    df=token_df\n",
        "    df=df[token_df['symbol'].str.contains(symbol)]\n",
        "    eq_df = df[(df['exch_seg'] == 'NSE')]\n",
        "    return df[(df['exch_seg'] == 'NSE') & (df['name']== (symbol)) & (df['symbol'].str.endswith('-EQ'))]"
      ]
    },
    {
      "cell_type": "code",
      "execution_count": null,
      "metadata": {
        "colab": {
          "base_uri": "https://localhost:8080/"
        },
        "id": "ypkj8QlALkf_",
        "outputId": "3844dcfe-0003-4868-fd6d-6dacb15c31f6"
      },
      "outputs": [
        {
          "output_type": "stream",
          "name": "stdout",
          "text": [
            "time: 5.21 ms (started: 2023-02-04 09:13:46 +00:00)\n"
          ]
        }
      ],
      "source": [
        "#Place Order\n",
        "def place_order(token,symbol,qty,buy_sell,ordertype,price,variety,exch_seg,producttype,triggerprice=0,squareoff=0,stoploss=0,ordertag='-'):\n",
        "    try:\n",
        "        orderparams = {\"variety\": variety,\"tradingsymbol\": symbol,\n",
        "          \"symboltoken\": token,\"transactiontype\": buy_sell,\"exchange\": exch_seg,\"ordertype\": ordertype,\n",
        "          \"producttype\": producttype,\"duration\": \"DAY\",\"price\": price,\"squareoff\":squareoff,\n",
        "           \"stoploss\": stoploss,\"quantity\": qty,\"triggerprice\":triggerprice,\"ordertag\":ordertag,\"trailingStopLoss\":5}\n",
        "        print(orderparams)\n",
        "        for attempt in range(0,3):\n",
        "          try:\n",
        "            orderId=obj.placeOrder(orderparams)\n",
        "            sleep(0.1)\n",
        "            break\n",
        "          except Exception as e:\n",
        "            print(\"Order Placement Error\")\n",
        "        for attempt in range(0,3):\n",
        "          try:\n",
        "            orderbook=obj.orderBook()['data']\n",
        "            break\n",
        "          except Exception as e:\n",
        "            sleep(1)\n",
        "            print(\"OrderBook Error\")\n",
        "        if type(orderbook)==NoneType:\n",
        "            orderbook='No Order Placed'\n",
        "        else:\n",
        "            orderbook=pd.DataFrame(orderbook)\n",
        "            orders= orderbook[(orderbook['orderid'] == orderId)]\n",
        "            orders_status =orders.iloc[0]['orderstatus']\n",
        "        orders_price='-'\n",
        "        if orders_status == 'complete':\n",
        "            trade= pd.DataFrame.from_dict(obj.tradeBook()['data'])\n",
        "            trade = trade[(trade['orderid'] == orderId)]\n",
        "            orders_price =trade.iloc[0]['fillprice']\n",
        "        print(\"The order id is: {}\".format(orderId),',Order Status:', orders_status, ',Price : ', orders_price,',Symbol:',symbol)\n",
        "        return orders_price\n",
        "    except Exception as e:\n",
        "      print(\"Order placement failed\",e)\n",
        "      telegram_bot_sendtext('Order placement failed : '+ symbol)\n",
        "      orders_price='-'\n",
        "      return orders_price"
      ]
    },
    {
      "cell_type": "code",
      "execution_count": null,
      "metadata": {
        "colab": {
          "base_uri": "https://localhost:8080/"
        },
        "id": "JnZcS6RKMOUo",
        "outputId": "4a511cf9-7a30-4fd5-9b0a-f278e3297e42"
      },
      "outputs": [
        {
          "output_type": "stream",
          "name": "stdout",
          "text": [
            "time: 2.17 ms (started: 2023-02-04 09:13:46 +00:00)\n"
          ]
        }
      ],
      "source": [
        "#Modify Order\n",
        "def modify_order(variety,orderid,ordertype,producttype,price,quantity,tradingsymbol,symboltoken,exchange,triggerprice=0,squareoff=0,stoploss=0):\n",
        "    modifyparams = {\n",
        "        \"variety\": variety,\"orderid\": orderid,\n",
        "        \"ordertype\": ordertype,\"producttype\": producttype,\n",
        "        \"duration\": \"DAY\",\"price\": price,\n",
        "        \"quantity\": quantity,\"tradingsymbol\":tradingsymbol,\n",
        "        \"symboltoken\":symboltoken,\"exchange\":exchange,\n",
        "        \"squareoff\":squareoff,\"stoploss\": stoploss,\"triggerprice\":triggerprice}\n",
        "    obj.modifyOrder(modifyparams)\n",
        "    print ('Order Modified: ', orderid,\"\\n\",modifyparams)"
      ]
    },
    {
      "cell_type": "code",
      "execution_count": null,
      "metadata": {
        "colab": {
          "base_uri": "https://localhost:8080/"
        },
        "id": "7YD1w5SxMSUO",
        "outputId": "42758d89-5679-4712-9e1b-fbf127517fc0"
      },
      "outputs": [
        {
          "output_type": "stream",
          "name": "stdout",
          "text": [
            "time: 4.83 ms (started: 2023-02-04 09:13:46 +00:00)\n"
          ]
        }
      ],
      "source": [
        "#Cancel Order\n",
        "def cancel_order(orderID,variety):\n",
        "    obj.cancelOrder(orderID,variety=variety)\n",
        "    print ('Order Cancelled: ', orderID)"
      ]
    },
    {
      "cell_type": "code",
      "execution_count": null,
      "metadata": {
        "colab": {
          "base_uri": "https://localhost:8080/"
        },
        "id": "rNO5GL4kMfFx",
        "outputId": "bde5ac9d-fa3e-4284-e50b-a1511344daf7"
      },
      "outputs": [
        {
          "output_type": "stream",
          "name": "stdout",
          "text": [
            "time: 4.83 ms (started: 2023-02-04 09:13:46 +00:00)\n"
          ]
        }
      ],
      "source": [
        "#gtt rule creation\n",
        "def place_gtt_order(token,symbol,exch_seg,producttype,buy_sell,price,qty):\n",
        "  try:\n",
        "    gttCreateParams={\n",
        "      \"tradingsymbol\" : symbol,\"symboltoken\" : token,\n",
        "      \"exchange\" : exch_seg,\"producttype\" : producttype,\n",
        "      \"transactiontype\" : buy_sell,\"price\" : price,\n",
        "      \"qty\" : qty,\"disclosedqty\": qty,\n",
        "      \"triggerprice\" : price,\"timeperiod\" : 365}\n",
        "    print (gttCreateParams)\n",
        "    rule_id=obj.gttCreateRule(gttCreateParams)\n",
        "    print(\"The GTT rule id is: {}\".format(rule_id))\n",
        "  except Exception as e:\n",
        "    print(\"GTT Rule creation failed\",e)"
      ]
    },
    {
      "cell_type": "code",
      "execution_count": null,
      "metadata": {
        "colab": {
          "base_uri": "https://localhost:8080/"
        },
        "id": "QJnUYSgmMhkT",
        "outputId": "c4c8f0ec-af59-4542-ecf6-9940ee5efef6"
      },
      "outputs": [
        {
          "output_type": "stream",
          "name": "stdout",
          "text": [
            "time: 1.76 ms (started: 2023-02-04 09:13:46 +00:00)\n"
          ]
        }
      ],
      "source": [
        "#get previous candle time\n",
        "def get_previous_close():\n",
        "  global previous_close\n",
        "  previous_close=\"-\"\n",
        "  now=datetime.datetime.now(tz=gettz('Asia/Kolkata')).replace(second=0,microsecond=0)\n",
        "  for i in range(5,10):\n",
        "    new_time=(now- timedelta(minutes=i))\n",
        "    if new_time.minute%5==0:\n",
        "      previous_close=new_time\n",
        "      break\n",
        "  return(previous_close)"
      ]
    },
    {
      "cell_type": "code",
      "execution_count": null,
      "metadata": {
        "colab": {
          "base_uri": "https://localhost:8080/"
        },
        "id": "UxmjqVeU4Fil",
        "outputId": "76b3b534-3147-4f20-ba48-3ce935b21ccc"
      },
      "outputs": [
        {
          "output_type": "stream",
          "name": "stdout",
          "text": [
            "time: 28.8 ms (started: 2023-02-04 09:13:46 +00:00)\n"
          ]
        }
      ],
      "source": [
        "#update Buy and Sell trade info\n",
        "def get_trade_info(df):\n",
        "  #df.fillna(0)\n",
        "  if df['Time Frame'][0]==\"3m\" or df['Time Frame'][0]==\"THREE MINUTE\"  or df['Time Frame'][0]==\"3min\": df['Time Frame']=\"3m\"\n",
        "  elif df['Time Frame'][0]==\"5m\" or df['Time Frame'][0]==\"FIVE MINUTE\"  or df['Time Frame'][0]==\"5min\": df['Time Frame']=\"5m\"\n",
        "  elif df['Time Frame'][0]==\"15m\" or df['Time Frame'][0]==\"FIFTEEN MINUTE\"  or df['Time Frame'][0]==\"15min\": df['Time Frame']=\"15m\"\n",
        "  elif df['Time Frame'][0]==\"1m\" or df['Time Frame'][0]==\"ONE MINUTE\"  or df['Time Frame'][0]==\"1min\": df['Time Frame']=\"1m\"\n",
        "  time_frame=df['Time Frame'][0]\n",
        "  df['Brahmastra']=''\n",
        "  for i in range(0,len(df)):\n",
        "    try:\n",
        "      #df['Date'][i]=df['Datetime'][i].strftime('%Y.%m.%d')\n",
        "      if df['Close'][i-1]<=df['Supertrend'][i-1] and df['Close'][i]> df['Supertrend'][i]: df['St Trade'][i]=\"Buy\"\n",
        "      elif df['Close'][i-1]>=df['Supertrend'][i-1] and df['Close'][i]< df['Supertrend'][i]: df['St Trade'][i]=\"Sell\"\n",
        "      \n",
        "      if df['MACD'][i]>df['MACD signal'][i] and df['MACD'][i-1]< df['MACD signal'][i-1]: df['MACD Trade'][i]=\"Buy\"\n",
        "      elif df['MACD'][i]<df['MACD signal'][i] and df['MACD'][i-1]> df['MACD signal'][i-1]: df['MACD Trade'][i]=\"Sell\"\n",
        "      \n",
        "      if df['Close'][i-1]<=df['PSAR'][i-1] and df['Close'][i]> df['PSAR'][i]: df['PSAR Trade'][i]=\"Buy\"\n",
        "      elif df['Close'][i-1]>=df['PSAR'][i-1] and df['Close'][i]< df['PSAR'][i]: df['PSAR Trade'][i]=\"Sell\"\n",
        "      \n",
        "      if df['PLUS_DI'][i-1]<=df['MINUS_DI'][i-1] and df['PLUS_DI'][i]> df['MINUS_DI'][i]: df['DI Trade'][i]=\"Buy\"\n",
        "      elif df['PLUS_DI'][i-1]>=df['MINUS_DI'][i-1] and df['PLUS_DI'][i]< df['MINUS_DI'][i]: df['DI Trade'][i]=\"Sell\"\n",
        "      \n",
        "      if df['MA_50'][i-1]<=df['MA_200'][i-1] and df['MA_50'][i]> df['MA_200'][i]: df['MA Trade'][i]=\"Buy\"\n",
        "      elif df['MA_50'][i-1]>=df['MA_200'][i-1] and df['MA_50'][i]< df['MA_200'][i]: df['MA Trade'][i]=\"Sell\"\n",
        "      \n",
        "      if df['EMA_12'][i-1]<=df['EMA_26'][i-1] and df['EMA_12'][i]> df['EMA_26'][i]: df['EMA Trade'][i]=\"Buy\"\n",
        "      elif df['EMA_12'][i-1]>=df['EMA_26'][i-1] and df['EMA_12'][i]< df['EMA_26'][i]: df['EMA Trade'][i]=\"Sell\"\n",
        "      \n",
        "      if df['Close'][i-1]< df['MA_21'][i-1] and df['Close'][i]> df['MA_21'][i]: df['MA 21 Trade'][i]=\"Buy\"\n",
        "      elif df['Close'][i-1]> df['MA_21'][i-1] and df['Close'][i]< df['MA_21'][i]: df['MA 21 Trade'][i]=\"Sell\"\n",
        "      \n",
        "      if df['Close'][i-1]< df['Supertrend_10_2'][i-1] and df['Close'][i]> df['Supertrend_10_2'][i]: df['ST_10_2 Trade'][i]=\"Buy\"\n",
        "      elif df['Close'][i-1]> df['Supertrend_10_2'][i-1] and df['Close'][i]< df['Supertrend_10_2'][i]: df['ST_10_2 Trade'][i]=\"Sell\"\n",
        "      \n",
        "      if df['HMA_21'][i-1]< df['HMA_55'][i-1] and df['HMA_21'][i]> df['HMA_55'][i]: df['HMA Trade'][i]=\"Buy\"\n",
        "      elif df['HMA_21'][i-1]> df['HMA_55'][i-1] and df['HMA_21'][i]< df['HMA_55'][i]: df['HMA Trade'][i]=\"Sell\"\n",
        "\n",
        "      if (df['Close'][i-1]<df['Open'][i-1] and df['Close'][i]< df['Open'][i] and\n",
        "        df['Close'][i]< df['Supertrend_10_2'][i] and df['RSI'][i]<=40 and df['VWAP'][i]>df['Close'][i] and\n",
        "        df['Close'][i]<df['WMA_20'][i] and df['Volume'][i]>1000):\n",
        "        df['Two Candle Theory'][i]='Sell'\n",
        "      elif (df['Close'][i-1] > df['Open'][i-1] and df['Close'][i] > df['Open'][i] and\n",
        "        df['Close'][i] > df['Supertrend_10_2'][i] and df['RSI'][i] >= 50 and df['VWAP'][i]<df['Close'][i] and \n",
        "        df['Close'][i]>df['WMA_20'][i] and df['Volume'][i]>1000):\n",
        "        df['Two Candle Theory'][i]='Buy'\n",
        "\n",
        "      RSI=df['RSI'][i];          ST=df['St Trade'][i]\n",
        "      MACD=df['MACD Trade'][i];  EMA=df['EMA Trade'][i]\n",
        "      MA=df['MA 21 Trade'][i];   ST_10_2=df['ST_10_2 Trade'][i]\n",
        "      Two_Candle_Theory=df['Two Candle Theory'][i]; HMA_Trade=df['HMA Trade'][i]\n",
        "      \n",
        "      df['Brahmastra'][i]=' Brahmastra' if (ST==MACD or ST_10_2==MACD) and MACD!=\"-\" else ''\n",
        "      if time_frame==\"1m\" or time_frame==\"ONE_MINUTE\" or time_frame==\"1min\":\n",
        "        if (ST==\"Buyy\" or MACD==\"Buyy\" or EMA==\"Buyy\" or MA==\"Buyy\" or ST_10_2==\"Buyy\"):\n",
        "          df['Trade'][i]=\"Buy\"; df['Trade End'][i]=\"Buy\"\n",
        "        elif (ST==\"Selll\" or MACD==\"Selll\" or EMA==\"Selll\" or MA==\"Selll\" or ST_10_2==\"Selll\"):\n",
        "          df['Trade'][i]=\"Sell\"; df['Trade End'][i]=\"Sell\"\n",
        "\n",
        "      elif time_frame==\"3m\" or time_frame==\"THREE_MINUTE\" or time_frame==\"3min\" or time_frame==\"Candle Pattern\":\n",
        "        if Two_Candle_Theory==\"Buy\" :\n",
        "          df['Trade'][i]=\"Buy\"; df['Trade End'][i]=\"Buy\"\n",
        "        elif Two_Candle_Theory==\"Sell\":\n",
        "          df['Trade'][i]=\"Sell\"; df['Trade End'][i]=\"Sell\"\n",
        "\n",
        "      elif time_frame==\"5m\" or time_frame==\"FIVE_MINUTE\" or time_frame==\"5min\":\n",
        "        if (ST==\"Buy\" or EMA==\"Buy\" or MA==\"Buyy\" or ST_10_2==\"Buy\" or HMA_Trade==\"Buy\"):\n",
        "          df['Trade'][i]=\"Buy\"; df['Trade End'][i]=\"Buy\"\n",
        "        elif (ST==\"Sell\" or EMA==\"Sell\" or MA==\"Selll\" or ST_10_2==\"Sell\" or HMA_Trade==\"Sell\"):\n",
        "          df['Trade'][i]=\"Sell\"; df['Trade End'][i]=\"Sell\"\n",
        "        #elif MACD!=\"-\":\n",
        "        #  df['Trade End'][i]=MACD\n",
        "\n",
        "      elif time_frame==\"15m\" or time_frame==\"FIFTEEN_MINUTE\" or time_frame==\"15min\":\n",
        "        if (ST==\"Buy\" or MACD==\"Buy\" or EMA==\"Buy\" or MA==\"Buyy\" or ST_10_2==\"Buy\"):\n",
        "          df['Trade'][i]=\"Buy\"; df['Trade End'][i]=\"Buy\"\n",
        "        elif (ST==\"Sell\" or MACD==\"Sell\" or EMA==\"Sell\" or MA==\"Selll\" or ST_10_2==\"Sell\"):\n",
        "          df['Trade'][i]=\"Sell\"; df['Trade End'][i]=\"Sell\"\n",
        "    except Exception as e:\n",
        "      pass\n",
        "  df['Indicator']=(df['Time Frame']+df['Brahmastra']+\" ST: \"+df['St Trade']+\" EMA: \"+df['EMA Trade']+\" MACD: \"+df['MACD Trade']+\n",
        "                   \" ST_10_2: \"+df['ST_10_2 Trade']+ \" HMA: \"+df['HMA Trade']+ \" Two Candle Theory: \"+df['Two Candle Theory'])\n",
        "  df['Indicator'] = df['Indicator'].str.replace(' ST: -','')\n",
        "  df['Indicator'] = df['Indicator'].str.replace(' EMA: -','')\n",
        "  df['Indicator'] = df['Indicator'].str.replace(' MA: -','')\n",
        "  df['Indicator'] = df['Indicator'].str.replace(' MACD: -','')\n",
        "  df['Indicator'] = df['Indicator'].str.replace(' ST_10_2: -','')\n",
        "  df['Indicator'] = df['Indicator'].str.replace(' HMA: -','')\n",
        "  df['Indicator'] = df['Indicator'].str.replace(' Two Candle Theory: -','')\n",
        "  return df"
      ]
    },
    {
      "cell_type": "code",
      "execution_count": null,
      "metadata": {
        "cellView": "code",
        "colab": {
          "base_uri": "https://localhost:8080/"
        },
        "id": "G3WnVpepMkPy",
        "outputId": "c01c8fb1-f372-4f78-b27c-2f3209a2d6a8"
      },
      "outputs": [
        {
          "output_type": "stream",
          "name": "stdout",
          "text": [
            "time: 11.4 ms (started: 2023-02-04 09:13:47 +00:00)\n"
          ]
        }
      ],
      "source": [
        "#@title Calculate Indicator\n",
        "def calculate_indicator_old(df):\n",
        "  try:\n",
        "    #df['Date']=df['Datetime'].dt.strftime('%m/%d/%y')\n",
        "    df=df.tail(200)\n",
        "    df=df[['Date','Datetime','Open','High','Low','Close','Time Frame']]\n",
        "    df['RSI']=ta.RSI(df['Close'],timeperiod=14)\n",
        "    df['UBB'],df['MBB'], df['LBB']= ta.BBANDS(df['Close'], timeperiod=20, nbdevup=2, nbdevdn=2, matype=0)\n",
        "    df['MACD'],df['MACD signal'], df['Macdhist'] = ta.MACD(df['Close'], fastperiod=12, slowperiod=26, signalperiod=9)\n",
        "    df['Supertrend']=pdta.supertrend(high=df['High'],low=df['Low'],close=df['Close'],length=7,multiplier=3)['SUPERT_7_3.0']\n",
        "    df['Supertrend_10_2']=pdta.supertrend(high=df['High'],low=df['Low'],close=df['Close'],length=10,multiplier=2)['SUPERT_10_2.0']\n",
        "    df['PSAR']=ta.SAR(high=df['High'],low=df['Low'],acceleration=0.02, maximum=0.2)\n",
        "    df['ADX']=ta.ADX(high=df['High'],low=df['Low'],close=df['Close'],timeperiod=14)\n",
        "    df['MINUS_DI']=ta.MINUS_DI(high=df['High'],low=df['Low'],close=df['Close'],timeperiod=14)\n",
        "    df['PLUS_DI']=ta.PLUS_DI(high=df['High'],low=df['Low'],close=df['Close'],timeperiod=14)\n",
        "    df['MA_200']=df['Close'].rolling(200).mean()\n",
        "    df['MA_50']=df['Close'].rolling(50).mean()\n",
        "    df['EMA_12']=pdta.ema(df['Close'],length=12)\n",
        "    df['EMA_26']=pdta.ema(df['Close'],length=26)\n",
        "    df['EMA_13']=pdta.ema(df['Close'],length=13)\n",
        "    df['MA_1']=df['Close'].rolling(1).mean()\n",
        "    df['MA_2']=df['Close'].rolling(2).mean()\n",
        "    df['MA_3']=df['Close'].rolling(3).mean()\n",
        "    df['MA_4']=df['Close'].rolling(4).mean()\n",
        "    df['MA_5']=df['Close'].rolling(5).mean()\n",
        "    df['MA_6']=df['Close'].rolling(6).mean()\n",
        "    df['MA_7']=df['Close'].rolling(7).mean()\n",
        "    df['MA_8']=df['Close'].rolling(8).mean()\n",
        "    df['MA_9']=df['Close'].rolling(9).mean()\n",
        "    df['MA_10']=df['Close'].rolling(10).mean()\n",
        "    df['MA_21']=pdta.ema(df['Close'],length=13)\n",
        "    df['WMA_20']=pdta.wma(df['Close'],length=20)\n",
        "    #df = df.round(decimals=2)\n",
        "    df['St Trade']='-'\n",
        "    df['MACD Trade']='-'\n",
        "    df['PSAR Trade']='-'\n",
        "    df['DI Trade']='-'\n",
        "    df['MA Trade']='-'\n",
        "    df['EMA Trade']='-'\n",
        "    df['BB Trade']='-'\n",
        "    df['Trade']='-'\n",
        "    df['Trade End']='-'\n",
        "    df['Rainbow MA']='-'\n",
        "    df['Rainbow Trade']='-'\n",
        "    df['MA 21 Trade']='-'\n",
        "    df['ST_10_2 Trade']='-'\n",
        "    df=get_trade_info(df)\n",
        "    return df\n",
        "  except Exception as e:\n",
        "    print(\"Error in calculate Indicator old\",e)"
      ]
    },
    {
      "cell_type": "code",
      "execution_count": null,
      "metadata": {
        "colab": {
          "base_uri": "https://localhost:8080/"
        },
        "id": "TetFGXO8rh-O",
        "outputId": "6a3a93e7-33e6-49b6-f2e9-d34ef692dd2e"
      },
      "outputs": [
        {
          "output_type": "stream",
          "name": "stdout",
          "text": [
            "time: 11.1 ms (started: 2023-02-04 09:13:47 +00:00)\n"
          ]
        }
      ],
      "source": [
        "def calculate_indicator(df):\n",
        "  try:\n",
        "    df['RSI']=pdta.rsi(df['Close'],timeperiod=14)\n",
        "    df['UBB']=pdta.bbands(df['Close'],length=20, std=2, ddof=0)['BBU_20_2.0']\n",
        "    df['MBB']=pdta.bbands(df['Close'],length=20, std=2, ddof=0)['BBM_20_2.0']\n",
        "    df['LBB']=pdta.bbands(df['Close'],length=20, std=2, ddof=0)['BBL_20_2.0']\n",
        "    df['MACD']=pdta.macd(close=df['Close'], fastperiod=12, slowperiod=26, signalperiod=9)['MACD_12_26_9']\n",
        "    df['MACD signal']=pdta.macd(close=df['Close'], fastperiod=12, slowperiod=26, signalperiod=9)['MACDs_12_26_9']\n",
        "    df['Macdhist']=pdta.macd(close=df['Close'], fastperiod=12, slowperiod=26, signalperiod=9)['MACDh_12_26_9']\n",
        "    df['Supertrend']=pdta.supertrend(high=df['High'],low=df['Low'],close=df['Close'],length=7,multiplier=3)['SUPERT_7_3.0']\n",
        "    df['Supertrend_10_2']=pdta.supertrend(high=df['High'],low=df['Low'],close=df['Close'],length=10,multiplier=2)['SUPERT_10_2.0']\n",
        "    df['PSAR']=pdta.psar(high=df['High'],low=df['Low'],acceleration=0.02, maximum=0.2)['PSARl_0.02_0.2']\n",
        "    df['ADX']=pdta.adx(df['High'],df['Low'],df['Close'],14)['ADX_14']\n",
        "    df['MINUS_DI']=pdta.adx(df['High'],df['Low'],df['Close'],14)['DMN_14']\n",
        "    df['PLUS_DI']=pdta.adx(df['High'],df['Low'],df['Close'],14)['DMP_14']\n",
        "    df['MA_200']=df['Close'].rolling(200).mean()\n",
        "    df['MA_50']=df['Close'].rolling(50).mean()\n",
        "    df['EMA_12']=pdta.ema(df['Close'],length=12)\n",
        "    df['EMA_26']=pdta.ema(df['Close'],length=26)\n",
        "    df['EMA_13']=pdta.ema(df['Close'],length=13)\n",
        "    df['MA_1']=df['Close'].rolling(1).mean()\n",
        "    df['MA_2']=df['Close'].rolling(2).mean()\n",
        "    df['MA_3']=df['Close'].rolling(3).mean()\n",
        "    df['MA_4']=df['Close'].rolling(4).mean()\n",
        "    df['MA_5']=df['Close'].rolling(5).mean()\n",
        "    df['MA_6']=df['Close'].rolling(6).mean()\n",
        "    df['MA_7']=df['Close'].rolling(7).mean()\n",
        "    df['MA_8']=df['Close'].rolling(8).mean()\n",
        "    df['MA_9']=df['Close'].rolling(9).mean()\n",
        "    df['MA_10']=df['Close'].rolling(10).mean()\n",
        "    df['MA_21']=pdta.ema(df['Close'],length=13)\n",
        "    df['WMA_20']=pdta.wma(df['Close'],length=20)\n",
        "    df['Atr']=pdta.atr\n",
        "    df['HMA_21']=pdta.hma(df['Close'],length=21)\n",
        "    df['HMA_55']=pdta.hma(df['Close'],length=55)\n",
        "    #df = df.round(decimals=2)\n",
        "    df['St Trade']='-';       df['MACD Trade']='-'\n",
        "    df['PSAR Trade']='-';     df['DI Trade']='-'\n",
        "    df['MA Trade']='-';       df['EMA Trade']='-'\n",
        "    df['BB Trade']='-';       df['Trade']='-'\n",
        "    df['Trade End']='-';      df['Rainbow MA']='-'\n",
        "    df['Rainbow Trade']='-';  df['MA 21 Trade']='-'\n",
        "    df['ST_10_2 Trade']='-';  df['Two Candle Theory']='-';  df['HMA Trade']='-'\n",
        "    df=get_trade_info(df)\n",
        "    return df\n",
        "  except Exception as e:\n",
        "    print(\"Error in calculate Indicator\",e)\n",
        "    #df=calculate_indicator_old(df)\n",
        "    return df"
      ]
    },
    {
      "cell_type": "code",
      "execution_count": null,
      "metadata": {
        "colab": {
          "base_uri": "https://localhost:8080/"
        },
        "id": "i3vypC97mdkj",
        "outputId": "377939b6-27d7-42af-fe73-8a43b8863afc"
      },
      "outputs": [
        {
          "output_type": "stream",
          "name": "stdout",
          "text": [
            "time: 3.25 ms (started: 2023-02-04 09:13:47 +00:00)\n"
          ]
        }
      ],
      "source": [
        "def categorise(row):  \n",
        "    if row['Close'] > row['Open'] : return 'Green'\n",
        "    elif row['Close'] < row['Open']: return 'Red'\n",
        "def calculaye_candle_indicator(df):\n",
        "  df['Candle Color'] = df.apply(lambda row: categorise(row), axis=1)\n",
        "  df['2_C_L']='-'\n",
        "  df['2_C_L Sell']='-'\n",
        "  df['2_C_L SL']='-'\n",
        "  for i in range(2,len(df)-1):\n",
        "    if df['Candle Color'][i-1]=='Red' and df['Low'][i]< df['Low'][i-1]:\n",
        "      df['2_C_L'][i]=\"Sell\"\n",
        "      df['2_C_L Sell'][i]=df['Low'][i-1]\n",
        "      df['2_C_L SL'][i]=df['High'][i-1]\n",
        "  df=df[['Date','Datetime','Open','High','Low','Close','Candle Color','2_C_L','2_C_L Sell','2_C_L SL']]\n",
        "  return df"
      ]
    },
    {
      "cell_type": "code",
      "execution_count": null,
      "metadata": {
        "colab": {
          "base_uri": "https://localhost:8080/"
        },
        "id": "Xfc6xEUPM8oZ",
        "outputId": "c58ebfdd-95d9-44bc-b339-19f6fd36be9b"
      },
      "outputs": [
        {
          "output_type": "stream",
          "name": "stdout",
          "text": [
            "time: 8.56 ms (started: 2023-02-04 09:13:47 +00:00)\n"
          ]
        }
      ],
      "source": [
        "#Calculate Pivot Points\n",
        "def calculate_pivot(symbol):\n",
        "  symbol_yf='^NSEBANK' if symbol==\"BANKNIFTY\" else '^NSEI'\n",
        "  data_ohlc=yf.Ticker(symbol_yf).history(interval='1d')\n",
        "  data_ohlc = data_ohlc.round(decimals=2)\n",
        "  data_ohlc.reset_index(level=0, inplace=True)\n",
        "  date=data_ohlc['Date'].values[-1]\n",
        "  date = pd.to_datetime(str(date)) \n",
        "  date = date.strftime('%Y.%m.%d')\n",
        "  today= datetime.datetime.now(tz=gettz('Asia/Kolkata'))\n",
        "  today = pd.to_datetime(str(today)) \n",
        "  today = today.strftime('%Y.%m.%d')\n",
        "  if date==today:\n",
        "    data_ohlc=data_ohlc.iloc[:-1]\n",
        "  h=data_ohlc['High'].values[-1]\n",
        "  l=data_ohlc['Low'].values[-1]\n",
        "  c=data_ohlc['Close'].values[-1]\n",
        "  P = round((h + l + c)/3,2)\n",
        "  S1=round(P-(0.383*(h-l)),2)\n",
        "  S2=round(P-(0.618*(h-l)),2)\n",
        "  S3=round(P-(1*(h-l)),2)\n",
        "  R1=round(P+(0.383*(h-l)),2)\n",
        "  R2=round(P+(0.618*(h-l)),2)\n",
        "  R3=round(P+(1*(h-l)),2)\n",
        "  #pivot_trade=pivot_point_cross(f_close,s_close,P,S1,S2,S3,R1,R2,R3,symbol)\n",
        "  return P,S1,S2,S3,R1,R2,R3"
      ]
    },
    {
      "cell_type": "code",
      "execution_count": null,
      "metadata": {
        "colab": {
          "base_uri": "https://localhost:8080/"
        },
        "id": "IHXwEHvlYvgb",
        "outputId": "71649328-e1c6-44b0-d09e-c5b0a7f73306"
      },
      "outputs": [
        {
          "output_type": "stream",
          "name": "stdout",
          "text": [
            "time: 4.09 ms (started: 2023-02-04 09:13:47 +00:00)\n"
          ]
        }
      ],
      "source": [
        "# Calculate Heikin Ashi\n",
        "def calculate_heikin_ashi(df):\n",
        "  for i in range(2,len(df)):\n",
        "    o=df['Open'][i-0]\n",
        "    h=df['High'][i-0]\n",
        "    l=df['Low'][i-0]\n",
        "    c=df['Close'][i-0]\n",
        "    df['Open'][i]=(o+c)/2\n",
        "    df['Close'][i]=(o+h+l+c)/4\n",
        "  return df"
      ]
    },
    {
      "cell_type": "code",
      "execution_count": null,
      "metadata": {
        "colab": {
          "base_uri": "https://localhost:8080/"
        },
        "id": "dqJJThSxNJBI",
        "outputId": "e32f6571-9836-4bc5-c937-e8412c98d6f6"
      },
      "outputs": [
        {
          "output_type": "stream",
          "name": "stdout",
          "text": [
            "time: 13.8 ms (started: 2023-02-04 09:13:47 +00:00)\n"
          ]
        }
      ],
      "source": [
        "#@title Download Historical data from yfinance\n",
        "def historical_data_yfna(symbol,interval,candle_type=\"NORMAL\",period=\"3d\"):\n",
        "  try:\n",
        "    n_period=int(period.replace(\"d\",''))\n",
        "    #df=yf.download(symbol, period = \"60d\",interval = interval)\n",
        "    if interval==\"1m\": delta_time=1\n",
        "    elif interval==\"3m\": delta_time=3\n",
        "    elif interval==\"5m\": delta_time=5\n",
        "    elif interval==\"15m\": delta_time=15\n",
        "    elif interval==\"60m\": delta_time=60; period=\"60d\"\n",
        "    if symbol==\"^NSEI\" or symbol==\"NIFTY\": symbol=\"^NSEI\"\n",
        "    elif symbol==\"^NSEBANK\" or symbol==\"BANKNIFTY\": symbol=\"^NSEBANK\"\n",
        "    if interval=='3m':\n",
        "      df=yf.Ticker(symbol).history(interval='1m',period=period)\n",
        "      df=df.groupby(pd.Grouper(freq='3min')).agg({\"Open\": \"first\", \"High\": \"max\", \"Low\": \"min\", \"Close\": \"last\", \"Volume\": \"sum\",\n",
        "                                                'Dividends':'sum','Stock Splits':'sum'})\n",
        "      df=df[(df['Open']>0)]\n",
        "    else:\n",
        "      df=yf.Ticker(symbol).history(interval=interval,period=period)\n",
        "    df.reset_index(level=0, inplace=True)\n",
        "    df['Datetime']=df['Datetime'].dt.tz_localize(None)\n",
        "    #df = df.round(decimals=2)\n",
        "    now=datetime.datetime.now(tz=gettz('Asia/Kolkata')).replace(microsecond=0, tzinfo=None)\n",
        "    last_candle=now.replace(second=0, microsecond=0)- timedelta(minutes=delta_time)\n",
        "    df = df[(df['Datetime'] <= last_candle)]\n",
        "    #aa=get_previous_close()\n",
        "    #for i in range(-1,-6,-1):\n",
        "    #  l_row=df.iloc[i]['Datetime']\n",
        "    #  if aa<=l_row:\n",
        "    #    df=df.iloc[:-1]\n",
        "    #df['Date'] = pd.to_datetime(df['Datetime']).dt.date\n",
        "    df['Date']=df['Datetime'].dt.strftime('%m/%d/%y')\n",
        "    df['Datetime'] = pd.to_datetime(df['Datetime']).dt.time\n",
        "    #df['Datetime'] = df['Datetime'].dt.strftime('%H:%M:%S')\n",
        "    df['Time Frame']=interval\n",
        "    if candle_type==\"HEIKIN_ASHI\":\n",
        "      df=calculate_heikin_ashi(df)\n",
        "    #df=df.drop(columns =['Volume','Dividends','Stock Splits'], axis l= 1)\n",
        "    df=df[['Date','Datetime','Open','High','Low','Close','Volume','Time Frame']]\n",
        "    df=calculate_indicator(df)\n",
        "    df=df.round(2)\n",
        "    return df\n",
        "  except Exception as e:\n",
        "    print('Error historical_data_yfna :',e)"
      ]
    },
    {
      "cell_type": "code",
      "execution_count": null,
      "metadata": {
        "colab": {
          "base_uri": "https://localhost:8080/"
        },
        "id": "ic1x6hKbptsK",
        "outputId": "ef3485bf-4e29-4d36-a3a2-dcd4a450b3d3"
      },
      "outputs": [
        {
          "output_type": "stream",
          "name": "stdout",
          "text": [
            "time: 17.9 ms (started: 2023-02-04 09:13:47 +00:00)\n"
          ]
        }
      ],
      "source": [
        "def yfna_data(symbol,interval,period):\n",
        "  try:\n",
        "    df=yf.Ticker(symbol).history(interval=interval,period=period)\n",
        "    df['Datetime'] = df.index\n",
        "    df['Datetime']=df['Datetime'].dt.tz_localize(None)\n",
        "    df.index=df['Datetime']\n",
        "    df=df[['Datetime','Open','High','Low','Close','Volume']]\n",
        "    df['Date']=df['Datetime'].dt.strftime('%m/%d/%y')\n",
        "    df['Datetime'] = pd.to_datetime(df['Datetime']).dt.time\n",
        "    df=df[['Date','Datetime','Open','High','Low','Close','Volume']]\n",
        "    if isinstance(df, str) or (isinstance(df, pd.DataFrame)==True and len(df)==0):\n",
        "      df=\"No data found, symbol may be delisted\"\n",
        "      print(\"Yahoo Data Not Found\")\n",
        "      return df\n",
        "    return df\n",
        "  except:\n",
        "    print(\"Yahoo Data Not Found\")\n",
        "    return \"No data found, symbol may be delisted\"\n",
        "def angel_data(token,interval,exch_seg,fromdate,todate):\n",
        "  try:\n",
        "    historicParam={\"exchange\": exch_seg,\"symboltoken\": token,\"interval\": interval,\"fromdate\": fromdate, \"todate\": todate}\n",
        "    res_json=obj.getCandleData(historicParam)\n",
        "    df = pd.DataFrame(res_json['data'], columns=['timestamp','O','H','L','C','V'])\n",
        "    df = df.rename(columns={'timestamp':'Datetime','O':'Open','H':'High','L':'Low','C':'Close','V':'Volume'})\n",
        "    df['Datetime'] = pd.to_datetime(df['Datetime'],format = '%Y-%m-%d %H:%M:%S')\n",
        "    df['Datetime']=df['Datetime'].dt.tz_localize(None)\n",
        "    df = df.set_index('Datetime')\n",
        "    df['Datetime']=pd.to_datetime(df.index,format = '%Y-%m-%d %H:%M:%S')\n",
        "    df['Date']=df['Datetime'].dt.strftime('%m/%d/%y')\n",
        "    df['Datetime'] = pd.to_datetime(df['Datetime']).dt.time\n",
        "    df=df[['Date','Datetime','Open','High','Low','Close','Volume']]\n",
        "    if isinstance(df, str) or (isinstance(df, pd.DataFrame)==True and len(df)==0):\n",
        "      print(\"Angel Data Not Found\")\n",
        "      return \"No data found, symbol may be delisted\"\n",
        "    return df\n",
        "  except:\n",
        "    print(\"Angel Data Not Found\")\n",
        "    return \"No data found, symbol may be delisted\"\n",
        "def five_paisa_data(token,interval,exch_seg,fromdate,todate):\n",
        "  try:\n",
        "    exch_seg=\"C\" if exch_seg==\"NSE\" else \"D\"\n",
        "    df=df=client.historical_data('N',exch_seg,token,interval,fromdate,todate)\n",
        "    df['Datetime'] = pd.to_datetime(df['Datetime'],format = '%Y-%m-%d %H:%M:%S')\n",
        "    df['Datetime']=df['Datetime'].dt.tz_localize(None)\n",
        "    df['Date']=df['Datetime'].dt.strftime('%m/%d/%y')\n",
        "    df['time'] = pd.to_datetime(df['Datetime']).dt.time\n",
        "    df = df.set_index('Datetime')\n",
        "    df=df[['Date','time','Open','High','Low','Close','Volume']]\n",
        "    df = df.rename(columns={'time':'Datetime'})\n",
        "    df=\"No data found, symbol may be delisted\" if isinstance(df, str) else df\n",
        "    return df\n",
        "  except:\n",
        "    print(\"Five Paisa Data Not Found\")\n",
        "    return \"No data found, symbol may be delisted\""
      ]
    },
    {
      "cell_type": "code",
      "execution_count": null,
      "metadata": {
        "colab": {
          "base_uri": "https://localhost:8080/"
        },
        "id": "vBxBkVE8Y3Gu",
        "outputId": "36e0947c-5024-41b3-ab2b-f85ed1c02f30"
      },
      "outputs": [
        {
          "output_type": "stream",
          "name": "stdout",
          "text": [
            "time: 19.4 ms (started: 2023-02-04 09:13:47 +00:00)\n"
          ]
        }
      ],
      "source": [
        "def get_token_info(symbol='-',token='-',exch_seg='-'):\n",
        "  if symbol=='-' and token=='-': symbol,token,exch_seg='-','-','-'\n",
        "  if token=='-':\n",
        "    df=token_df[token_df['symbol'].str.contains(symbol)]\n",
        "    if len(df)!=1 : df=df[df['symbol'].str.contains(\"-EQ\") & (df['exch_seg'] == 'NSE') & (df['name']==symbol)]\n",
        "    if df.empty==False : symbol,token,exch_seg=df.iloc[0]['symbol'],df.iloc[0]['token'],df.iloc[0]['exch_seg']\n",
        "  elif symbol=='-':\n",
        "    df=token_df[(token_df['token']==str(token)) & ((token_df['exch_seg']=='NSE') | (token_df['exch_seg']=='NFO'))]\n",
        "    if df.empty==False : symbol,token,exch_seg=df.iloc[0]['symbol'],df.iloc[0]['token'],df.iloc[0]['exch_seg']\n",
        "  return symbol,token,exch_seg"
      ]
    },
    {
      "cell_type": "code",
      "execution_count": null,
      "metadata": {
        "colab": {
          "base_uri": "https://localhost:8080/"
        },
        "id": "DmgNR-8Kp5uH",
        "outputId": "dfbe225e-a17d-4a2a-85b7-bd62f4e44570"
      },
      "outputs": [
        {
          "output_type": "stream",
          "name": "stdout",
          "text": [
            "time: 8.84 ms (started: 2023-02-04 09:13:47 +00:00)\n"
          ]
        }
      ],
      "source": [
        "def get_historical_data(symbol=\"-\",interval='5m',token=\"-\",exch_seg=\"-\",candle_type=\"NORMAL\"):\n",
        "  try:\n",
        "    if (symbol==\"^NSEI\" or symbol==\"NIFTY\") : symbol,token,exch_seg=\"^NSEI\",999920000,\"NSE\"\n",
        "    elif (symbol==\"^NSEBANK\" or symbol==\"BANKNIFTY\") : symbol,token,exch_seg=\"^NSEBANK\",999920005,\"NSE\"\n",
        "    if symbol[3:]=='-EQ': symbol=symbol[:-3]+\".NS\"\n",
        "    odd_candle,odd_interval,df=False,'','No Data Found'\n",
        "    if (interval==\"5m\" or interval=='FIVE_MINUTE'): period,delta_time,agl_interval,yf_interval,odd_interval=7,5,\"FIVE_MINUTE\",\"5m\",'5m'\n",
        "    elif (interval==\"15m\" or interval=='FIFTEEN_MINUTE'): period,delta_time,agl_interval,yf_interval,odd_interval=10,15,\"FIFTEEN_MINUTE\",\"15m\",'15m'\n",
        "    elif (interval==\"60m\" or interval=='ONE_HOUR'): period,delta_time,agl_interval,yf_interval,odd_interval=30,60,\"ONE_HOUR\",\"60m\",'60m'\n",
        "    elif (interval==\"1m\" or interval=='ONE_MINUTE') : period,delta_time,agl_interval,yf_interval,odd_interval=7,1,\"ONE_MINUTE\",\"1m\",'1m'\n",
        "    else:\n",
        "      period,delta_time,agl_interval,yf_interval,odd_candle=7,1,\"ONE_MINUTE\",\"1m\",True\n",
        "      for i in interval:\n",
        "        if(i.isdigit()): odd_interval+=i\n",
        "      delta_time=int(odd_interval)\n",
        "      odd_interval+='m'\n",
        "    if (symbol[0]==\"^\" or \"NS\" in symbol) and symbol !=\"-\":\n",
        "      df=yfna_data(symbol,yf_interval,str(period)+\"d\")\n",
        "    if isinstance(df, str):\n",
        "      to_date= datetime.datetime.now(tz=gettz('Asia/Kolkata'))\n",
        "      from_date = to_date - timedelta(days=period)\n",
        "      fromdate = from_date.strftime(\"%Y-%m-%d %H:%M\")\n",
        "      todate = to_date.strftime(\"%Y-%m-%d %H:%M\")\n",
        "      symbol,token,exch_seg=get_token_info(symbol=symbol,token=token,exch_seg=exch_seg)\n",
        "      df=angel_data(token,agl_interval,exch_seg,fromdate,todate)\n",
        "      if isinstance(df, str):\n",
        "        df=five_paisa_data(token,yf_interval,exch_seg,fromdate,todate)\n",
        "    if odd_candle ==True:\n",
        "      df=df.groupby(pd.Grouper(freq=odd_interval+'in')).agg({\"Date\":\"first\",\"Datetime\":\"first\",\"Open\": \"first\", \"High\": \"max\",\n",
        "                                                        \"Low\": \"min\", \"Close\": \"last\",\"Volume\": \"sum\"})\n",
        "      df=df[(df['Open']>0)]\n",
        "    now=datetime.datetime.now(tz=gettz('Asia/Kolkata')).replace(microsecond=0, tzinfo=None)    \n",
        "    last_candle=now.replace(second=0, microsecond=0)- timedelta(minutes=delta_time)\n",
        "    df = df[(df.index <= last_candle)]\n",
        "    df['Time Frame']=odd_interval\n",
        "    df.index.names = ['']\n",
        "    if candle_type==\"HEIKIN_ASHI\":\n",
        "      df=calculate_heikin_ashi(df)\n",
        "    df['VWAP']=pdta.vwap(high=df['High'],low=df['Low'],close=df['Close'],volume=df['Volume'])\n",
        "    df=df[['Date','Datetime','Open','High','Low','Close','Volume','VWAP','Time Frame']]\n",
        "    df=calculate_indicator(df)\n",
        "    df=df.round(2)\n",
        "    return df\n",
        "  except Exception as e:\n",
        "    print(\"get_historical_data\",e)"
      ]
    },
    {
      "cell_type": "code",
      "execution_count": null,
      "metadata": {
        "colab": {
          "base_uri": "https://localhost:8080/"
        },
        "id": "yKQoZDaKDGO1",
        "outputId": "31a99a95-09d2-4b21-d220-a24613a6d520"
      },
      "outputs": [
        {
          "output_type": "stream",
          "name": "stdout",
          "text": [
            "Pandas TA - Technical Analysis Indicators - v0.3.14b0\n",
            "Total Indicators & Utilities: 205\n",
            "Abbreviations:\n",
            "    aberration, above, above_value, accbands, ad, adosc, adx, alma, amat, ao, aobv, apo, aroon, atr, bbands, below, below_value, bias, bop, brar, cci, cdl_pattern, cdl_z, cfo, cg, chop, cksp, cmf, cmo, coppock, cross, cross_value, cti, decay, decreasing, dema, dm, donchian, dpo, ebsw, efi, ema, entropy, eom, er, eri, fisher, fwma, ha, hilo, hl2, hlc3, hma, hwc, hwma, ichimoku, increasing, inertia, jma, kama, kc, kdj, kst, kurtosis, kvo, linreg, log_return, long_run, macd, mad, massi, mcgd, median, mfi, midpoint, midprice, mom, natr, nvi, obv, ohlc4, pdist, percent_return, pgo, ppo, psar, psl, pvi, pvo, pvol, pvr, pvt, pwma, qqe, qstick, quantile, rma, roc, rsi, rsx, rvgi, rvi, short_run, sinwma, skew, slope, sma, smi, squeeze, squeeze_pro, ssf, stc, stdev, stoch, stochrsi, supertrend, swma, t3, td_seq, tema, thermo, tos_stdevall, trima, trix, true_range, tsi, tsignals, ttm_trend, ui, uo, variance, vhf, vidya, vortex, vp, vwap, vwma, wcp, willr, wma, xsignals, zlma, zscore\n",
            "\n",
            "Candle Patterns:\n",
            "    2crows, 3blackcrows, 3inside, 3linestrike, 3outside, 3starsinsouth, 3whitesoldiers, abandonedbaby, advanceblock, belthold, breakaway, closingmarubozu, concealbabyswall, counterattack, darkcloudcover, doji, dojistar, dragonflydoji, engulfing, eveningdojistar, eveningstar, gapsidesidewhite, gravestonedoji, hammer, hangingman, harami, haramicross, highwave, hikkake, hikkakemod, homingpigeon, identical3crows, inneck, inside, invertedhammer, kicking, kickingbylength, ladderbottom, longleggeddoji, longline, marubozu, matchinglow, mathold, morningdojistar, morningstar, onneck, piercing, rickshawman, risefall3methods, separatinglines, shootingstar, shortline, spinningtop, stalledpattern, sticksandwich, takuri, tasukigap, thrusting, tristar, unique3river, upsidegap2crows, xsidegap3methods\n",
            "time: 12.3 ms (started: 2023-02-04 09:13:47 +00:00)\n"
          ]
        }
      ],
      "source": [
        "df = pd.DataFrame()\n",
        "df.ta.indicators()"
      ]
    },
    {
      "cell_type": "code",
      "execution_count": null,
      "metadata": {
        "colab": {
          "base_uri": "https://localhost:8080/"
        },
        "id": "rhyzaADwpP0R",
        "outputId": "e1d567de-8ebb-436b-8ba5-1e9275496e2a"
      },
      "outputs": [
        {
          "output_type": "stream",
          "name": "stdout",
          "text": [
            "time: 3.05 ms (started: 2023-02-04 09:13:47 +00:00)\n"
          ]
        }
      ],
      "source": [
        "def candlestick_pattern(df):\n",
        "  df=historical_data_yfna(\"^NSEBANK\",'5m')\n",
        "  df['DOJI']=pdta.cdl_doji(open=df['Open'],high=df['High'],low=df['Low'],close=df['Close'])\n",
        "  df['CLOSINGMARUBOZU'] = pdta.closingmarubozu(open=df['Open'],high=df['High'],low=df['Low'],close=df['Close'])\n",
        "  df['ENGULFING'] = pdta.engulfing(open=df['Open'],high=df['High'],low=df['Low'],close=df['Close'])\n",
        "  df['HAMMER'] = pdta.hammer(open=df['Open'],high=df['High'],low=df['Low'],close=df['Close'])\n",
        "  df['HANGINGMAN'] = pdta.hangingman(open=df['Open'],high=df['High'],low=df['Low'],close=df['Close'])\n",
        "  df['INVERTEDHAMMER'] = pdta.invertedhammer(open=df['Open'],high=df['High'],low=df['Low'],close=df['Close'])\n",
        "  df['MARUBOZU']  = pdta.marubozu(open=df['Open'],high=df['High'],low=df['Low'],close=df['Close'])\n",
        "  return df"
      ]
    },
    {
      "cell_type": "code",
      "execution_count": null,
      "metadata": {
        "colab": {
          "base_uri": "https://localhost:8080/"
        },
        "id": "bkfw1eDHWoB4",
        "outputId": "a64cb02f-7973-44c4-cc6f-86fb54bb78d3"
      },
      "outputs": [
        {
          "output_type": "stream",
          "name": "stdout",
          "text": [
            "time: 3.2 ms (started: 2023-02-04 09:13:47 +00:00)\n"
          ]
        }
      ],
      "source": [
        "#Get Historical Data from Angel\n",
        "def historicaldata (exchange,symboltoken,interval,from_date_format,to_date_format):\n",
        "  try:\n",
        "    historicParam={\n",
        "    \"exchange\": exchange,\n",
        "    \"symboltoken\": symboltoken,\n",
        "    \"interval\": interval,\n",
        "    \"fromdate\": from_date_format, \n",
        "    \"todate\": to_date_format}\n",
        "    res_json=obj.getCandleData(historicParam)\n",
        "    columns = ['timestamp','O','H','L','C','V']\n",
        "    df = pd.DataFrame(res_json['data'], columns=columns)\n",
        "    df['timestamp'] = pd.to_datetime(df['timestamp'],format = '%Y-%m-%d %H:%M:%S')\n",
        "    df=df.drop(columns =['V'], axis = 1)\n",
        "    df = df.rename(columns={'timestamp':'Datetime','O':'Open','H':'High','L':'Low','C':'Close'})\n",
        "    df['Time Frame']=interval\n",
        "    #df=calculate_indicator(df)\n",
        "    return df\n",
        "    #return obj.getCandleData(historicParam)\n",
        "  except Exception as e:\n",
        "    print(\"Historic Api failed\",e)"
      ]
    },
    {
      "cell_type": "code",
      "execution_count": null,
      "metadata": {
        "colab": {
          "base_uri": "https://localhost:8080/"
        },
        "id": "e-AHwn3HWrKV",
        "outputId": "9cd83001-47b2-4d0a-eff2-dadfc501f261"
      },
      "outputs": [
        {
          "output_type": "stream",
          "name": "stdout",
          "text": [
            "time: 8.73 ms (started: 2023-02-04 09:13:47 +00:00)\n"
          ]
        }
      ],
      "source": [
        "#Fetch Historical Data\n",
        "def fetch_historical_data(token,exch_seg,interval):\n",
        "  try:\n",
        "    to_date= datetime.datetime.now(tz=gettz('Asia/Kolkata'))\n",
        "    from_date = to_date - timedelta(days=30)\n",
        "    from_date_format = from_date.strftime(\"%Y-%m-%d %H:%M\")\n",
        "    to_date_format = to_date.strftime(\"%Y-%m-%d %H:%M\")\n",
        "    if interval==\"1m\" or interval==\"ONE_MINUTE\" or interval==\"3m\" or interval==\"THREE_MINUTE\": interval=\"ONE_MINUTE\"; delta_time=1\n",
        "    elif interval==\"5m\" or interval==\"FIVE_MINUTE\": interval=\"FIVE_MINUTE\"; delta_time=5\n",
        "    elif interval==\"15m\" or interval==\"FIFTEEN_MINUTE\": interval=\"FIFTEEN_MINUTE\"; delta_time=15\n",
        "    elif interval==\"60m\" or interval==\"HOUR\": interval=\"HOUR\"; delta_time=60\n",
        "    else: interval=\"FIVE_MINUTE\"; delta_time=5\n",
        "    old_data= historicaldata(exch_seg,token,interval,from_date_format,to_date_format)\n",
        "    old_data['Datetime']=old_data['Datetime'].dt.tz_localize(None)\n",
        "    now=datetime.datetime.now(tz=gettz('Asia/Kolkata')).replace(microsecond=0, tzinfo=None)\n",
        "    last_candle=now.replace(second=0, microsecond=0)- timedelta(minutes=delta_time)\n",
        "    old_data = old_data[(old_data['Datetime'] <= last_candle)]\n",
        "    old_data['Date']=old_data['Datetime'].dt.strftime('%m/%d/%y')\n",
        "    old_data['Datetime'] = pd.to_datetime(old_data['Datetime']).dt.time\n",
        "    old_data['Time Frame']=interval\n",
        "    old_data=calculate_indicator(old_data)\n",
        "    return old_data\n",
        "  except Exception as e:\n",
        "    print(\"error in fetch_historical_data angel\")\n",
        "    old_data=fetch_historical_data_5paisa(token,exch_seg,interval)\n",
        "    return old_data"
      ]
    },
    {
      "cell_type": "code",
      "execution_count": null,
      "metadata": {
        "colab": {
          "base_uri": "https://localhost:8080/"
        },
        "id": "0V71N4w7Cjs8",
        "outputId": "bc34ffb5-647d-471c-ded5-a8339c269d8b"
      },
      "outputs": [
        {
          "output_type": "stream",
          "name": "stdout",
          "text": [
            "time: 21 ms (started: 2023-02-04 09:13:47 +00:00)\n"
          ]
        }
      ],
      "source": [
        "#Fetch Historical Data from 5paisa\n",
        "def fetch_historical_data_5paisa(token,exch_seg,interval):\n",
        "  try:\n",
        "    if exch_seg==\"NFO\" or exch_seg==\"D\": exch_seg=\"D\"\n",
        "    if interval==\"1m\" or interval==\"ONE_MINUTE\" or interval==\"3m\" or interval==\"THREE_MINUTE\": interval=\"1m\"; delta_time=1\n",
        "    elif interval==\"5m\" or interval==\"FIVE_MINUTE\": interval=\"5m\"; delta_time=5\n",
        "    elif interval==\"15m\" or interval==\"FIFTEEN_MINUTE\": interval=\"15m\"; delta_time=15\n",
        "    elif interval==\"60m\" or interval==\"HOUR\": interval=\"60m\"; delta_time=60\n",
        "    else: interval=\"5m\"; delta_time=5\n",
        "    to_date= datetime.datetime.now(tz=gettz('Asia/Kolkata')).replace(microsecond=0, tzinfo=None)\n",
        "    from_date = to_date - timedelta(days=10)\n",
        "    from_date_format = from_date.strftime(\"%Y-%m-%d %H:%M\")\n",
        "    to_date_format = to_date.strftime(\"%Y-%m-%d %H:%M\")\n",
        "    old_data=client.historical_data('N','D',token,interval,from_date_format,to_date_format)\n",
        "    old_data['Datetime'] = pd.to_datetime(old_data['Datetime'],format = '%Y-%m-%d %H:%M:%S')\n",
        "    last_candle=to_date- timedelta(minutes=delta_time)\n",
        "    old_data = old_data[(old_data['Datetime'] <= last_candle)]\n",
        "    old_data['Date']=old_data['Datetime'].dt.strftime('%m/%d/%y')\n",
        "    old_data['Datetime'] = pd.to_datetime(old_data['Datetime']).dt.time\n",
        "    old_data=old_data[['Date','Datetime','Open','High','Low','Close']]\n",
        "    old_data['Time Frame']=interval\n",
        "    old_data=calculate_indicator(old_data)\n",
        "    return old_data\n",
        "  except Exception as e:\n",
        "    print(\"fetch_historical_data five paisa\",e)"
      ]
    },
    {
      "cell_type": "code",
      "execution_count": null,
      "metadata": {
        "colab": {
          "base_uri": "https://localhost:8080/"
        },
        "id": "tYgnJllvWuSY",
        "outputId": "eaef57d8-2aa5-41b4-9546-f0f3f0e6baf3"
      },
      "outputs": [
        {
          "output_type": "stream",
          "name": "stdout",
          "text": [
            "time: 5.4 ms (started: 2023-02-04 09:13:47 +00:00)\n"
          ]
        }
      ],
      "source": [
        "def stock_trade(symbol,interval):\n",
        "  spot_token = getTokenInfo(symbol=symbol,exch_seg='NSE').iloc[0]\n",
        "  price=obj.ltpData('NSE',spot_token['symbol'],spot_token['token'])\n",
        "  historical_data=get_historical_data(symbol=\"-\",interval=interval,token=spot_token['token'],exch_seg=\"NSE\",candle_type=\"NORMAL\")\n",
        "  #historical_data= fetch_historical_data(spot_token['token'],'NSE',interval)\n",
        "  return spot_token['token'],spot_token['symbol'],historical_data"
      ]
    },
    {
      "cell_type": "code",
      "execution_count": null,
      "metadata": {
        "colab": {
          "base_uri": "https://localhost:8080/"
        },
        "id": "KcojCn2DW0mV",
        "outputId": "b0408870-51b5-4bf5-c277-dd962a0db9f4"
      },
      "outputs": [
        {
          "output_type": "stream",
          "name": "stdout",
          "text": [
            "time: 6.12 ms (started: 2023-02-04 09:13:47 +00:00)\n"
          ]
        }
      ],
      "source": [
        "# get current bank nifty data\n",
        "def get_ce_pe_data(symbol,indexLtp=\"-\"):\n",
        "  indexLtp=float(indexLtp) if indexLtp!=\"-\" else get_index_ltp(symbol)\n",
        "  # ATM\n",
        "  if symbol=='BANKNIFTY' or symbol=='^NSEBANK':\n",
        "    symbol='BANKNIFTY'\n",
        "    ATMStrike = math.floor(indexLtp/100)*100\n",
        "  elif symbol=='NIFTY' or symbol=='^NSEI':\n",
        "    symbol='NIFTY'\n",
        "    val2 = math.fmod(indexLtp, 50)\n",
        "    val3 = 50 if val2 >= 25 else 0\n",
        "    ATMStrike = indexLtp - val2 + val3\n",
        "  #CE,#PE\n",
        "  ce_strike_symbol = getTokenInfo(symbol,'NFO','OPTIDX',ATMStrike,'CE',expiry_day).iloc[0]\n",
        "  pe_strike_symbol = getTokenInfo(symbol,'NFO','OPTIDX',ATMStrike,'PE',expiry_day).iloc[0]\n",
        "  print(symbol+' LTP:',indexLtp,ce_strike_symbol['symbol'],'&',pe_strike_symbol['symbol'])\n",
        "  return indexLtp, ce_strike_symbol,pe_strike_symbol"
      ]
    },
    {
      "cell_type": "code",
      "execution_count": null,
      "metadata": {
        "colab": {
          "base_uri": "https://localhost:8080/"
        },
        "id": "O1tVfKRVW3iW",
        "outputId": "3c62f6d9-9525-443b-9d32-e23b6f57840e"
      },
      "outputs": [
        {
          "output_type": "stream",
          "name": "stdout",
          "text": [
            "time: 14.5 ms (started: 2023-02-04 09:13:47 +00:00)\n"
          ]
        }
      ],
      "source": [
        "#Index Trade Details\n",
        "def index_trade(symbol=\"-\",interval=\"-\",candle_type=\"NORMAL\",token=\"-\",exch_seg=\"-\"):\n",
        "  try:\n",
        "    fut_data=get_historical_data(symbol,interval=interval,token=token,exch_seg=exch_seg,candle_type=candle_type)\n",
        "    trade=str(fut_data['Trade'].values[-1])\n",
        "    trade_end=str(fut_data['Trade End'].values[-1])\n",
        "    if trade!=\"-\" or trade_end!=\"-\":\n",
        "      indicator_strategy=fut_data['Indicator'].values[-1]\n",
        "      indexLtp=fut_data['Close'].values[-1]\n",
        "      interval_yf=fut_data['Time Frame'].values[-1]\n",
        "      if symbol[:4]==\"BANK\" or symbol==\"BANKNIFTY\" or symbol==\"^NSEBANK\": symbol=\"BANKNIFTY\"\n",
        "      elif symbol[:4]==\"NIFT\" or symbol==\"NIFTY\" or symbol==\"^NSEI\": symbol=\"NIFTY\"\n",
        "      if \"Two Candle\" in indicator_strategy or \"3m\" in indicator_strategy:\n",
        "        two_candle_trade=todays_trade_log[(todays_trade_log['Status'] == 'Pending') & \n",
        "                 (todays_trade_log['ordertag'].str.contains(\"Two Candle\"))]\n",
        "        if len(two_candle_trade)!=0:\n",
        "          trade='-'\n",
        "      if trade!=\"-\":\n",
        "        if interval==\"3m\" or indexLtp==\"-\":\n",
        "          indexLtp=get_index_ltp(symbol)\n",
        "        indexLtp, ce_strike_symbol,pe_strike_symbol=get_ce_pe_data(symbol,indexLtp=indexLtp)\n",
        "        #if (bank_nifty_trading=='Yes' and symbol==\"BANKNIFTY\") or (nifty_trading=='Yes' and symbol==\"NIFTY\"):\n",
        "        if trade==\"Buy\" :\n",
        "          buy_option(ce_strike_symbol,indicator_strategy,interval)\n",
        "        elif trade==\"Sell\":\n",
        "          buy_option(pe_strike_symbol,indicator_strategy,interval)\n",
        "    if symbol[:4]==\"BANK\" or symbol==\"BANKNIFTY\" or symbol==\"^NSEBANK\": symbol=\"BANKNIFTY\"\n",
        "    elif symbol[:4]==\"NIFT\" or symbol==\"NIFTY\" or symbol==\"^NSEI\": symbol=\"NIFTY\"\n",
        "    interval_yf=fut_data['Time Frame'].values[-1]\n",
        "    indicator_strategy=fut_data['Indicator'].values[-1]\n",
        "    signal_dict[symbol + \"_\" +interval_yf] = trade_end\n",
        "    signal_dict[symbol + \"_\" +interval_yf+\"_indicator\"] = indicator_strategy\n",
        "    print(fut_data.tail(2)[['Datetime','Close','Trade','Trade End','Supertrend','Supertrend_10_2','RSI','VWAP','WMA_20','Indicator']].to_string(index=False))\n",
        "    return fut_data\n",
        "  except Exception as e:\n",
        "    print('Error in index trade:',symbol,e)"
      ]
    },
    {
      "cell_type": "code",
      "execution_count": null,
      "metadata": {
        "colab": {
          "base_uri": "https://localhost:8080/"
        },
        "id": "Ofcsm7qS75HV",
        "outputId": "85466e2d-c8ec-4f2e-b125-78a3cab324a2"
      },
      "outputs": [
        {
          "output_type": "stream",
          "name": "stdout",
          "text": [
            "time: 11.9 ms (started: 2023-02-04 09:13:47 +00:00)\n"
          ]
        }
      ],
      "source": [
        "def get_ltp_price(symbol=\"-\",token=\"-\",exch_seg='-'):\n",
        "  try:\n",
        "    #if symbol==\"-\" or token==\"-\" or exch_seg==\"-\":\n",
        "    df_b=token_df[((token_df['exch_seg']==\"NSE\") | (token_df['exch_seg']==\"NFO\"))]\n",
        "    df_b=df_b[(df_b['symbol'].str.startswith(symbol))]\n",
        "    if len(df_b)!=1:\n",
        "      df_b=df_b[((df_b['symbol'].str.startswith(symbol)) | (df_b['name'].str.startswith(symbol)))]\n",
        "    if len(df_b)!=1: \n",
        "      df_b=df_b[(df_b['name']==symbol) & (token_df['exch_seg']==\"NSE\")]\n",
        "    if len(df_b)!=1:\n",
        "      df_b=df_b[df_b['symbol'].str.contains('-EQ')]\n",
        "    df_a=token_df[(token_df['token']==str(token)) & ((token_df['exch_seg']==\"NSE\") | (token_df['exch_seg']==\"NFO\"))]\n",
        "    df_a=df_a.append(df_b)\n",
        "    df_a=df_a.drop_duplicates()\n",
        "    symbol=df_a['symbol'].iloc[0]\n",
        "    token=df_a['token'].iloc[0]\n",
        "    name=df_a['name'].iloc[0]\n",
        "    exch_seg=df_a['exch_seg'].iloc[0]\n",
        "    if exch_seg==\"NSE\":\n",
        "      five_p_symbol=name\n",
        "      five_p_exch=\"C\"\n",
        "    else:\n",
        "      five_p_symbol=df_a['name'].iloc[0] +\" \"+ df_a['expiry'].iloc[0].strftime(\"%d %b %Y\").upper()+ \" \" + df_a['symbol'].iloc[0][-2:]+ \" \" +str(int(df_a['strike'].iloc[0]/100))+\".00\"\n",
        "      five_p_exch=\"D\"\n",
        "    try:\n",
        "      ltpInfo = obj.ltpData(exch_seg,symbol,token)\n",
        "      ltp_price = ltpInfo['data']['ltp']\n",
        "    except Exception as e:\n",
        "      try:\n",
        "        a=[{\"Exchange\":\"N\",\"ExchangeType\":five_p_exch,\"Symbol\":five_p_symbol},]\n",
        "        ltp=(client.fetch_market_depth_by_symbol(a))['Data']\n",
        "        new_list=[i[\"LastTradedPrice\"] for i in ltp]\n",
        "        ltp_price=new_list[0]\n",
        "      except Exception as e:\n",
        "        ltp_price=0\n",
        "        print(\"Unable to get LTP\")\n",
        "  except Exception as e:\n",
        "    ltp_price=0\n",
        "    print(\"Unable to get LTP\")\n",
        "  return ltp_price"
      ]
    },
    {
      "cell_type": "code",
      "execution_count": null,
      "metadata": {
        "colab": {
          "base_uri": "https://localhost:8080/"
        },
        "id": "6sUhCaKfXqjQ",
        "outputId": "232dbd5e-3e41-4c2f-8243-0334fa8921a9"
      },
      "outputs": [
        {
          "output_type": "stream",
          "name": "stdout",
          "text": [
            "time: 18.5 ms (started: 2023-02-04 09:13:47 +00:00)\n"
          ]
        }
      ],
      "source": [
        "#Buy Option and Place Stop Loss Order\n",
        "def buy_option(symbol,indicator_strategy,interval,index_sl=\"-\"):\n",
        "  option_token=symbol['token']\n",
        "  option_symbol=symbol['symbol']\n",
        "  lotsize=int(symbol['lotsize'])*lots_to_trade\n",
        "  if 'Candle' in indicator_strategy:\n",
        "    index_symbol=\"BANKNIFTY\" if option_symbol[:4]=='BANK' else 'NIFTY'\n",
        "    fut_data=get_historical_data(symbol=index_symbol,interval='3m',token=\"-\",exch_seg=\"-\",candle_type=\"NORMAL\")\n",
        "    fut_data=fut_data.tail(3)\n",
        "    ce_sl=fut_data['Low'].min()\n",
        "    pe_sl=fut_data['High'].max()\n",
        "    index_sl = ce_sl if option_symbol[-2:]==\"CE\" else pe_sl\n",
        "    indicator_strategy=indicator_strategy+\" Index SL: \"+ str(float(index_sl))\n",
        "  try:\n",
        "    trade_price=place_order(token=option_token,symbol=option_symbol,qty=lotsize,buy_sell='BUY',ordertype='MARKET',price=0,\n",
        "                          variety='NORMAL',exch_seg='NFO',producttype='CARRYFORWARD',ordertag=indicator_strategy)\n",
        "  except Exception as e:\n",
        "    print(\"Order Placement Error\")\n",
        "    trade_price=\"-\"\n",
        "  tm=datetime.datetime.now(tz=gettz('Asia/Kolkata')).replace(microsecond=0, tzinfo=None)\n",
        "  #ltpInfo = obj.ltpData('NFO',option_symbol,option_token)\n",
        "  #ltp_price = ltpInfo['data']['ltp']\n",
        "  ltp_price=get_ltp_price(symbol=option_symbol,token=option_token,exch_seg=\"NFO\")\n",
        "  order_price=ltp_price if trade_price=='-' else trade_price \n",
        "  if 'Candle' in indicator_strategy:\n",
        "    target= banknifty_target_one_min if option_symbol[:4]=='BANK' else nifty_target_one_min\n",
        "    stop_loss= banknifty_sl_one_min if option_symbol[:4]=='BANK' else nifty_sl_one_min\n",
        "  else:\n",
        "    target= banknifty_target if option_symbol[:4]=='BANK' else nifty_target\n",
        "    stop_loss= banknifty_sl if option_symbol[:4]=='BANK' else nifty_sl\n",
        "  \n",
        "  if trade_exit=='percent' or trade_exit=='indicator':\n",
        "    target_price=(order_price*(100+percent_target))/100\n",
        "    stop_loss_price=(order_price*(100-percent_loss))/100\n",
        "  elif trade_exit=='points':\n",
        "    target_price=order_price+target\n",
        "    stop_loss_price=order_price-stop_loss\n",
        "  if trade_price!='-':\n",
        "    if target_order_type==\"Target\":\n",
        "      place_order(token=option_token,symbol=option_symbol,qty=lotsize,buy_sell='SELL',ordertype='LIMIT',price=(target_price),\n",
        "        variety='NORMAL',exch_seg='NFO',producttype='CARRYFORWARD')\n",
        "    elif target_order_type==\"Stop_Loss\":\n",
        "      place_order(token=option_token,symbol=option_symbol,qty=lotsize,buy_sell='SELL',ordertype='STOPLOSS_LIMIT',price=stop_loss_price,\n",
        "        variety='STOPLOSS',exch_seg='NFO',producttype='CARRYFORWARD',triggerprice=stop_loss_price,squareoff=stop_loss_price, stoploss=stop_loss_price)\n",
        "  print ('***Buy: ',option_symbol, ' Price: ',trade_price,' Indicator: ',indicator_strategy)\n",
        "  buy_msg=('Buy: '+'\\n'+option_symbol+'\\nPrice: '+str(trade_price)+' LTP: '+str(ltp_price)+'\\n'+str(indicator_strategy) \n",
        "          +'\\nTarget: '+str(target_price)+'\\nStop Loss: '+str(stop_loss_price)+ '\\nBuy Time: '+str(tm))\n",
        "  telegram_bot_sendtext(buy_msg)\n",
        "  if trade_price==\"-\" and near_option_trade ==\"Yes\":\n",
        "    near_option_list(option_symbol,indicator_strategy)"
      ]
    },
    {
      "cell_type": "code",
      "execution_count": null,
      "metadata": {
        "colab": {
          "base_uri": "https://localhost:8080/"
        },
        "id": "NVsykoidX1Ox",
        "outputId": "79d564e6-9ec3-4b15-ce7e-f3c963eb6fe0"
      },
      "outputs": [
        {
          "output_type": "stream",
          "name": "stdout",
          "text": [
            "time: 4.73 ms (started: 2023-02-04 09:13:48 +00:00)\n"
          ]
        }
      ],
      "source": [
        "#Exit Position\n",
        "def exit_position(symboltoken,tradingsymbol,qty,ltp_price,sl,ordertag=''):\n",
        "  try:\n",
        "    if isinstance(open_position,str)==True:\n",
        "      print('No Open Position:',tradingsymbol)\n",
        "      trade_price=place_order(token=symboltoken,symbol=tradingsymbol,qty=qty,buy_sell='SELL',ordertype='MARKET',price=0,\n",
        "                          variety='NORMAL',exch_seg='NFO',producttype='CARRYFORWARD',ordertag=ordertag)\n",
        "      pass\n",
        "    else:\n",
        "      position=open_position[(open_position.tradingsymbol==tradingsymbol) & (open_position.netqty!='0')]\n",
        "      position_cnt=len(position)\n",
        "      if position_cnt!=0:\n",
        "        cancel_all_order(tradingsymbol)\n",
        "        #orderId,orderPrice= get_active_order(tradingsymbol)\n",
        "        orderId='NoOrder'\n",
        "        if orderId=='NoOrder' :\n",
        "          place_order(token=symboltoken,symbol=tradingsymbol,qty=qty,buy_sell='SELL',ordertype='STOPLOSS_LIMIT',price=sl,\n",
        "                        variety='STOPLOSS',exch_seg='NFO',producttype='CARRYFORWARD',triggerprice=sl,squareoff=sl, stoploss=sl,ordertag=ordertag)\n",
        "        elif orderId!='NoOrder':\n",
        "          cancel_order(orderId)\n",
        "          sleep(1)\n",
        "          place_order(token=symboltoken,symbol=tradingsymbol,qty=qty,buy_sell='SELL',ordertype='STOPLOSS_LIMIT',price=sl,\n",
        "                      variety='STOPLOSS',exch_seg='NFO',producttype='CARRYFORWARD',triggerprice=sl,squareoff=sl, stoploss=sl,ordertag=ordertag)\n",
        "        print ('Exit Alert In Option: ' , tradingsymbol,'LTP:',ltp_price,'SL:',sl)\n",
        "        position_cnt=recheck_exit_position(tradingsymbol)\n",
        "      else:\n",
        "        print('No Open Position : ',tradingsymbol)\n",
        "  except Exception as e:\n",
        "    print('Error in exit_position:',e)"
      ]
    },
    {
      "cell_type": "code",
      "execution_count": null,
      "metadata": {
        "colab": {
          "base_uri": "https://localhost:8080/"
        },
        "id": "Nau-aQnLjwF1",
        "outputId": "e110b0bf-5d1c-4f88-f4b4-bbd08fcdbe4b"
      },
      "outputs": [
        {
          "output_type": "stream",
          "name": "stdout",
          "text": [
            "time: 2 ms (started: 2023-02-04 09:13:48 +00:00)\n"
          ]
        }
      ],
      "source": [
        "#recheck position exit or not\n",
        "def recheck_exit_position(tradingsymbol):\n",
        "  try:\n",
        "    position=pd.DataFrame(obj.position()['data'])\n",
        "    position = position[['symboltoken','tradingsymbol','netqty','totalbuyavgprice','totalsellavgprice','ltp']]\n",
        "    position=position[(position.tradingsymbol==tradingsymbol) & (position.netqty!='0')]\n",
        "    position_cnt=len(position)\n",
        "    if position_cnt!=0:\n",
        "      print(\"***Cant Exit position of \", tradingsymbol,'Please manually exit.')\n",
        "    return position_cnt\n",
        "  except Exception as e:\n",
        "    print('Error in Recheck exit_position:',e)"
      ]
    },
    {
      "cell_type": "code",
      "execution_count": null,
      "metadata": {
        "colab": {
          "base_uri": "https://localhost:8080/"
        },
        "id": "4BQ5vPf2YIhm",
        "outputId": "7a915a20-448a-4923-c1c1-b7a4dc49fd00"
      },
      "outputs": [
        {
          "output_type": "stream",
          "name": "stdout",
          "text": [
            "time: 4.99 ms (started: 2023-02-04 09:13:48 +00:00)\n"
          ]
        }
      ],
      "source": [
        "# Close Options Positions on alert in index\n",
        "def close_options_position(bnf_trade,nf_trade):\n",
        "  global orderbook,open_position\n",
        "  open_position=get_open_position()\n",
        "  orderbook=get_order_book()\n",
        "  if isinstance(open_position,str)==True : #or open_position=='No Position' or len(open_position)==0)\n",
        "    print(\"No Position\")\n",
        "    pass\n",
        "  else:\n",
        "    for i in open_position.index:\n",
        "      try:\n",
        "        tradingsymbol=open_position.loc[i]['tradingsymbol']\n",
        "        symboltoken=open_position.loc[i]['symboltoken']\n",
        "        qty=open_position['netqty'][i]\n",
        "        ltp_price=float(open_position['ltp'][i])\n",
        "        sl=float(ltp_price)\n",
        "        position_cnt=0\n",
        "        if ((bnf_trade=='Sell' and tradingsymbol[-2:]=='CE' and tradingsymbol[:4]=='BANK') or \n",
        "          (bnf_trade=='Buy' and tradingsymbol[-2:]=='PE' and tradingsymbol[:4]=='BANK') or \n",
        "          (nf_trade=='Sell' and tradingsymbol[-2:]=='CE' and tradingsymbol[:5]=='NIFTY') or\n",
        "          (nf_trade=='Buy' and tradingsymbol[-2:]=='PE' and tradingsymbol[:5]=='NIFTY')) :\n",
        "            exit_position(symboltoken,tradingsymbol,qty,ltp_price,ltp_price,ordertag='Indicator Exit LTP: '+str(ltp_price))\n",
        "            position_cnt=recheck_exit_position(tradingsymbol)\n",
        "        if position_cnt!=0:\n",
        "          telegram_bot_sendtext('Error in Exit '+tradingsymbol+' LTP: '+str(ltp_price))\n",
        "        sleep(1)\n",
        "      except Exception as e:\n",
        "        print('Error in Close index trade:',e)"
      ]
    },
    {
      "cell_type": "code",
      "execution_count": null,
      "metadata": {
        "colab": {
          "base_uri": "https://localhost:8080/"
        },
        "id": "KfvMZp7NYajX",
        "outputId": "18a82cf8-7175-40bb-bb67-a45fd246fb76"
      },
      "outputs": [
        {
          "output_type": "stream",
          "name": "stdout",
          "text": [
            "time: 7.5 ms (started: 2023-02-04 09:13:48 +00:00)\n"
          ]
        }
      ],
      "source": [
        "#Get Sleep Time\n",
        "def get_sleep_time():\n",
        "    now=datetime.datetime.now(tz=gettz('Asia/Kolkata')).replace(microsecond=0)\n",
        "    now_a=(now+timedelta(minutes=(5-now.minute%5))).replace(second=0)\n",
        "    total_sec=(now_a-now).total_seconds()+1\n",
        "    '''\n",
        "    for i in range(1,6):\n",
        "        now_a = now + timedelta(minutes=i)\n",
        "        a=now_a-now\n",
        "        mm=now_a.minute\n",
        "        if (mm%5==0):\n",
        "            now_b = now_a.replace(second=0, microsecond=0)\n",
        "            c=now_b-now\n",
        "            total_sec=c.total_seconds()+1\n",
        "            break\n",
        "    '''\n",
        "    return total_sec"
      ]
    },
    {
      "cell_type": "code",
      "execution_count": null,
      "metadata": {
        "colab": {
          "base_uri": "https://localhost:8080/",
          "height": 441
        },
        "id": "C1vf8DBmKpG7",
        "outputId": "45aa8474-bd81-4b88-c829-f628a0fee3ea"
      },
      "outputs": [
        {
          "output_type": "execute_result",
          "data": {
            "text/plain": [
              "      index  token         symbol        name expiry  strike lotsize  \\\n",
              "0     111.0      7    AARTIIND-EQ    AARTIIND    NaT    -1.0       1   \n",
              "1    3051.0     13         ABB-EQ         ABB    NaT    -1.0       1   \n",
              "2    4630.0  17903  ABBOTINDIA-EQ  ABBOTINDIA    NaT    -1.0       1   \n",
              "3    4045.0  21614   ABCAPITAL-EQ   ABCAPITAL    NaT    -1.0       1   \n",
              "4    5455.0  30108       ABFRL-EQ       ABFRL    NaT    -1.0       1   \n",
              "..      ...    ...            ...         ...    ...     ...     ...   \n",
              "195  4502.0   3812        ZEEL-EQ        ZEEL    NaT    -1.0       1   \n",
              "196  6243.0   5097      ZOMATO-EQ      ZOMATO    NaT    -1.0       1   \n",
              "197  6497.0   7929   ZYDUSLIFE-EQ   ZYDUSLIFE    NaT    -1.0       1   \n",
              "198     NaN    NaN          ^NSEI         NaN    NaN     NaN     NaN   \n",
              "199     NaN    NaN       ^NSEBANK         NaN    NaN     NaN     NaN   \n",
              "\n",
              "    instrumenttype exch_seg tick_size Revised_Name        YF_Name  \n",
              "0                       NSE  5.000000     AARTIIND    AARTIIND.NS  \n",
              "1                       NSE  5.000000          ABB         ABB.NS  \n",
              "2                       NSE  5.000000   ABBOTINDIA  ABBOTINDIA.NS  \n",
              "3                       NSE  5.000000    ABCAPITAL   ABCAPITAL.NS  \n",
              "4                       NSE  5.000000        ABFRL       ABFRL.NS  \n",
              "..             ...      ...       ...          ...            ...  \n",
              "195                     NSE  5.000000         ZEEL        ZEEL.NS  \n",
              "196                     NSE  5.000000       ZOMATO      ZOMATO.NS  \n",
              "197                     NSE  5.000000    ZYDUSLIFE   ZYDUSLIFE.NS  \n",
              "198            NaN      NaN       NaN        ^NSEI          ^NSEI  \n",
              "199            NaN      NaN       NaN     ^NSEBANK       ^NSEBANK  \n",
              "\n",
              "[200 rows x 12 columns]"
            ],
            "text/html": [
              "\n",
              "  <div id=\"df-8dcb0729-8606-4b94-a34d-57317b120826\">\n",
              "    <div class=\"colab-df-container\">\n",
              "      <div>\n",
              "<style scoped>\n",
              "    .dataframe tbody tr th:only-of-type {\n",
              "        vertical-align: middle;\n",
              "    }\n",
              "\n",
              "    .dataframe tbody tr th {\n",
              "        vertical-align: top;\n",
              "    }\n",
              "\n",
              "    .dataframe thead th {\n",
              "        text-align: right;\n",
              "    }\n",
              "</style>\n",
              "<table border=\"1\" class=\"dataframe\">\n",
              "  <thead>\n",
              "    <tr style=\"text-align: right;\">\n",
              "      <th></th>\n",
              "      <th>index</th>\n",
              "      <th>token</th>\n",
              "      <th>symbol</th>\n",
              "      <th>name</th>\n",
              "      <th>expiry</th>\n",
              "      <th>strike</th>\n",
              "      <th>lotsize</th>\n",
              "      <th>instrumenttype</th>\n",
              "      <th>exch_seg</th>\n",
              "      <th>tick_size</th>\n",
              "      <th>Revised_Name</th>\n",
              "      <th>YF_Name</th>\n",
              "    </tr>\n",
              "  </thead>\n",
              "  <tbody>\n",
              "    <tr>\n",
              "      <th>0</th>\n",
              "      <td>111.0</td>\n",
              "      <td>7</td>\n",
              "      <td>AARTIIND-EQ</td>\n",
              "      <td>AARTIIND</td>\n",
              "      <td>NaT</td>\n",
              "      <td>-1.0</td>\n",
              "      <td>1</td>\n",
              "      <td></td>\n",
              "      <td>NSE</td>\n",
              "      <td>5.000000</td>\n",
              "      <td>AARTIIND</td>\n",
              "      <td>AARTIIND.NS</td>\n",
              "    </tr>\n",
              "    <tr>\n",
              "      <th>1</th>\n",
              "      <td>3051.0</td>\n",
              "      <td>13</td>\n",
              "      <td>ABB-EQ</td>\n",
              "      <td>ABB</td>\n",
              "      <td>NaT</td>\n",
              "      <td>-1.0</td>\n",
              "      <td>1</td>\n",
              "      <td></td>\n",
              "      <td>NSE</td>\n",
              "      <td>5.000000</td>\n",
              "      <td>ABB</td>\n",
              "      <td>ABB.NS</td>\n",
              "    </tr>\n",
              "    <tr>\n",
              "      <th>2</th>\n",
              "      <td>4630.0</td>\n",
              "      <td>17903</td>\n",
              "      <td>ABBOTINDIA-EQ</td>\n",
              "      <td>ABBOTINDIA</td>\n",
              "      <td>NaT</td>\n",
              "      <td>-1.0</td>\n",
              "      <td>1</td>\n",
              "      <td></td>\n",
              "      <td>NSE</td>\n",
              "      <td>5.000000</td>\n",
              "      <td>ABBOTINDIA</td>\n",
              "      <td>ABBOTINDIA.NS</td>\n",
              "    </tr>\n",
              "    <tr>\n",
              "      <th>3</th>\n",
              "      <td>4045.0</td>\n",
              "      <td>21614</td>\n",
              "      <td>ABCAPITAL-EQ</td>\n",
              "      <td>ABCAPITAL</td>\n",
              "      <td>NaT</td>\n",
              "      <td>-1.0</td>\n",
              "      <td>1</td>\n",
              "      <td></td>\n",
              "      <td>NSE</td>\n",
              "      <td>5.000000</td>\n",
              "      <td>ABCAPITAL</td>\n",
              "      <td>ABCAPITAL.NS</td>\n",
              "    </tr>\n",
              "    <tr>\n",
              "      <th>4</th>\n",
              "      <td>5455.0</td>\n",
              "      <td>30108</td>\n",
              "      <td>ABFRL-EQ</td>\n",
              "      <td>ABFRL</td>\n",
              "      <td>NaT</td>\n",
              "      <td>-1.0</td>\n",
              "      <td>1</td>\n",
              "      <td></td>\n",
              "      <td>NSE</td>\n",
              "      <td>5.000000</td>\n",
              "      <td>ABFRL</td>\n",
              "      <td>ABFRL.NS</td>\n",
              "    </tr>\n",
              "    <tr>\n",
              "      <th>...</th>\n",
              "      <td>...</td>\n",
              "      <td>...</td>\n",
              "      <td>...</td>\n",
              "      <td>...</td>\n",
              "      <td>...</td>\n",
              "      <td>...</td>\n",
              "      <td>...</td>\n",
              "      <td>...</td>\n",
              "      <td>...</td>\n",
              "      <td>...</td>\n",
              "      <td>...</td>\n",
              "      <td>...</td>\n",
              "    </tr>\n",
              "    <tr>\n",
              "      <th>195</th>\n",
              "      <td>4502.0</td>\n",
              "      <td>3812</td>\n",
              "      <td>ZEEL-EQ</td>\n",
              "      <td>ZEEL</td>\n",
              "      <td>NaT</td>\n",
              "      <td>-1.0</td>\n",
              "      <td>1</td>\n",
              "      <td></td>\n",
              "      <td>NSE</td>\n",
              "      <td>5.000000</td>\n",
              "      <td>ZEEL</td>\n",
              "      <td>ZEEL.NS</td>\n",
              "    </tr>\n",
              "    <tr>\n",
              "      <th>196</th>\n",
              "      <td>6243.0</td>\n",
              "      <td>5097</td>\n",
              "      <td>ZOMATO-EQ</td>\n",
              "      <td>ZOMATO</td>\n",
              "      <td>NaT</td>\n",
              "      <td>-1.0</td>\n",
              "      <td>1</td>\n",
              "      <td></td>\n",
              "      <td>NSE</td>\n",
              "      <td>5.000000</td>\n",
              "      <td>ZOMATO</td>\n",
              "      <td>ZOMATO.NS</td>\n",
              "    </tr>\n",
              "    <tr>\n",
              "      <th>197</th>\n",
              "      <td>6497.0</td>\n",
              "      <td>7929</td>\n",
              "      <td>ZYDUSLIFE-EQ</td>\n",
              "      <td>ZYDUSLIFE</td>\n",
              "      <td>NaT</td>\n",
              "      <td>-1.0</td>\n",
              "      <td>1</td>\n",
              "      <td></td>\n",
              "      <td>NSE</td>\n",
              "      <td>5.000000</td>\n",
              "      <td>ZYDUSLIFE</td>\n",
              "      <td>ZYDUSLIFE.NS</td>\n",
              "    </tr>\n",
              "    <tr>\n",
              "      <th>198</th>\n",
              "      <td>NaN</td>\n",
              "      <td>NaN</td>\n",
              "      <td>^NSEI</td>\n",
              "      <td>NaN</td>\n",
              "      <td>NaN</td>\n",
              "      <td>NaN</td>\n",
              "      <td>NaN</td>\n",
              "      <td>NaN</td>\n",
              "      <td>NaN</td>\n",
              "      <td>NaN</td>\n",
              "      <td>^NSEI</td>\n",
              "      <td>^NSEI</td>\n",
              "    </tr>\n",
              "    <tr>\n",
              "      <th>199</th>\n",
              "      <td>NaN</td>\n",
              "      <td>NaN</td>\n",
              "      <td>^NSEBANK</td>\n",
              "      <td>NaN</td>\n",
              "      <td>NaN</td>\n",
              "      <td>NaN</td>\n",
              "      <td>NaN</td>\n",
              "      <td>NaN</td>\n",
              "      <td>NaN</td>\n",
              "      <td>NaN</td>\n",
              "      <td>^NSEBANK</td>\n",
              "      <td>^NSEBANK</td>\n",
              "    </tr>\n",
              "  </tbody>\n",
              "</table>\n",
              "<p>200 rows × 12 columns</p>\n",
              "</div>\n",
              "      <button class=\"colab-df-convert\" onclick=\"convertToInteractive('df-8dcb0729-8606-4b94-a34d-57317b120826')\"\n",
              "              title=\"Convert this dataframe to an interactive table.\"\n",
              "              style=\"display:none;\">\n",
              "        \n",
              "  <svg xmlns=\"http://www.w3.org/2000/svg\" height=\"24px\"viewBox=\"0 0 24 24\"\n",
              "       width=\"24px\">\n",
              "    <path d=\"M0 0h24v24H0V0z\" fill=\"none\"/>\n",
              "    <path d=\"M18.56 5.44l.94 2.06.94-2.06 2.06-.94-2.06-.94-.94-2.06-.94 2.06-2.06.94zm-11 1L8.5 8.5l.94-2.06 2.06-.94-2.06-.94L8.5 2.5l-.94 2.06-2.06.94zm10 10l.94 2.06.94-2.06 2.06-.94-2.06-.94-.94-2.06-.94 2.06-2.06.94z\"/><path d=\"M17.41 7.96l-1.37-1.37c-.4-.4-.92-.59-1.43-.59-.52 0-1.04.2-1.43.59L10.3 9.45l-7.72 7.72c-.78.78-.78 2.05 0 2.83L4 21.41c.39.39.9.59 1.41.59.51 0 1.02-.2 1.41-.59l7.78-7.78 2.81-2.81c.8-.78.8-2.07 0-2.86zM5.41 20L4 18.59l7.72-7.72 1.47 1.35L5.41 20z\"/>\n",
              "  </svg>\n",
              "      </button>\n",
              "      \n",
              "  <style>\n",
              "    .colab-df-container {\n",
              "      display:flex;\n",
              "      flex-wrap:wrap;\n",
              "      gap: 12px;\n",
              "    }\n",
              "\n",
              "    .colab-df-convert {\n",
              "      background-color: #E8F0FE;\n",
              "      border: none;\n",
              "      border-radius: 50%;\n",
              "      cursor: pointer;\n",
              "      display: none;\n",
              "      fill: #1967D2;\n",
              "      height: 32px;\n",
              "      padding: 0 0 0 0;\n",
              "      width: 32px;\n",
              "    }\n",
              "\n",
              "    .colab-df-convert:hover {\n",
              "      background-color: #E2EBFA;\n",
              "      box-shadow: 0px 1px 2px rgba(60, 64, 67, 0.3), 0px 1px 3px 1px rgba(60, 64, 67, 0.15);\n",
              "      fill: #174EA6;\n",
              "    }\n",
              "\n",
              "    [theme=dark] .colab-df-convert {\n",
              "      background-color: #3B4455;\n",
              "      fill: #D2E3FC;\n",
              "    }\n",
              "\n",
              "    [theme=dark] .colab-df-convert:hover {\n",
              "      background-color: #434B5C;\n",
              "      box-shadow: 0px 1px 3px 1px rgba(0, 0, 0, 0.15);\n",
              "      filter: drop-shadow(0px 1px 2px rgba(0, 0, 0, 0.3));\n",
              "      fill: #FFFFFF;\n",
              "    }\n",
              "  </style>\n",
              "\n",
              "      <script>\n",
              "        const buttonEl =\n",
              "          document.querySelector('#df-8dcb0729-8606-4b94-a34d-57317b120826 button.colab-df-convert');\n",
              "        buttonEl.style.display =\n",
              "          google.colab.kernel.accessAllowed ? 'block' : 'none';\n",
              "\n",
              "        async function convertToInteractive(key) {\n",
              "          const element = document.querySelector('#df-8dcb0729-8606-4b94-a34d-57317b120826');\n",
              "          const dataTable =\n",
              "            await google.colab.kernel.invokeFunction('convertToInteractive',\n",
              "                                                     [key], {});\n",
              "          if (!dataTable) return;\n",
              "\n",
              "          const docLinkHtml = 'Like what you see? Visit the ' +\n",
              "            '<a target=\"_blank\" href=https://colab.research.google.com/notebooks/data_table.ipynb>data table notebook</a>'\n",
              "            + ' to learn more about interactive tables.';\n",
              "          element.innerHTML = '';\n",
              "          dataTable['output_type'] = 'display_data';\n",
              "          await google.colab.output.renderOutput(dataTable, element);\n",
              "          const docLink = document.createElement('div');\n",
              "          docLink.innerHTML = docLinkHtml;\n",
              "          element.appendChild(docLink);\n",
              "        }\n",
              "      </script>\n",
              "    </div>\n",
              "  </div>\n",
              "  "
            ]
          },
          "metadata": {},
          "execution_count": 65
        },
        {
          "output_type": "stream",
          "name": "stdout",
          "text": [
            "time: 270 ms (started: 2023-02-04 09:13:48 +00:00)\n"
          ]
        }
      ],
      "source": [
        "global symbolDf\n",
        "symbol_token=token_df[(token_df.exch_seg=='NFO') & (token_df.instrumenttype=='FUTSTK')]\n",
        "fnosymbol=symbol_token['name'].unique()\n",
        "fnosymbol = numpy.append(fnosymbol, numpy.array(['GRAPHITE','NIFTYBEES','FEDERALBANK','TATAPOWER',\n",
        "            'IEX','INFY','TATAMOTORS','DRREDDY','EICHERMOT','ADANIPORTS,BANKBARODA',\n",
        "            'ICICIBANK','BEML','IOC','WIPRO','IGL','M & M','RVNL','IRCTC','TCS','SBIN','PNB','HDFC','HDFCBANK','RELIANCE',\n",
        "            'SAIL','TATASTEEL','ZOMATO','AXISBANK','BHEL','ASHOKLEY','AMBUJACEM','ACC','INDIACEM','LICI','MAHABANK']), axis=0)\n",
        "numpy.unique(fnosymbol,return_inverse=True)\n",
        "numpy.unique(fnosymbol,return_inverse=True)\n",
        "symbolDf=token_df[token_df.symbol.str.endswith('-EQ') & (token_df.exch_seg=='NSE') & \n",
        "                  token_df.name.isin(fnosymbol)].sort_values(by='symbol')\n",
        "symbolDf.reset_index(inplace=True)\n",
        "symbolDf['Revised_Name']='-'\n",
        "symbolDf['Revised_Name'] = symbolDf['symbol'].str.replace('-EQ','')\n",
        "#symbolDf['Revised_Name'] = symbolDf['Revised_Name'].str.replace('&',' And ')\n",
        "symbolDf['YF_Name'] = symbolDf['Revised_Name']\n",
        "symbolDf['YF_Name'] = [sub + '.NS' for sub in symbolDf['YF_Name']]\n",
        "symbolDf=symbolDf.append({'symbol':\"^NSEI\",'Revised_Name':\"^NSEI\",'YF_Name':\"^NSEI\"},ignore_index = True)\n",
        "symbolDf=symbolDf.append({'symbol':\"^NSEBANK\",'Revised_Name':\"^NSEBANK\",'YF_Name':\"^NSEBANK\"},ignore_index = True)\n",
        "symbolDf"
      ]
    },
    {
      "cell_type": "code",
      "execution_count": null,
      "metadata": {
        "colab": {
          "base_uri": "https://localhost:8080/"
        },
        "id": "qwcaxFglrEJj",
        "outputId": "8a9e8447-ebc1-429e-e6c3-e3d92a34a615"
      },
      "outputs": [
        {
          "output_type": "stream",
          "name": "stdout",
          "text": [
            "time: 2.05 ms (started: 2023-02-04 09:13:48 +00:00)\n"
          ]
        }
      ],
      "source": [
        "#One Hour Index Trend\n",
        "def index_trend_60min():\n",
        "  symbol_list=['^NSEBANK','^NSEI']\n",
        "  msg='One Hour Trend Change '\n",
        "  for symbol in symbol_list:\n",
        "    onehour=get_historical_data(symbol=symbol,interval='60m',token=\"-\",exch_seg=\"-\",candle_type=\"NORMAL\")\n",
        "    #onehour=historical_data_yfna(symbol,'60m')\n",
        "    recent_candle=onehour.iloc[-1]\n",
        "    St_Trade=recent_candle['St Trade']\n",
        "    if St_Trade!=\"-\":\n",
        "      msg= msg + \" \" +symbol +\" One hour trend change to: \" +St_Trade    \n",
        "    sleep(2)\n",
        "  if msg !=\"One Hour Trend Change \":\n",
        "    telegram_bot_sendtext(msg)"
      ]
    },
    {
      "cell_type": "code",
      "execution_count": null,
      "metadata": {
        "colab": {
          "base_uri": "https://localhost:8080/"
        },
        "id": "iTzzC1nwx6Xh",
        "outputId": "2dee9c38-9aed-488f-e100-fc8f2004e191"
      },
      "outputs": [
        {
          "output_type": "stream",
          "name": "stdout",
          "text": [
            "time: 6.99 ms (started: 2023-02-04 09:13:48 +00:00)\n"
          ]
        }
      ],
      "source": [
        "def book_profit_stock():\n",
        "  global buy_list_msg\n",
        "  buy_list_msg=\"Book Profit In Stock\\n\"\n",
        "  for i in symbolDf.index:\n",
        "    try:\n",
        "      symbol=symbolDf.loc[i]['symbol'].replace('-EQ','')\n",
        "      df= historical_data_yfna(str(symbol.replace('-EQ',''))+'.NS','60m')\n",
        "      ltp=df.iloc[-1]['Close']\n",
        "      df=df[(df['St Trade']=='Buy') | (df['St Trade']=='Sell')]\n",
        "      if df.iloc[-1]['St Trade']=='Buy':\n",
        "        buy_price=df.iloc[-1]['Close']\n",
        "        if ltp>= buy_price*1.05:\n",
        "          pr=symbol+\" : \"+str(float(ltp))+\":\"+str(float(buy_price))+' ,'+str(int(100*((ltp/buy_price)-1)))+\"%\"\n",
        "          print(pr)\n",
        "          buy_list_msg=buy_list_msg + pr +'\\n'\n",
        "    except Exception as e:\n",
        "      print('Error in stock Scan for:',symbol,e)\n",
        "  telegram_bot_sendtext(buy_list_msg)"
      ]
    },
    {
      "cell_type": "code",
      "execution_count": null,
      "metadata": {
        "colab": {
          "base_uri": "https://localhost:8080/"
        },
        "id": "okTVG2Ytm-HY",
        "outputId": "938cf05e-7ed2-4fbc-b963-8169c4945b39"
      },
      "outputs": [
        {
          "output_type": "stream",
          "name": "stdout",
          "text": [
            "time: 19.9 ms (started: 2023-02-04 09:13:48 +00:00)\n"
          ]
        }
      ],
      "source": [
        "#Scan Index\n",
        "def day_index_scanner(interval,remark):\n",
        "  dat=(datetime.datetime.now(tz=gettz('Asia/Kolkata'))- timedelta(days=0)).strftime(\"%m/%d/%y\")\n",
        "  print(dat)\n",
        "  buy_list,sell_list=[],[]\n",
        "  remark=''\n",
        "  interval='60m'\n",
        "  global buy_list_msg, sell_list_msg\n",
        "  buy_list_msg=str(remark)+' Buy List- '\n",
        "  sell_list_msg=str(remark)+' Sell List- '\n",
        "  symbol_list=['^NSEBANK','^NSEI']\n",
        "  for i in symbol_list:\n",
        "    try:\n",
        "        symbol=i\n",
        "        stock_name=i\n",
        "        old_data=get_historical_data(symbol=symbol,interval=interval,token=\"-\",exch_seg=\"-\",candle_type=\"NORMAL\")\n",
        "        #old_data= historical_data_yfna(i,interval)\n",
        "        if old_data['St Trade'].iloc[-1]!=\"-\" :\n",
        "          LTP=int(old_data.loc[-1]['Close'])\n",
        "          if old_data.loc[-1]['St Trade']=='Buy':\n",
        "            print(\"*\" + old_data.loc[-1]['St Trade']+ ' '+ stock_name + ' '+ str(LTP))\n",
        "            buy_list.append(stock_name)\n",
        "            Supertrend=old_data.loc[-1]['Supertrend']\n",
        "            buy_list_msg= buy_list_msg + \"\\n\" + \"*\" + stock_name + \" : \" + str(LTP) + ' ST:'+ str(Supertrend)\n",
        "          elif old_data.loc[-1]['St Trade']=='Sell':\n",
        "            print(\"*\" + old_data.loc[-1]['St Trade']+ ' '+ stock_name + ' '+ str(LTP))\n",
        "            sell_list.append(stock_name)\n",
        "            Supertrend=old_data.loc[-1]['Supertrend']\n",
        "            sell_list_msg= sell_list_msg + \"\\n\" + \"*\" + stock_name + \" : \" + str(LTP)+ ' ST:'+ str(Supertrend)\n",
        "        else:\n",
        "          old_data=old_data[(old_data['Date']==dat)]\n",
        "          ll=len(old_data[(old_data['St Trade']=='Buy') | (old_data['St Trade'] =='Sell')])\n",
        "          if ll!=0:\n",
        "            for j in old_data.index:\n",
        "              LTP=int(old_data.loc[j]['Close'])\n",
        "              if old_data.loc[j]['St Trade']=='Buy':\n",
        "                print(old_data.loc[j]['St Trade']+ ' '+ stock_name + ' '+ str(LTP))\n",
        "                buy_list.append(stock_name)\n",
        "                Supertrend=old_data.loc[j]['Supertrend']\n",
        "                buy_list_msg= buy_list_msg + \"\\n\" + stock_name + \" : \" + str(LTP) + ' ST:'+ str(Supertrend)\n",
        "              elif old_data.loc[j]['St Trade']=='Sell':\n",
        "                print(old_data.loc[j]['St Trade']+ ' '+ stock_name + ' '+ str(LTP))\n",
        "                sell_list.append(stock_name)\n",
        "                Supertrend=old_data.loc[j]['Supertrend']\n",
        "                sell_list_msg= sell_list_msg + \"\\n\" + stock_name + \" : \" + str(LTP)+ ' ST:'+ str(Supertrend)\n",
        "    except Exception as e:\n",
        "        print('Error in Scan for:',symbol,e)\n",
        "  if buy_list_msg!=str(remark)+' Buy List- ':\n",
        "    telegram_bot_sendtext(buy_list_msg)\n",
        "  if sell_list_msg!=str(remark)+' Sell List- ':\n",
        "    telegram_bot_sendtext(sell_list_msg)\n",
        "  print('\\nBuy List:',buy_list,'Sell List:',sell_list)"
      ]
    },
    {
      "cell_type": "code",
      "execution_count": null,
      "metadata": {
        "colab": {
          "base_uri": "https://localhost:8080/"
        },
        "id": "gtrd9-IVUIxX",
        "outputId": "88d42c00-7db8-402b-f89d-80fb8e563a76"
      },
      "outputs": [
        {
          "output_type": "stream",
          "name": "stdout",
          "text": [
            "time: 18.6 ms (started: 2023-02-04 09:13:48 +00:00)\n"
          ]
        }
      ],
      "source": [
        "def day_stock_scaner(interval):\n",
        "  global trade_list\n",
        "  trade_list=pd.DataFrame()\n",
        "  ticker_list = symbolDf['YF_Name'].tolist()\n",
        "  #ticker_list=['TCS.NS','SBIN.NS']\n",
        "  dat=datetime.datetime.now(tz=gettz('Asia/Kolkata')).strftime(\"%m/%d/%y\")\n",
        "  data=yf.download(tickers=ticker_list,interval=interval,period ='100d',group_by='ticker')\n",
        "  for i in ticker_list:\n",
        "    try:\n",
        "      df=data[i]\n",
        "      df['Datetime'] = df.index\n",
        "      df['Datetime']=df['Datetime'].dt.tz_localize(None)\n",
        "      df['Date']=df['Datetime'].dt.strftime('%m/%d/%y')\n",
        "      df.index=df['Datetime']\n",
        "      df['Supertrend']=pdta.supertrend(high=df['High'],low=df['Low'],close=df['Close'],length=7,multiplier=3)['SUPERT_7_3.0']\n",
        "      df['St Trade']='-'\n",
        "      for k in range(0,len(df)):\n",
        "        if df['Close'][k-1]<=df['Supertrend'][k-1] and df['Close'][k]> df['Supertrend'][k]:\n",
        "          df['St Trade'][k]=\"Buy\"\n",
        "        elif df['Close'][k-1]>=df['Supertrend'][k-1] and df['Close'][k]< df['Supertrend'][k]:\n",
        "          df['St Trade'][k]=\"Sell\"\n",
        "      df=df[(df['Date']==dat)]\n",
        "      ll=len(df[(df['St Trade']=='Buy') | (df['St Trade'] =='Sell')])\n",
        "      if ll!=0:\n",
        "        for j in df.index:\n",
        "          if df.loc[j]['St Trade']!=\"-\":\n",
        "            trade_list=trade_list.append({'Stock Name':i.replace('.NS',''),'Time':df.loc[j]['Datetime'],\n",
        "                'Trade': df.loc[j]['St Trade'],'Close':int(df.loc[j]['Close']),\n",
        "                'Supertrend':df.loc[j]['Supertrend'],'Interval':interval},ignore_index = True)\n",
        "    except Exception as e:\n",
        "      pass\n",
        "  trade_list=trade_list.round(1)\n",
        "  for trade in ['Buy','Sell']:\n",
        "    for interval in ['60m','120m']:\n",
        "      try:\n",
        "        ndf = trade_list[(trade_list['Interval'] == interval) & (trade_list['Trade'] == trade)]\n",
        "        if len(ndf)!=0:\n",
        "          scan_list=dat+\" Scan List : \" +trade +\" \"+interval\n",
        "          for i in ndf.index:\n",
        "            scan_list=scan_list+\"\\n\"+ndf['Stock Name'].loc[i]+':'+str(ndf['Close'].loc[i])+'/St '+str(ndf['Supertrend'].loc[i])\n",
        "          print(scan_list)\n",
        "          telegram_bot_sendtext(scan_list)\n",
        "      except Exception as e:\n",
        "        print('Error in Scan for:',e)"
      ]
    },
    {
      "cell_type": "code",
      "execution_count": null,
      "metadata": {
        "colab": {
          "base_uri": "https://localhost:8080/"
        },
        "id": "KQ91_JCbrdMp",
        "outputId": "c59bf8d7-70c9-458e-a260-91698b19df6f"
      },
      "outputs": [
        {
          "output_type": "stream",
          "name": "stdout",
          "text": [
            "time: 8.92 ms (started: 2023-02-04 09:13:48 +00:00)\n"
          ]
        }
      ],
      "source": [
        "#EOD Stock Scaner\n",
        "def day_stock_scaner_old():\n",
        "  now=datetime.datetime.now(tz=gettz('Asia/Kolkata'))\n",
        "  dat=now.strftime(\"%m/%d/%y\")\n",
        "  interval_slab=['60min','120min'] if now.hour>14 else ['60min']\n",
        "  global trade_list\n",
        "  trade_list=pd.DataFrame()\n",
        "  for i in symbolDf.index:\n",
        "    try:\n",
        "      symbol=symbolDf.loc[i]['symbol']\n",
        "      stock_name=symbolDf.loc[i]['Revised_Name']\n",
        "      print(stock_name)\n",
        "      token=symbolDf.loc[i]['token']\n",
        "      exch_seg=symbolDf.loc[i]['exch_seg']\n",
        "      stk_yf=stock_name+\".NS\" if stock_name[:1]!=\"^\" else stock_name\n",
        "      #df=get_historical_data(symbol=symbol,interval='60m',token=token,exch_seg=exch_seg,candle_type=\"NORMAL\")\n",
        "      #df=df.set_index('timestamp')\n",
        "      df=yf.Ticker(stk_yf).history(interval='60m',period='100d')\n",
        "      df['Datetime'] = df.index\n",
        "      df['Datetime']=df['Datetime'].dt.tz_localize(None)\n",
        "      df.index=df['Datetime']\n",
        "      df=df[['Datetime','Open','High','Low','Close','Volume']]\n",
        "      df['Date']=df['Datetime'].dt.strftime('%m/%d/%y')\n",
        "      df['Datetime'] = pd.to_datetime(df['Datetime']).dt.time\n",
        "      df=df[['Date','Datetime','Open','High','Low','Close','Volume']]\n",
        "      for interval in interval_slab:\n",
        "        if interval!=\"60min\":\n",
        "          n_df=df[['Date','Datetime','Open','High','Low','Close','Volume']]\n",
        "          n_df=n_df.groupby(pd.Grouper(freq=interval)).agg({\"Date\":\"first\",\"Datetime\":\"first\",\"Open\": \"first\", \"High\": \"max\", \"Low\": \"min\",\n",
        "                                                            \"Close\": \"last\",\"Volume\": \"sum\"})\n",
        "          n_df=n_df[(n_df['Open']>0)]\n",
        "        else:\n",
        "          n_df=df\n",
        "        n_df['Time Frame']=interval\n",
        "        n_df=calculate_indicator(n_df)\n",
        "        n_df=n_df.round(2)\n",
        "        #n_df=n_df[['Date','Datetime','Open','High','Low','Close','Time Frame','St Trade','Supertrend']]\n",
        "        n_df=n_df[(n_df['Date']==dat)]\n",
        "        ll=len(n_df[(n_df['St Trade']=='Buy') | (n_df['St Trade'] =='Sell')])\n",
        "        if ll!=0:\n",
        "          for j in n_df.index:\n",
        "            if n_df.loc[j]['St Trade']!=\"-\":\n",
        "              trade_list=trade_list.append({'Stock Name':stock_name,'Time':n_df.loc[j]['Datetime'],'Interval':interval,\n",
        "                  'Trade': n_df.loc[j]['St Trade'],'Close':int(n_df.loc[j]['Close']),\n",
        "                  'Supertrend':n_df.loc[j]['Supertrend']},ignore_index = True)\n",
        "    except Exception as e:\n",
        "      print('Error in Scan for:',symbol,e)\n",
        "  for trade in ['Buy','Sell']:\n",
        "    for interval in interval_slab:\n",
        "      try:\n",
        "        ndf = trade_list[(trade_list['Interval'] == interval) & (trade_list['Trade'] == trade)]\n",
        "        scan_list=dat+\" Scan List : \" +trade +\" \"+interval\n",
        "        for i in ndf.index:\n",
        "          scan_list=scan_list+\"\\n\"+ndf['Stock Name'].loc[i]+':'+str(ndf['Close'].loc[i])+'/St '+str(ndf['Supertrend'].loc[i])\n",
        "        telegram_bot_sendtext(scan_list)\n",
        "      except Exception as e:\n",
        "        print('Error in Scan for:',symbol,e)"
      ]
    },
    {
      "cell_type": "code",
      "execution_count": null,
      "metadata": {
        "colab": {
          "base_uri": "https://localhost:8080/"
        },
        "id": "96-s7dYLYjtc",
        "outputId": "d621bb7c-276a-44e7-9f2f-ec273218bf46"
      },
      "outputs": [
        {
          "output_type": "stream",
          "name": "stdout",
          "text": [
            "time: 3.23 ms (started: 2023-02-04 09:13:48 +00:00)\n"
          ]
        }
      ],
      "source": [
        "def orb_strategy():\n",
        "  buy_list,sell_list=[],[]\n",
        "  global buy_list_msg\n",
        "  global sell_list_msg\n",
        "  buy_list_msg='Open = Low List-'\n",
        "  sell_list_msg='Open = High List-'\n",
        "  for i in symbolDf.index:\n",
        "      try:\n",
        "          symbol=symbolDf.loc[i]['symbol']\n",
        "          token=symbolDf.loc[i]['token']\n",
        "          stock_name=symbolDf.loc[i]['Revised_Name']\n",
        "          ltpInfo = obj.ltpData('NSE',symbol,token)\n",
        "          L=ltpInfo['data']['low']\n",
        "          H=ltpInfo['data']['high']\n",
        "          O=ltpInfo['data']['open']\n",
        "          if O==L:\n",
        "            buy_list.append(stock_name)\n",
        "            buy_list_msg= buy_list_msg + stock_name +': ' + str(O) +'\\n'\n",
        "          elif O==H:\n",
        "            sell_list.append(stock_name)\n",
        "            sell_list_msg=sell_list_msg+stock_name +': ' + str(O) +'\\n'\n",
        "      except Exception as e:\n",
        "          print('Error in Scan for:',symbol,e)\n",
        "  telegram_bot_sendtext(buy_list_msg)\n",
        "  telegram_bot_sendtext(sell_list_msg)\n",
        "  print('Buy List:',buy_list,'Sell List:',sell_list)"
      ]
    },
    {
      "cell_type": "code",
      "execution_count": null,
      "metadata": {
        "colab": {
          "base_uri": "https://localhost:8080/"
        },
        "id": "QfRH-4ZRYn3u",
        "outputId": "b38f0844-443a-4971-88b2-20547c78b7b9"
      },
      "outputs": [
        {
          "output_type": "stream",
          "name": "stdout",
          "text": [
            "time: 1.85 ms (started: 2023-02-04 09:13:48 +00:00)\n"
          ]
        }
      ],
      "source": [
        "def get_pivot_level():\n",
        "  global bnf_P,bnf_S1,bnf_S2,bnf_S3,bnf_R1,bnf_R2,bnf_R3\n",
        "  global nf_P,nf_S1,nf_S2,nf_S3,nf_R1,nf_R2,nf_R3\n",
        "  bnf_P,bnf_S1,bnf_S2,bnf_S3,bnf_R1,bnf_R2,bnf_R3=calculate_pivot('BANKNIFTY')\n",
        "  nf_P,nf_S1,nf_S2,nf_S3,nf_R1,nf_R2,nf_R3=calculate_pivot('NIFTY')\n",
        "  bnf_P,bnf_S1,bnf_S2,bnf_S3,bnf_R1,bnf_R2,bnf_R3,nf_P,nf_S1,nf_S2,nf_S3,nf_R1,nf_R2,nf_R3"
      ]
    },
    {
      "cell_type": "code",
      "execution_count": null,
      "metadata": {
        "colab": {
          "base_uri": "https://localhost:8080/"
        },
        "id": "iEgohlFlYqvF",
        "outputId": "8bc2f12c-0812-4a97-cc6f-f287916f5b74"
      },
      "outputs": [
        {
          "output_type": "stream",
          "name": "stdout",
          "text": [
            "time: 2.14 ms (started: 2023-02-04 09:13:48 +00:00)\n"
          ]
        }
      ],
      "source": [
        "def get_trend():\n",
        "  symbol_list=['^NSEBANK','^NSEI']\n",
        "  interval_list=['5m','15m','60m']\n",
        "  msg=\"Trend\"\n",
        "  for symbol in symbol_list:\n",
        "    for interval in interval_list:\n",
        "      msg=msg  +'\\n'+ symbol+ \" \"+ interval\n",
        "      five_min=get_historical_data(symbol=symbol,interval=interval,token=\"-\",exch_seg=\"-\",candle_type=\"NORMAL\")\n",
        "      #five_min=historical_data_yfna(symbol,interval)\n",
        "      if five_min['Supertrend'].values[-1] >=five_min['Close'].values[-1]:\n",
        "        msg=msg +' Sell'\n",
        "      else:\n",
        "        msg=msg +' Buy'\n",
        "  print(msg)"
      ]
    },
    {
      "cell_type": "code",
      "execution_count": null,
      "metadata": {
        "colab": {
          "base_uri": "https://localhost:8080/"
        },
        "id": "HkqFSZJup6Wo",
        "outputId": "7fb64375-2692-4761-f9e0-d66ef9f55096"
      },
      "outputs": [
        {
          "output_type": "stream",
          "name": "stdout",
          "text": [
            "time: 15 ms (started: 2023-02-04 09:13:48 +00:00)\n"
          ]
        }
      ],
      "source": [
        "def close_trade_alert_send(i,ltp,remark,status):\n",
        "  tm=datetime.datetime.now(tz=gettz('Asia/Kolkata')).replace(microsecond=0, tzinfo=None)\n",
        "  todays_trade_log['Sell'][i]=ltp\n",
        "  todays_trade_log['LTP'][i]=ltp\n",
        "  todays_trade_log['Status'][i]=str(status)\n",
        "  prt=int(float(todays_trade_log['Sell'][i]))-int(float(todays_trade_log['price'][i]))\n",
        "  todays_trade_log['Profit'][i]=prt*int(float(todays_trade_log['quantity'][i]))\n",
        "  trade_info=(todays_trade_log['tradingsymbol'][i] +'\\nBuy: ' + str(todays_trade_log['price'][i]) +\n",
        "              '\\nTarget: ' +str(todays_trade_log['Target'][i])+ ' Stop Loss: ' +str(todays_trade_log['Stop Loss'][i])+\n",
        "              ' LTP:' +str(todays_trade_log['LTP'][i]) + '\\nBuy Time: '+str(todays_trade_log['updatetime'][i])+\n",
        "              '\\nIndicator: ' + str(todays_trade_log['ordertag'][i])+ '\\nProfit: ' + str(todays_trade_log['Profit'][i]))\n",
        "  pl=(todays_trade_log['Profit'].sum())\n",
        "  telegram_bot_sendtext(remark +'\\n'+ trade_info+'\\nRealised:'+str(pl))\n",
        "  print(remark +'\\n'+ trade_info)"
      ]
    },
    {
      "cell_type": "code",
      "execution_count": null,
      "metadata": {
        "colab": {
          "base_uri": "https://localhost:8080/"
        },
        "id": "m5xw4n6RBgUy",
        "outputId": "f9a2ad9b-c391-4c6c-f321-a2baacd27306"
      },
      "outputs": [
        {
          "output_type": "stream",
          "name": "stdout",
          "text": [
            "time: 6.63 ms (started: 2023-02-04 09:13:48 +00:00)\n"
          ]
        }
      ],
      "source": [
        "#Close Trade\n",
        "def closing_trade():\n",
        "  output.clear()\n",
        "  now = datetime.datetime.now(tz=gettz('Asia/Kolkata'))\n",
        "  print('...Closing Trade...')\n",
        "  marketclose = now.replace(hour=15, minute=30, second=0, microsecond=0)\n",
        "  marketopen = now.replace(hour=0, minute=5, second=0, microsecond=0)\n",
        "  while now < marketclose and  now > marketopen:\n",
        "    try:\n",
        "      output.clear()\n",
        "      print(datetime.datetime.now(tz=gettz('Asia/Kolkata')).replace(microsecond=0, tzinfo=None))\n",
        "      now_time=datetime.datetime.now(tz=gettz('Asia/Kolkata'))\n",
        "      sleep(1)\n",
        "      signal_dict = {\"NIFTY_1m\": \"-\", \"NIFTY_3m\": \"-\",\"NIFTY_5m\":\"-\",\"NIFTY_15m\":\"-\",\n",
        "      \"BANKNIFTY_1m\": \"-\",\"BANKNIFTY_3m\":\"-\", \"BANKNIFTY_5m\":\"-\",\"BANKNIFTY_15m\":\"-\",\n",
        "      \"NIFTY_1m_indicator\": \"-\", \"NIFTY_3m_indicator\": \"-\",\"NIFTY_5m_indicator\":\"-\",\"NIFTY_15m_indicator\":\"-\",\n",
        "      \"BANKNIFTY_1m_indicator\": \"-\",\"BANKNIFTY_3m_indicator\":\"-\", \"BANKNIFTY_5m_indicator\":\"-\",\"BANKNIFTY_15m_indicator\":\"-\"}\n",
        "      for symbol_yf in ['^NSEI','^NSEBANK']:\n",
        "        for interval_yf in ['1m','5m','15m']:\n",
        "          symbol=\"NIFTY\" if symbol_yf=='^NSEI' else 'BANKNIFTY'\n",
        "          fut_data=get_historical_data(symbol=symbol_yf,interval=interval_yf,token=\"-\",exch_seg=\"-\",candle_type=\"NORMAL\")\n",
        "          print(fut_data.tail(2)[['Datetime','Close','Trade','Trade End','Supertrend','Supertrend_10_2','RSI','VWAP','WMA_20','Indicator']].to_string(index=False))\n",
        "          #fut_data=historical_data_yfna(symbol_yf,interval_yf,\"NORMAL\")\n",
        "          trade=str(fut_data['Trade'].values[-1])\n",
        "          trade_end=str(fut_data['Trade End'].values[-1])\n",
        "          indicator_strategy=fut_data['Indicator'].values[-1]\n",
        "          signal_dict[symbol + \"_\" +interval_yf] = trade_end\n",
        "          signal_dict[symbol + \"_\" +interval_yf+\"_indicator\"] = indicator_strategy\n",
        "      print(signal_dict)\n",
        "      get_todays_trade()\n",
        "      closing_index_trade()\n",
        "      while datetime.datetime.now(tz=gettz('Asia/Kolkata')).second <=40 and len(todays_trade_log[todays_trade_log['Status'] == 'Pending'])>0:\n",
        "        check_target_sl()\n",
        "      if (now_time.minute==15):\n",
        "        print('\\nOne Hour Trade...')\n",
        "        send_status()\n",
        "        day_stock_scaner('60m')\n",
        "      print('___________________________________________')\n",
        "      now=datetime.datetime.now(tz=gettz('Asia/Kolkata'))\n",
        "      sleep(60-now.second+1)\n",
        "    except Exception as e:\n",
        "      print(\"Error In Closing Trade\",e)\n",
        "  print ('Bye... Market Closed')\n",
        "  send_active_order()"
      ]
    },
    {
      "cell_type": "code",
      "execution_count": null,
      "metadata": {
        "colab": {
          "base_uri": "https://localhost:8080/"
        },
        "id": "eODYiTsu2lAX",
        "outputId": "78875fdd-a348-4eae-e389-36ad232cc695"
      },
      "outputs": [
        {
          "output_type": "stream",
          "name": "stdout",
          "text": [
            "time: 2.77 ms (started: 2023-02-04 09:13:48 +00:00)\n"
          ]
        }
      ],
      "source": [
        "#Trail Stop loss\n",
        "def trail_sl(symboltoken,tradingsymbol,trade_info,i, ltp,three_candle,f_low):\n",
        "  if trailing_stop_loss_type=='points':\n",
        "    sl=ltp-trailing_stop_loss\n",
        "  else:\n",
        "    if trailing_stop_loss_type=='three_candle_low':\n",
        "      sl= three_candle\n",
        "    elif trailing_stop_loss_type=='previous_candle_low':\n",
        "      sl=f_low\n",
        "  if int(sl) < int(ltp) and int(sl) > int(todays_trade_log['Stop Loss'][i]):\n",
        "    #telegram_bot_sendtext(\"SL Trail to :\"+ str(sl) +\"\\n\" + trade_info)\n",
        "    print(\"SL Trail to :\"+ str(sl) +\"\\n\" + trade_info)\n",
        "    todays_trade_log['Stop Loss'][i]=sl"
      ]
    },
    {
      "cell_type": "code",
      "execution_count": null,
      "metadata": {
        "colab": {
          "base_uri": "https://localhost:8080/"
        },
        "id": "L9tflHF7KbFe",
        "outputId": "0355f1be-7f4e-4938-8c4a-0c750e548e60"
      },
      "outputs": [
        {
          "output_type": "stream",
          "name": "stdout",
          "text": [
            "time: 2.51 ms (started: 2023-02-04 09:13:49 +00:00)\n"
          ]
        }
      ],
      "source": [
        "def send_status():\n",
        "  trade=len(todays_trade_log)\n",
        "  exit_loss=len(todays_trade_log[(todays_trade_log['Status']=='Closed') & (todays_trade_log['Profit'] <0 )])\n",
        "  exit_win=len(todays_trade_log[(todays_trade_log['Status']=='Closed') & (todays_trade_log['Profit'] >0 )])\n",
        "  active=len(todays_trade_log[(todays_trade_log['Status'] == 'Pending')])\n",
        "  pl=int((todays_trade_log['Profit'].sum()))\n",
        "  active_order=send_active_order()\n",
        "  telegram_bot_sendtext(\"Exit Win :\"+str(exit_win)+ \"\\nExit Loss :\"+str(exit_loss) +\"\\nActive :\"+str(active)+\"\\nTrade :\"+str(trade)+\n",
        "                        \"\\nProfit :\"+str(pl)+active_order)"
      ]
    },
    {
      "cell_type": "code",
      "execution_count": null,
      "metadata": {
        "colab": {
          "base_uri": "https://localhost:8080/"
        },
        "id": "EWc8M5vAbs_P",
        "outputId": "6b4dd3a9-d28d-40b4-b886-0767ea82117a"
      },
      "outputs": [
        {
          "output_type": "stream",
          "name": "stdout",
          "text": [
            "time: 3.32 ms (started: 2023-02-04 09:13:49 +00:00)\n"
          ]
        }
      ],
      "source": [
        "def send_active_order():\n",
        "  active_order=\"Active Orders:\"\n",
        "  margin=0\n",
        "  for i in range(0,len(todays_trade_log)):\n",
        "      if todays_trade_log['Status'].iloc[i]=='Pending':\n",
        "        symboltoken=todays_trade_log['symboltoken'].iloc[i]\n",
        "        tradingsymbol=todays_trade_log['tradingsymbol'].iloc[i]\n",
        "        #ltpInfo = obj.ltpData('NFO',tradingsymbol,symboltoken)\n",
        "        #ltp=int(ltpInfo['data']['ltp'])\n",
        "        ltp=get_ltp_price(symbol=tradingsymbol,token=symboltoken,exch_seg=\"NFO\")\n",
        "        ltp_price = str(ltp)\n",
        "        buy_price=todays_trade_log['price'].iloc[i]\n",
        "        trade_info=(todays_trade_log['tradingsymbol'].iloc[i] +' ' + str(todays_trade_log['price'].iloc[i]) + \" LTP:\"+ ltp_price)\n",
        "        active_order=active_order+\"\\n\"+trade_info\n",
        "        margin=margin+(float(todays_trade_log['price'].iloc[i])*float(todays_trade_log['quantity'].iloc[i]))\n",
        "  if active_order==\"Active Orders:\": active_order=\"No Active Order\"\n",
        "  active_order=active_order+'\\nMargin Used: '+str(float(margin))\n",
        "  return \"\\n\"+active_order"
      ]
    },
    {
      "cell_type": "code",
      "execution_count": null,
      "metadata": {
        "colab": {
          "base_uri": "https://localhost:8080/"
        },
        "id": "ulLToYGW3Qut",
        "outputId": "7dc67754-f999-4f56-caa2-1a2d55822a41"
      },
      "outputs": [
        {
          "output_type": "stream",
          "name": "stdout",
          "text": [
            "time: 8.77 ms (started: 2023-02-04 09:13:49 +00:00)\n"
          ]
        }
      ],
      "source": [
        "def close_holding():\n",
        "  dat=(datetime.datetime.now(tz=gettz('Asia/Kolkata'))- timedelta(days=0)).strftime(\"%m/%d/%y\")\n",
        "  holdings=obj.holding()['data']\n",
        "  holdings=pd.DataFrame(holdings)\n",
        "  for i in holdings.index:\n",
        "    try:\n",
        "        sleep(1)\n",
        "        tradingsymbol=holdings.loc[i]['tradingsymbol']\n",
        "        symboltoken=holdings.loc[i]['symboltoken']\n",
        "        exch_seg=holdings.loc[i]['exchange']\n",
        "        #tradingsymbol=tradingsymbol.replace('-EQ','')\n",
        "        old_data=get_historical_data(symbol=tradingsymbol,interval='60m',token=symboltoken,exch_seg=exch_seg,candle_type=\"NORMAL\")\n",
        "        #old_data= historical_data_yfna(tradingsymbol+'.NS','60m')\n",
        "        old_data=old_data[(old_data['Date']==dat)]\n",
        "        for j in old_data.index:\n",
        "          if old_data.loc[j]['St Trade']=='Buy':\n",
        "            telegram_bot_sendtext(\"Add \" + tradingsymbol)\n",
        "          elif old_data.loc[j]['St Trade']=='Sell':\n",
        "            telegram_bot_sendtext(\"Exit \" + tradingsymbol)\n",
        "    except Exception as e:\n",
        "      print('Error in close_holding for:',tradingsymbol,e)"
      ]
    },
    {
      "cell_type": "code",
      "execution_count": null,
      "metadata": {
        "colab": {
          "base_uri": "https://localhost:8080/"
        },
        "id": "QNDMmbUmzYx8",
        "outputId": "8dbf5943-79d2-48a4-92a5-ccfe53ba2866"
      },
      "outputs": [
        {
          "output_type": "stream",
          "name": "stdout",
          "text": [
            "time: 12.3 ms (started: 2023-02-04 09:13:49 +00:00)\n"
          ]
        }
      ],
      "source": [
        "def one_min_target_check(open_position,bnf_signal,nf_signal):\n",
        "  close_options_position(open_position,bnf_signal,nf_signal)\n",
        "  if len(todays_trade_log)!=0 or isinstance(open_position,str)==False :\n",
        "    if isinstance(open_position,str)!=True :\n",
        "      for i in open_position.index:\n",
        "        try:\n",
        "          symboltoken=open_position.loc[i]['symboltoken']\n",
        "          tradingsymbol=open_position.loc[i]['tradingsymbol']\n",
        "          buyprice=open_position.loc[i]['Buy Rate']\n",
        "          qty=open_position.loc[i]['netqty']\n",
        "          #ltpInfo = obj.ltpData('NFO',tradingsymbol,symboltoken)\n",
        "          #ltp_price = ltpInfo['data']['ltp']\n",
        "          ltp_price=get_ltp_price(symbol=tradingsymbol,token=symboltoken,exch_seg=\"NFO\")\n",
        "          print(tradingsymbol +' ' +str(buyprice) +':' +str(ltp_price)+\"*\")\n",
        "          if tradingsymbol[-2:]=='CE' and tradingsymbol[:4]=='BANK' and bnf_signal==\"Sell\" :\n",
        "              exit_position(symboltoken,tradingsymbol,qty,ltp_price,ltp_price)\n",
        "          elif tradingsymbol[-2:]=='PE' and tradingsymbol[:4]=='BANK' and bnf_signal==\"Buy\" :\n",
        "              exit_position(symboltoken,tradingsymbol,qty,ltp_price,ltp_price)\n",
        "          elif tradingsymbol[-2:]=='CE' and tradingsymbol[:4]=='NIFT' and bnf_signal==\"Sell\" :\n",
        "              exit_position(symboltoken,tradingsymbol,qty,ltp_price,ltp_price)\n",
        "          elif tradingsymbol[-2:]=='PE' and tradingsymbol[:4]=='NIFT' and bnf_signal==\"Buy\" :\n",
        "              exit_position(symboltoken,tradingsymbol,qty,ltp_price,ltp_price)\n",
        "        except Exception as e:\n",
        "          print('Error in one_min_target_check:',tradingsymbol,e)\n",
        "        sleep(5)"
      ]
    },
    {
      "cell_type": "code",
      "execution_count": null,
      "metadata": {
        "colab": {
          "base_uri": "https://localhost:8080/"
        },
        "id": "ECqJuqeYcget",
        "outputId": "ef08f649-b271-401d-dc78-9917244f5f41"
      },
      "outputs": [
        {
          "output_type": "stream",
          "name": "stdout",
          "text": [
            "time: 3.09 ms (started: 2023-02-04 09:13:49 +00:00)\n"
          ]
        }
      ],
      "source": [
        "def supertrend_trail_order(open_position):\n",
        "  if isinstance(open_position,str)==False and trade_exit==\"indicator\":\n",
        "    for i in open_position.index:\n",
        "      try:\n",
        "        symboltoken=open_position.loc[i]['symboltoken']\n",
        "        tradingsymbol=open_position.loc[i]['tradingsymbol']\n",
        "        buyprice=open_position.loc[i]['Buy Rate']\n",
        "        qty=open_position.loc[i]['netqty']\n",
        "        option_old_data=fetch_historical_data(symboltoken,\"NFO\",\"FIVE_MINUTE\")\n",
        "        st=int(option_old_data.iloc[-1]['Supertrend'])-10\n",
        "        #ltpInfo = int(obj.ltpData('NFO',tradingsymbol,symboltoken)['data']['ltp'])\n",
        "        ltpInfo=int(get_ltp_price(symbol=tradingsymbol,token=symboltoken,exch_seg=\"NFO\"))\n",
        "        orderId,orderPrice=get_active_order(tradingsymbol)\n",
        "        if orderPrice=='NoOrder':\n",
        "          orderPrice=1\n",
        "        if ltpInfo >= st and st > orderPrice :\n",
        "          exit_position(symboltoken,tradingsymbol,qty,ltpInfo,st)\n",
        "      except Exception as e:\n",
        "          print('Error in supertrend_trail_order:',e)"
      ]
    },
    {
      "cell_type": "code",
      "execution_count": null,
      "metadata": {
        "colab": {
          "base_uri": "https://localhost:8080/"
        },
        "id": "2sTcspmJWysp",
        "outputId": "0fdfcc45-9a3e-48eb-ec78-cf9ec3772fab"
      },
      "outputs": [
        {
          "output_type": "stream",
          "name": "stdout",
          "text": [
            "time: 10.5 ms (started: 2023-02-04 09:13:49 +00:00)\n"
          ]
        }
      ],
      "source": [
        "def check_target_sl():\n",
        "  for i in range(0,len(todays_trade_log)):\n",
        "    if todays_trade_log['Status'].iloc[i]=='Pending':\n",
        "      try:\n",
        "        sleep(0.5)\n",
        "        symboltoken=todays_trade_log['symboltoken'].iloc[i]\n",
        "        tradingsymbol=todays_trade_log['tradingsymbol'].iloc[i]\n",
        "        ltp_price=get_ltp_price(symbol=tradingsymbol,token=symboltoken,exch_seg=\"NFO\")\n",
        "        ltp=int(ltp_price)\n",
        "        prt=ltp-int(float(todays_trade_log['price'].iloc[i]))\n",
        "        todays_trade_log['Profit'].iloc[i]=int(prt*int(float(todays_trade_log['quantity'].iloc[i])))\n",
        "        if float(ltp_price) <= float(todays_trade_log['Stop Loss'].iloc[i]) or float(ltp_price) >= float(todays_trade_log['Target'].iloc[i]):\n",
        "          time=todays_trade_log['updatetime'].iloc[i]\n",
        "          qty=todays_trade_log['quantity'].iloc[i]\n",
        "          todays_trade_log['LTP'].iloc[i]=ltp\n",
        "          indicator=str(todays_trade_log['ordertag'].iloc[i])\n",
        "          trade_info=(todays_trade_log['tradingsymbol'].iloc[i] +'\\nBuy: ' + str(todays_trade_log['price'].iloc[i]) + \n",
        "                      '\\nTarget: ' +str(todays_trade_log['Target'].iloc[i])+ ' Stop Loss: ' +str(todays_trade_log['Stop Loss'].iloc[i])+\n",
        "                      ' LTP:' +str(todays_trade_log['LTP'].iloc[i]) + '\\nBuy Time: '+str(todays_trade_log['updatetime'].iloc[i]) +\n",
        "                      '\\n' + str(todays_trade_log['ordertag'].iloc[i])+'\\nProfit:'+str(todays_trade_log['Profit'].iloc[i]))\n",
        "          pl=(\"Realised:\"+str(int(todays_trade_log[(todays_trade_log['Status']=='Closed')]['Profit'].sum())) +\n",
        "            \" Unrealised:\"+str(int(todays_trade_log[(todays_trade_log['Status']!='Closed')]['Profit'].sum())))\n",
        "          if int(ltp_price) <= int(todays_trade_log['Stop Loss'].iloc[i]):\n",
        "            todays_trade_log['Status'].iloc[i]=\"Stop Loss Hit\"\n",
        "            exit_position(symboltoken,tradingsymbol,qty,ltp_price,ltp_price,ordertag=\"Stop Loss Hit LTP: \"+str(float(ltp_price)))\n",
        "            telegram_bot_sendtext(\"Stop Loss Hit LTP: \"+str(float(ltp_price))+ '\\n' + trade_info+'\\n'+ pl)\n",
        "          elif int(ltp_price) >= int(todays_trade_log['Target'].iloc[i]):\n",
        "            todays_trade_log['Status'].iloc[i]=\"Target Hit\"\n",
        "            exit_position(symboltoken,tradingsymbol,qty,ltp_price,ltp_price,ordertag=\"Target Hit LTP: \"+str(float(ltp_price)))\n",
        "            telegram_bot_sendtext(\"Target Hit LTP: \"+str(float(ltp_price))+ '\\n' + trade_info+'\\n'+ pl)\n",
        "      except Exception as e:\n",
        "        print('Error in check_target_sl:',e)\n",
        "  exit_candle_pattern_trade()"
      ]
    },
    {
      "cell_type": "code",
      "execution_count": null,
      "metadata": {
        "colab": {
          "base_uri": "https://localhost:8080/"
        },
        "id": "wP9THxSJKjwd",
        "outputId": "921a80c0-4447-49d5-f495-3e28b5766e3b"
      },
      "outputs": [
        {
          "output_type": "stream",
          "name": "stdout",
          "text": [
            "time: 13.9 ms (started: 2023-02-04 09:13:49 +00:00)\n"
          ]
        }
      ],
      "source": [
        "def close_todays_trade_log():\n",
        "  tm=datetime.datetime.now(tz=gettz('Asia/Kolkata')).replace(microsecond=0, tzinfo=None)\n",
        "  bnf_signal=\"-\"; nf_signal='-'\n",
        "  global signal_dict\n",
        "  if signal_dict['BANKNIFTY_15m']==\"Sell\" or signal_dict['BANKNIFTY_5m']==\"Sell\": bnf_signal=\"Sell\"\n",
        "  elif signal_dict['BANKNIFTY_15m']==\"Buy\" or signal_dict['BANKNIFTY_5m']==\"Buy\": bnf_signal=\"Buy\"\n",
        "  if signal_dict['NIFTY_15m']==\"Sell\" or signal_dict['NIFTY_5m']==\"Sell\": nf_signal=\"Sell\"\n",
        "  elif signal_dict['NIFTY_15m']==\"Buy\" or signal_dict['NIFTY_5m']==\"Buy\": nf_signal=\"Buy\"\n",
        "  bnf_indicator=(signal_dict[\"BANKNIFTY_5m_indicator\"]+signal_dict[\"BANKNIFTY_15m_indicator\"]).replace(\"-\",'')\n",
        "  nf_indicator=(signal_dict[\"NIFTY_5m_indicator\"]+signal_dict[\"NIFTY_15m_indicator\"]).replace(\"-\",'')\n",
        "  for i in range(0,len(todays_trade_log)):\n",
        "    if todays_trade_log['Status'].iloc[i]=='Pending' and todays_trade_log['Time Frame'].iloc[i] != 'Candle Pattern':\n",
        "      try:\n",
        "        sleep(1)\n",
        "        symboltoken=todays_trade_log['symboltoken'].iloc[i]\n",
        "        tradingsymbol=todays_trade_log['tradingsymbol'].iloc[i]\n",
        "        time=todays_trade_log['updatetime'].iloc[i]\n",
        "        #ltpInfo = obj.ltpData('NFO',tradingsymbol,symboltoken)\n",
        "        #ltp_price = ltpInfo['data']['ltp']\n",
        "        ltp_price=get_ltp_price(symbol=tradingsymbol,token=symboltoken,exch_seg=\"NFO\")\n",
        "        todays_trade_log['LTP'].iloc[i]=float(ltp_price)\n",
        "        ltp=float(ltp_price)\n",
        "        qty=todays_trade_log['quantity'].iloc[i]\n",
        "        prt=ltp-float(todays_trade_log['price'].iloc[i])\n",
        "        indicator=str(todays_trade_log['ordertag'].iloc[i])\n",
        "        todays_trade_log['Profit'].iloc[i]=int(float(prt*float(todays_trade_log['quantity'].iloc[i])))\n",
        "        trade_info=(todays_trade_log['tradingsymbol'].iloc[i] +'\\nBuy: ' + str(todays_trade_log['price'].iloc[i]) + \n",
        "                      '\\nTarget: ' +str(todays_trade_log['Target'].iloc[i])+ ' Stop Loss: ' +str(todays_trade_log['Stop Loss'].iloc[i])+\n",
        "                      ' LTP:' +str(todays_trade_log['LTP'].iloc[i]) + '\\nBuy Time: '+str(todays_trade_log['updatetime'].iloc[i]) +\n",
        "                      '\\n' + str(todays_trade_log['ordertag'].iloc[i])+'\\nProfit:'+str(todays_trade_log['Profit'].iloc[i]))\n",
        "        pl=\"\\nTodays Realised\" + str((todays_trade_log['Profit'].sum()))\n",
        "        if ltp <= int(todays_trade_log['Stop Loss'].iloc[i]):\n",
        "          todays_trade_log['Status'].iloc[i]=\"Stop Loss Hit\"\n",
        "          close_trade_alert_send(i,ltp,'Stop Loss Hit',\"Exit\")\n",
        "          exit_position(symboltoken,tradingsymbol,qty,ltp_price,ltp_price,ordertag=\"Stop Loss Hit LTP: \" + str(float(ltp_price)))\n",
        "        elif ltp >= int(todays_trade_log['Target'].iloc[i]):\n",
        "          todays_trade_log['Status'].iloc[i]=\"Target Hit\"\n",
        "          close_trade_alert_send(i,ltp,'Target Hit',\"Exit\")\n",
        "          exit_position(symboltoken,tradingsymbol,qty,ltp_price,ltp_price,ordertag=\"Target Hit LTP: \" + str(float(ltp_price)))\n",
        "        #elif ((todays_trade_log['Unrealised'][i]>=1000 and todays_trade_log['1k Target'][i]==\"-\") or \n",
        "        #  (ltp>=1.3*int(todays_trade_log['Buy Price'][i]) and todays_trade_log['30% Target'][i]==\"-\")) :\n",
        "          #todays_trade_log['Last Update'][i]=tm\n",
        "          #option_old_data=fetch_historical_data(symboltoken,\"NFO\",\"FIVE_MINUTE\")\n",
        "          #f_low=max(int(option_old_data['Low'].values[-1]),int(todays_trade_log['Stop Loss'][i]),int(todays_trade_log['Buy Price'][i]))\n",
        "          #todays_trade_log['Stop Loss'][i]=f_low\n",
        "        if ((tradingsymbol[-2:]=='CE' and tradingsymbol[:4]=='BANK' and bnf_signal==\"Sell\") or \n",
        "            (tradingsymbol[-2:]=='PE' and tradingsymbol[:4]=='BANK' and bnf_signal==\"Buy\") or\n",
        "            (tradingsymbol[-2:]=='CE' and tradingsymbol[:4]=='NIFT' and nf_signal==\"Sell\") or\n",
        "            (tradingsymbol[-2:]=='PE' and tradingsymbol[:4]=='NIFT' and nf_signal==\"Buy\")):\n",
        "          todays_trade_log['Status'].iloc[i]=\"Indicator Exit\"\n",
        "          exit_position(symboltoken,tradingsymbol,qty,ltp_price,ltp_price,ordertag=\"Indicator Exit LTP: \" + str(float(ltp_price)))\n",
        "          if tradingsymbol[:4]=='BANK':\n",
        "            close_trade_alert_send(i,ltp,'Indicator Exit '+bnf_indicator,\"Exit\")\n",
        "          elif tradingsymbol[:4]=='NIFT':\n",
        "            close_trade_alert_send(i,ltp,'Indicator Exit '+nf_indicator,\"Exit\")\n",
        "        elif trailing_stop_loss_type!='No':\n",
        "          option_old_data=get_historical_data(symbol=\"-\",interval='5m',token=symboltoken,exch_seg=\"NFO\",candle_type=\"NORMAL\")\n",
        "          #option_old_data=fetch_historical_data(symboltoken,\"NFO\",\"FIVE_MINUTE\")\n",
        "          f_low=int(option_old_data['Low'].values[-1])\n",
        "          s_low=int(option_old_data['Low'].values[-2])\n",
        "          t_low=int(option_old_data['Low'].values[-3])\n",
        "          fr_low=int(option_old_data['Low'].values[-4])\n",
        "          Supertrend=int(option_old_data['Supertrend'].values[-1])\n",
        "          three_candle=max(min(f_low,s_low,t_low,fr_low),todays_trade_log['Stop Loss'].iloc[i],todays_trade_log['price'].iloc[i])\n",
        "          if todays_trade_log['Profit'].iloc[i]>=1000 :\n",
        "            st_price=max(int(option_old_data['Supertrend'].values[-1]),int(option_old_data['Supertrend_10_2'].values[-1]))\n",
        "            trail_sl(symboltoken,tradingsymbol,trade_info,i, ltp,st_price,st_price)\n",
        "      except Exception as e:\n",
        "        print('Error in close_todays_trade_log:',e)"
      ]
    },
    {
      "cell_type": "code",
      "execution_count": null,
      "metadata": {
        "colab": {
          "base_uri": "https://localhost:8080/"
        },
        "id": "wSBCyY6Y3d4c",
        "outputId": "f206e760-cf61-4cf9-e3c3-d8e42cda4921"
      },
      "outputs": [
        {
          "output_type": "stream",
          "name": "stdout",
          "text": [
            "time: 9.41 ms (started: 2023-02-04 09:13:49 +00:00)\n"
          ]
        }
      ],
      "source": [
        "def exit_candle_pattern_trade():\n",
        "  bnf_ltp=int(get_index_ltp(\"BANKNIFTY\"))\n",
        "  nf_ltp=int(get_index_ltp(\"NIFTY\"))\n",
        "  #bnf_ltp=int(nse_quote_ltp('BANKNIFTY'))\n",
        "  #nf_ltp=int(nse_quote_ltp('NIFTY'))\n",
        "  tm=datetime.datetime.now(tz=gettz('Asia/Kolkata')).replace(microsecond=0, tzinfo=None).time()\n",
        "  print(tm,\"BANKNIFTY:\", bnf_ltp,\"NIFTY:\",nf_ltp)\n",
        "  for i in range(0,len(todays_trade_log)):\n",
        "    try:\n",
        "      if todays_trade_log['Index SL'].iloc[i]!=\"-\" and todays_trade_log['Status'].iloc[i]=='Pending':\n",
        "        symboltoken=todays_trade_log['symboltoken'].iloc[i]\n",
        "        tradingsymbol=todays_trade_log['tradingsymbol'].iloc[i]\n",
        "        qty=todays_trade_log['quantity'].iloc[i]\n",
        "        index_sl=int(todays_trade_log['Index SL'].iloc[i])\n",
        "        index_ltp=bnf_ltp if tradingsymbol[:4]=='BANK' else nf_ltp\n",
        "        ltp_price=get_ltp_price(symbol=tradingsymbol,token=symboltoken,exch_seg=\"NFO\")\n",
        "        ltp=int(ltp_price)\n",
        "        todays_trade_log['LTP'].iloc[i]=ltp\n",
        "        if ((tradingsymbol[-2:]=='CE' and tradingsymbol[:4]=='BANK' and bnf_ltp < index_sl) or \n",
        "          (tradingsymbol[-2:]=='PE' and tradingsymbol[:4]=='BANK' and bnf_ltp > index_sl) or\n",
        "          (tradingsymbol[-2:]=='CE' and tradingsymbol[:4]=='NIFT' and nf_ltp < index_sl) or\n",
        "          (tradingsymbol[-2:]=='PE' and tradingsymbol[:4]=='NIFT' and nf_ltp > index_sl) or\n",
        "          (tradingsymbol[-2:]=='CE' and tradingsymbol[:4]=='BANK' and signal_dict['BANKNIFTY_3m']==\"Sell\") or \n",
        "          (tradingsymbol[-2:]=='PE' and tradingsymbol[:4]=='BANK' and signal_dict['BANKNIFTY_3m']==\"Buy\") or\n",
        "          (tradingsymbol[-2:]=='CE' and tradingsymbol[:4]=='NIFT' and signal_dict['NIFTY_3m']==\"Sell\") or\n",
        "          (tradingsymbol[-2:]=='PE' and tradingsymbol[:4]=='NIFT' and signal_dict['NIFTY_3m']==\"Buy\")):\n",
        "          ordertag='Candle pattern Indicator Exit ' + str(index_ltp)+' LTP: '+ str(ltp_price)\n",
        "          cancel_all_order(tradingsymbol)\n",
        "          place_order(token=symboltoken,symbol=tradingsymbol,qty=qty,buy_sell='SELL',ordertype='STOPLOSS_LIMIT',price=ltp_price,\n",
        "              variety='STOPLOSS',exch_seg='NFO',producttype='CARRYFORWARD',triggerprice=ltp_price,squareoff=ltp_price, stoploss=ltp_price,\n",
        "              ordertag=ordertag)\n",
        "          prt=float(ltp_price)-float(todays_trade_log['price'].iloc[i])\n",
        "          todays_trade_log['Profit'].iloc[i]=float(prt)*float(todays_trade_log['quantity'].iloc[i])\n",
        "          trade_info=(todays_trade_log['tradingsymbol'].iloc[i] +'\\nBuy: ' + str(todays_trade_log['price'].iloc[i]) +\n",
        "            '\\nTarget: ' +str(todays_trade_log['Target'].iloc[i])+ ' Stop Loss: ' +str(todays_trade_log['Stop Loss'].iloc[i])+\n",
        "            ' LTP:' +str(float(ltp_price)) + '\\nBuy Time: '+str(todays_trade_log['updatetime'].iloc[i])+\n",
        "            '\\nIndicator: ' + str(todays_trade_log['ordertag'].iloc[i])+\n",
        "            '\\nProfit: ' + str(int(todays_trade_log['Profit'].iloc[i])))\n",
        "          pl=(\"Realised:\"+str(int(todays_trade_log[(todays_trade_log['Status']=='Closed')]['Profit'].sum())) +\n",
        "              \" Unrealised:\"+str(int(todays_trade_log[(todays_trade_log['Status']!='Closed')]['Profit'].sum())))\n",
        "          telegram_bot_sendtext(\"Exit: \"+ ordertag +'\\n'+ trade_info +'\\n'+ pl)\n",
        "    except Exception as e:\n",
        "          print('exit_two_candle_low:',e)"
      ]
    },
    {
      "cell_type": "code",
      "execution_count": null,
      "metadata": {
        "colab": {
          "base_uri": "https://localhost:8080/"
        },
        "id": "eOFBI1c8UHC7",
        "outputId": "7ef2b45b-0ca7-407a-f687-18258611be56"
      },
      "outputs": [
        {
          "output_type": "stream",
          "name": "stdout",
          "text": [
            "time: 10.9 ms (started: 2023-02-04 09:13:49 +00:00)\n"
          ]
        }
      ],
      "source": [
        "def get_index_ltp(symbol):\n",
        "  if symbol==\"BANKNIFTY\" or symbol==\"^NSEBANK\": symbol=\"BANKNIFTY\"; symbol_i=\"^NSEBANK\"\n",
        "  elif symbol==\"NIFTY\" or symbol==\"^NSEI\": symbol=\"NIFTY\"; symbol_i=\"^NSEI\"\n",
        "  try:\n",
        "    indexLtp=int(yf.Ticker(symbol_i).fast_info['last_price'])\n",
        "  except Exception as e:\n",
        "    try:\n",
        "      data=yf.Ticker(symbol_i).history(interval='1m',period='1d')\n",
        "      indexLtp=int(data['Close'].iloc[-1])\n",
        "    except Exception as e:\n",
        "       try:\n",
        "          spot_token=getTokenInfo_index(symbol).iloc[0]['token']\n",
        "          ltpInfo = obj.ltpData('NSE',symbol,spot_token)\n",
        "          indexLtp = ltpInfo['data']['ltp']\n",
        "       except Exception as e:\n",
        "          print('Error get_index_ltp :',e)\n",
        "  return indexLtp"
      ]
    },
    {
      "cell_type": "code",
      "execution_count": null,
      "metadata": {
        "id": "yaVZtLFyDmbE",
        "colab": {
          "base_uri": "https://localhost:8080/"
        },
        "outputId": "d9cc775c-18ab-4a15-dc40-ebaffb807b2e"
      },
      "outputs": [
        {
          "output_type": "stream",
          "name": "stdout",
          "text": [
            "time: 10.5 ms (started: 2023-02-04 09:13:49 +00:00)\n"
          ]
        }
      ],
      "source": [
        "def closing_index_trade():\n",
        "  #global todays_trade_log,bnf_signal,nf_signal\n",
        "  bnf_signal,nf_signal=\"-\",'-'\n",
        "  if signal_dict['BANKNIFTY_15m']==\"Sell\" or signal_dict['BANKNIFTY_5m']==\"Sell\": bnf_signal=\"Sell\"\n",
        "  elif signal_dict['BANKNIFTY_15m']==\"Buy\" or signal_dict['BANKNIFTY_5m']==\"Buy\": bnf_signal=\"Buy\"\n",
        "  if signal_dict['NIFTY_15m']==\"Sell\" or signal_dict['NIFTY_5m']==\"Sell\": nf_signal=\"Sell\"\n",
        "  elif signal_dict['NIFTY_15m']==\"Buy\" or signal_dict['NIFTY_5m']==\"Buy\": nf_signal=\"Buy\"\n",
        "  bnf_indicator=(signal_dict[\"BANKNIFTY_5m_indicator\"]+signal_dict[\"BANKNIFTY_15m_indicator\"]).replace(\"-\",'')\n",
        "  nf_indicator=(signal_dict[\"NIFTY_5m_indicator\"]+signal_dict[\"NIFTY_15m_indicator\"]).replace(\"-\",'')\n",
        "  if bnf_signal==\"Buy\" or bnf_signal==\"Sell\" or nf_signal==\"Buy\" or nf_signal==\"Sell\":\n",
        "    close_all_position(bnf_signal=bnf_signal,nf_signal=nf_signal,bnf_indicator=bnf_indicator,nf_indicator=nf_indicator)\n",
        "    close_all_todays_trade(bnf_signal=bnf_signal,nf_signal=nf_signal,bnf_indicator=bnf_indicator,nf_indicator=nf_indicator)\n",
        "  exit_candle_pattern_trade()"
      ]
    },
    {
      "cell_type": "code",
      "execution_count": null,
      "metadata": {
        "colab": {
          "base_uri": "https://localhost:8080/"
        },
        "id": "_BK-d0xRooVC",
        "outputId": "4db00ca4-2963-48af-b450-6ab320070d7d"
      },
      "outputs": [
        {
          "output_type": "stream",
          "name": "stdout",
          "text": [
            "time: 28.7 ms (started: 2023-02-04 09:13:49 +00:00)\n"
          ]
        }
      ],
      "source": [
        "#First Trde\n",
        "def first_trade_new():\n",
        "  now = datetime.datetime.now(tz=gettz('Asia/Kolkata'))\n",
        "  print('First Trade...',datetime.datetime.now(tz=gettz('Asia/Kolkata')).replace(microsecond=0, tzinfo=None))\n",
        "  marketclose = now.replace(hour=9, minute=20, second=0, microsecond=0)\n",
        "  marketopen = now.replace(hour=0, minute=5, second=0, microsecond=0)\n",
        "  while now < marketclose and  now > marketopen:\n",
        "    sleep(60-datetime.datetime.now(tz=gettz('Asia/Kolkata')).second+1)\n",
        "    now = datetime.datetime.now(tz=gettz('Asia/Kolkata'))\n",
        "    print(datetime.datetime.now(tz=gettz('Asia/Kolkata')).replace(microsecond=0, tzinfo=None))\n",
        "  from google.colab import output\n",
        "  output.clear()\n",
        "  print('Lets Begin...')"
      ]
    },
    {
      "cell_type": "code",
      "execution_count": null,
      "metadata": {
        "colab": {
          "base_uri": "https://localhost:8080/"
        },
        "id": "6KD0Iwvf3S6v",
        "outputId": "af3950aa-a4ac-4bb4-dda7-c64618d02219"
      },
      "outputs": [
        {
          "output_type": "stream",
          "name": "stdout",
          "text": [
            "time: 1.59 ms (started: 2023-02-04 09:13:49 +00:00)\n"
          ]
        }
      ],
      "source": [
        "def mark_sl_candle_pattern(Strategy,indexLtp):\n",
        "  for i in range(0,len(todays_trade_log)):\n",
        "    if todays_trade_log['Status'][i]=='Pending':\n",
        "      try:\n",
        "        if todays_trade_log['ordertag'][i]==Strategy:#\"Two Candle Low Strategy\":\n",
        "          todays_trade_log['Index SL'][i]=indexLtp\n",
        "      except Exception as e:\n",
        "        print('mark_sl_two_candle_low:',e)"
      ]
    },
    {
      "cell_type": "code",
      "execution_count": null,
      "metadata": {
        "colab": {
          "base_uri": "https://localhost:8080/"
        },
        "id": "W5HDAHgJms_4",
        "outputId": "bf341a70-5af2-4ace-bdf2-321b5464f66c"
      },
      "outputs": [
        {
          "output_type": "stream",
          "name": "stdout",
          "text": [
            "time: 17.3 ms (started: 2023-02-04 09:13:49 +00:00)\n"
          ]
        }
      ],
      "source": [
        "def trail_candle_trade_sl():\n",
        "  nf_trade=get_historical_data(symbol=\"^NSEI\",interval='5m',token=\"-\",exch_seg=\"-\",candle_type=\"NORMAL\")\n",
        "  bnf_trade=get_historical_data(symbol=\"^NSEBANK\",interval='5m',token=\"-\",exch_seg=\"-\",candle_type=\"NORMAL\")\n",
        "  #nf_trade=historical_data_yfna(\"^NSEI\",\"5m\")\n",
        "  #bnf_trade=historical_data_yfna(\"^NSEBANK\",\"5m\")\n",
        "  bnf_dump=bnf_trade.tail(4)\n",
        "  nf_dump=nf_trade.tail(4)\n",
        "  if index_trail=='three_candle_low':\n",
        "    bnf_ce_sl=bnf_dump['Low'].min()\n",
        "    bnf_pe_sl=bnf_dump['High'].max()\n",
        "    nf_ce_sl=nf_dump['Low'].min()\n",
        "    nf_pe_sl=nf_dump['High'].max()\n",
        "  else:\n",
        "    bnf_ce_sl=bnf_dump['Low'].values[-1]\n",
        "    bnf_pe_sl=bnf_dump['High'].values[-1]\n",
        "    nf_ce_sl=nf_dump['Low'].values[-1]\n",
        "    nf_pe_sl=nf_dump['High'].values[-1]\n",
        "  for i in range(0,len(todays_trade_log)):\n",
        "    if todays_trade_log['Status'][i]=='Pending' and todays_trade_log['Time Frame'][i]==\"Candle Pattern\":\n",
        "      try:\n",
        "        tradingsymbol=todays_trade_log['tradingsymbol'][i]\n",
        "        index_sl=todays_trade_log['Index SL'][i]\n",
        "        if tradingsymbol[-2:]=='CE' and tradingsymbol[:4]=='BANK' and index_sl < bnf_ce_sl:\n",
        "          todays_trade_log['Index SL'][i]=bnf_ce_sl\n",
        "        elif tradingsymbol[-2:]=='PE' and tradingsymbol[:4]=='BANK' and index_sl > bnf_ce_sl:\n",
        "          todays_trade_log['Index SL'][i]=bnf_pe_sl\n",
        "        elif tradingsymbol[-2:]=='CE' and tradingsymbol[:4]=='NIFT' and index_sl < nf_ce_sl:\n",
        "          todays_trade_log['Index SL'][i]=nf_ce_sl\n",
        "        elif tradingsymbol[-2:]=='PE' and tradingsymbol[:4]=='NIFT' and index_sl > nf_pe_sl:\n",
        "          todays_trade_log['Index SL'][i]=nf_pe_sl\n",
        "      except Exception as e:\n",
        "        print('trail_candle_trade_sl:',e)"
      ]
    },
    {
      "cell_type": "code",
      "execution_count": null,
      "metadata": {
        "colab": {
          "base_uri": "https://localhost:8080/"
        },
        "id": "s9KxQ395twbD",
        "outputId": "8fe3ad90-1ace-4c0e-edce-10203f2a9e14"
      },
      "outputs": [
        {
          "output_type": "stream",
          "name": "stdout",
          "text": [
            "time: 5.76 ms (started: 2023-02-04 09:13:49 +00:00)\n"
          ]
        }
      ],
      "source": [
        "def one_candle_low(symbol,fut_data):\n",
        "  close=float(fut_data['Close'].values[-1])\n",
        "  open=float(fut_data['Open'].values[-1])\n",
        "  low=float(fut_data['Low'].values[-1])\n",
        "  high=max(float(fut_data['High'].values[-1]),float(fut_data['High'].values[-2]))\n",
        "  active_trade_count=len(todays_trade_log[(todays_trade_log['Status'] == 'Pending') & (todays_trade_log['ordertag'] == 'One Candle Low Strategy')])\n",
        "  if open > close and active_trade_count==0:\n",
        "    #trade=historical_data_yfna(symbol,\"1m\")\n",
        "    #indexLtp=trade_one_min.iloc[-1]['Open']\n",
        "    indexLtp=get_index_ltp(symbol)\n",
        "    if indexLtp < low:\n",
        "      indexLtp, ce_strike_symbol,pe_strike_symbol=get_ce_pe_data(symbol,indexLtp=indexLtp)\n",
        "      buy_option(pe_strike_symbol,\"One Candle Low Strategy\",\"Candle Pattern\",index_sl=high)\n",
        "      mark_sl_candle_pattern(Strategy=\"One Candle Low Strategy\",indexLtp=high)"
      ]
    },
    {
      "cell_type": "code",
      "execution_count": null,
      "metadata": {
        "colab": {
          "base_uri": "https://localhost:8080/"
        },
        "id": "8BbgV23_NjyN",
        "outputId": "0adad7a6-cc8e-4509-83f6-db095c715d0a"
      },
      "outputs": [
        {
          "output_type": "stream",
          "name": "stdout",
          "text": [
            "time: 11.8 ms (started: 2023-02-04 09:13:49 +00:00)\n"
          ]
        }
      ],
      "source": [
        "def orb_trade(fut_data,interval,symbol,one_min_data):\n",
        "  try:\n",
        "    if orb_dict['BANKNIFTY_15m_high']!=\"-\":\n",
        "      ORBO_count=len(todays_trade_log[(todays_trade_log['Strategy'] == 'ORBO '+symbol+' '+interval)])\n",
        "      ORBD_count=len(todays_trade_log[(todays_trade_log['Strategy'] == 'ORBD '+symbol+' '+interval)])\n",
        "      high=float(orb_dict[symbol+\"_\"+interval+'_high'])\n",
        "      low=float(orb_dict[symbol+\"_\"+interval+'_low'])\n",
        "      target=banknifty_target if symbol==\"BANKNIFTY\" else nifty_target\n",
        "      sl=banknifty_sl if symbol==\"BANKNIFTY\" else nifty_sl\n",
        "      if one_min_data['Close'].values[-2]>=low and one_min_data['Close'].values[-1]<low and ORBD_count==0:\n",
        "      #if fut_data['Close'].values[-2]>=low and indexLtp<low and ORBD_count==0:\n",
        "        indexLtp, ce_strike_symbol,pe_strike_symbol=get_ce_pe_data(symbol,indexLtp=one_min_data['Close'].values[-1])\n",
        "        buy_option(pe_strike_symbol,'ORBD '+symbol+' '+interval,\"Candle Pattern\",index_sl=high)\n",
        "        mark_sl_candle_pattern(Strategy='ORBD '+symbol+' '+interval,indexLtp=high)\n",
        "      elif one_min_data['Close'].values[-2]<=high and one_min_data['Close'].values[-1]>high and ORBO_count==0:\n",
        "      #elif fut_data['Close'].values[-2]<=high and indexLtp>high and ORBO_count==0:\n",
        "        indexLtp, ce_strike_symbol,pe_strike_symbol=get_ce_pe_data(symbol,indexLtp=one_min_data['Close'].values[-1])\n",
        "        buy_option(ce_strike_symbol,'ORBO '+symbol+' '+interval,\"Candle Pattern\",index_sl=low)\n",
        "        mark_sl_candle_pattern(Strategy='ORBO '+symbol+' '+interval,indexLtp=low)\n",
        "  except Exception as e:\n",
        "      print('Error in ORBD Trade:',e)"
      ]
    },
    {
      "cell_type": "code",
      "execution_count": null,
      "metadata": {
        "colab": {
          "base_uri": "https://localhost:8080/"
        },
        "id": "oNMo0qoSGs7Z",
        "outputId": "0a61cb9e-7a6a-477a-9401-c812582f141c"
      },
      "outputs": [
        {
          "output_type": "stream",
          "name": "stdout",
          "text": [
            "time: 11.9 ms (started: 2023-02-04 09:13:49 +00:00)\n"
          ]
        }
      ],
      "source": [
        "def mark_orb():\n",
        "  try:\n",
        "    global orb_dict\n",
        "    dt=datetime.datetime.now().date().strftime('%m/%d/%y')\n",
        "    orb_dict = {\"NIFTY_5m_high\": \"-\", \"NIFTY_5m_low\": \"-\",\"NIFTY_15m_high\":\"-\",\"NIFTY_15m_low\":\"-\",\n",
        "              \"BANKNIFTY_5m_high\": \"-\", \"BANKNIFTY_5m_low\": \"-\",\"BANKNIFTY_15m_high\":\"-\",\"BANKNIFTY_15m_low\":\"-\"}\n",
        "    for symbol in ['^NSEBANK','^NSEI']:\n",
        "      n_symbol=\"NIFTY\" if symbol==\"^NSEI\" else \"BANKNIFTY\"\n",
        "      trade=get_historical_data(symbol=symbol,interval='5m',token=\"-\",exch_seg=\"-\",candle_type=\"NORMAL\")\n",
        "      #trade=historical_data_yfna(symbol,\"5m\")\n",
        "      trade=trade[(trade['Date']==dt)].head(3)\n",
        "      orb_dict[n_symbol + \"_5m_low\"] = trade.iloc[0]['Low']\n",
        "      orb_dict[n_symbol + \"_5m_high\"] = trade.iloc[0]['High']\n",
        "      orb_dict[n_symbol + \"_15m_low\"] = trade['Low'].min()\n",
        "      orb_dict[n_symbol + \"_15m_high\"] = trade['High'].max()\n",
        "    print(orb_dict)\n",
        "  except Exception as e:\n",
        "    orb_dict = {\"NIFTY_5m_high\": \"-\", \"NIFTY_5m_low\": \"-\",\"NIFTY_15m_high\":\"-\",\"NIFTY_15m_low\":\"-\",\n",
        "              \"BANKNIFTY_5m_high\": \"-\", \"BANKNIFTY_5m_low\": \"-\",\"BANKNIFTY_15m_high\":\"-\",\"BANKNIFTY_15m_low\":\"-\"}\n",
        "    print('Error in mark_orb:',e)"
      ]
    },
    {
      "cell_type": "code",
      "execution_count": null,
      "metadata": {
        "colab": {
          "base_uri": "https://localhost:8080/"
        },
        "id": "bLkTAgQs1gGR",
        "outputId": "c81e20c4-6c26-482d-83ce-e11f3caa8c72"
      },
      "outputs": [
        {
          "output_type": "stream",
          "name": "stdout",
          "text": [
            "time: 1.06 ms (started: 2023-02-04 09:13:49 +00:00)\n"
          ]
        }
      ],
      "source": [
        "def pnl_check():\n",
        "  try:\n",
        "    print('Profit Till Now: ',pnl)\n",
        "    if pnl <=pnl_sl: telegram_bot_sendtext(\"Account Stop Loss Limit Crossed, Please close all position. its Bad day\")\n",
        "    elif pnl > pnl_tgt: telegram_bot_sendtext(\"Account Day Target Hit, Please close all position. its Good day\")\n",
        "  except Exception as e:\n",
        "      print('Error in PNL Check:',e)"
      ]
    },
    {
      "cell_type": "code",
      "execution_count": null,
      "metadata": {
        "colab": {
          "base_uri": "https://localhost:8080/"
        },
        "id": "WuWVAY6xnanj",
        "outputId": "064245cb-bbeb-4e32-9123-487fe6b8bd0c"
      },
      "outputs": [
        {
          "output_type": "stream",
          "name": "stdout",
          "text": [
            "time: 6.66 ms (started: 2023-02-04 09:13:49 +00:00)\n"
          ]
        }
      ],
      "source": [
        "def two_candle_strategy(future_token,interval='3m'):\n",
        "  df=get_historical_data(interval=interval,token=future_token['token'],exch_seg=future_token['exch_seg'],candle_type=\"NORMAL\")\n",
        "  df['Volume']=df['Volume']*int(future_token['lotsize'])\n",
        "  return df"
      ]
    },
    {
      "cell_type": "code",
      "execution_count": null,
      "metadata": {
        "colab": {
          "base_uri": "https://localhost:8080/"
        },
        "id": "ZrPGRLyfYtbA",
        "outputId": "6c96df67-a76d-44b2-bfe9-4200c9d52762"
      },
      "outputs": [
        {
          "output_type": "stream",
          "name": "stdout",
          "text": [
            "time: 9.29 ms (started: 2023-02-04 09:13:49 +00:00)\n"
          ]
        }
      ],
      "source": [
        "#Loop code\n",
        "def loop_code():\n",
        "  now = datetime.datetime.now(tz=gettz('Asia/Kolkata'))\n",
        "  print('...Jay Shri Ganesh...\\n'+'Welcome...' + user_name)\n",
        "  marketclose = now.replace(hour=14, minute=55, second=0, microsecond=0)\n",
        "  marketopen = now.replace(hour=0, minute=5, second=0, microsecond=0)\n",
        "  orbclose = now.replace(hour=9, minute=30, second=0, microsecond=0)\n",
        "  first_trade_new()\n",
        "  global signal_dict,orb_dict,orderbook,open_position\n",
        "  orb_dict = {\"NIFTY_5m_high\": \"-\", \"NIFTY_5m_low\": \"-\",\"NIFTY_15m_high\":\"-\",\"NIFTY_15m_low\":\"-\",\n",
        "            \"BANKNIFTY_5m_high\": \"-\", \"BANKNIFTY_5m_low\": \"-\",\"BANKNIFTY_15m_high\":\"-\",\"BANKNIFTY_15m_low\":\"-\"}\n",
        "  signal_dict = {\"NIFTY_1m\": \"-\", \"NIFTY_3m\": \"-\",\"NIFTY_5m\":\"-\",\"NIFTY_15m\":\"-\",\n",
        "        \"BANKNIFTY_1m\": \"-\",\"BANKNIFTY_3m\":\"-\", \"BANKNIFTY_5m\":\"-\",\"BANKNIFTY_15m\":\"-\",\n",
        "        \"NIFTY_1m_indicator\": \"-\", \"NIFTY_3m_indicator\": \"-\",\"NIFTY_5m_indicator\":\"-\",\"NIFTY_15m_indicator\":\"-\",\n",
        "        \"BANKNIFTY_1m_indicator\": \"-\",\"BANKNIFTY_3m_indicator\":\"-\", \"BANKNIFTY_5m_indicator\":\"-\",\"BANKNIFTY_15m_indicator\":\"-\"}\n",
        "  tm=datetime.datetime.now(tz=gettz('Asia/Kolkata')).replace(microsecond=0, tzinfo=None)\n",
        "  #nf_trade=get_historical_data(symbol=\"^NSEI\",interval='5m',token=\"-\",exch_seg=\"-\",candle_type=\"NORMAL\")\n",
        "  #bnf_trade=get_historical_data(symbol=\"^NSEBANK\",interval='5m',token=\"-\",exch_seg=\"-\",candle_type=\"NORMAL\")\n",
        "  #telegram_bot_sendtext('...Jay Shri Ganesh...\\n'+'Welcome...' + user_name)\n",
        "  from google.colab import output\n",
        "  get_todays_trade()\n",
        "  while now < marketclose and  now  > marketopen:\n",
        "    try:\n",
        "      now_time=datetime.datetime.now(tz=gettz('Asia/Kolkata'))\n",
        "      print(now_time.replace(microsecond=0, tzinfo=None).time())\n",
        "      if (now_time.minute%5==0 and five_m_timeframe=='Yes'):\n",
        "        output.clear()\n",
        "        signal_dict = {\"NIFTY_1m\": \"-\", \"NIFTY_3m\": \"-\",\"NIFTY_5m\":\"-\",\"NIFTY_15m\":\"-\",\n",
        "        \"BANKNIFTY_1m\": \"-\",\"BANKNIFTY_3m\":\"-\", \"BANKNIFTY_5m\":\"-\",\"BANKNIFTY_15m\":\"-\",\n",
        "        \"NIFTY_1m_indicator\": \"-\", \"NIFTY_3m_indicator\": \"-\",\"NIFTY_5m_indicator\":\"-\",\"NIFTY_15m_indicator\":\"-\",\n",
        "        \"BANKNIFTY_1m_indicator\": \"-\",\"BANKNIFTY_3m_indicator\":\"-\", \"BANKNIFTY_5m_indicator\":\"-\",\"BANKNIFTY_15m_indicator\":\"-\"}\n",
        "        bnf_trade=index_trade('BANKNIFTY','5m')\n",
        "        nf_trade=index_trade('NIFTY','5m')\n",
        "        n_todays_trade_log = todays_trade_log.rename(columns={'updatetime':'Datetime','Stop Loss':'SL'})\n",
        "        print(n_todays_trade_log[['Datetime','tradingsymbol','price','Sell','SL','Target','LTP','Status',\n",
        "                                'Profit','Index SL','Exit Time','ordertag','Sell Indicator']].to_string(index=False))\n",
        "      #if one_m_timeframe=='Yes':\n",
        "      #  if Candle_trading==\"Yes\":\n",
        "      #    nf_trade_one_min=historical_data_yfna(\"^NSEI\",\"1m\")\n",
        "      #    one_candle_low('NIFTY',nf_trade)\n",
        "      #    bnf_trade_one_min=historical_data_yfna(\"^NSEBANK\",\"1m\")\n",
        "      #    orb_trade(nf_trade,'15m','NIFTY',nf_trade_one_min)\n",
        "      #    orb_trade(bnf_trade,'15m','BANKNIFTY',bnf_trade_one_min)\n",
        "      if (now_time.minute%3==0 and three_m_timeframe=='Yes'):\n",
        "        nf_trade_3_min=index_trade(symbol=nf_future['symbol'],interval=\"3m\",candle_type=\"NORMAL\",token=nf_future['token'],exch_seg=nf_future['exch_seg'])\n",
        "        bnf_trade_3_min=index_trade(symbol=bnf_future['symbol'],interval=\"3m\",candle_type=\"NORMAL\",token=bnf_future['token'],exch_seg=bnf_future['exch_seg'])\n",
        "      if (now_time.minute%15==0 and fifteen_m_timeframe=='Yes'):\n",
        "        bnf_trade_15_min=index_trade('BANKNIFTY','15m')\n",
        "        nf_trade_15_min=index_trade('NIFTY','15m')\n",
        "      open_position=get_open_position()\n",
        "      get_todays_trade()\n",
        "      closing_index_trade()\n",
        "      if now_time.minute==20:\n",
        "        send_status()\n",
        "        pnl_check()\n",
        "        day_stock_scaner('60m')\n",
        "      while datetime.datetime.now(tz=gettz('Asia/Kolkata')).second <=40 and len(todays_trade_log[todays_trade_log['Status'] == 'Pending'])>0:\n",
        "        check_target_sl()\n",
        "      print('----------------------------------------')\n",
        "      now=datetime.datetime.now(tz=gettz('Asia/Kolkata'))\n",
        "      sleep(60-now.second+1)\n",
        "    except Exception as e:\n",
        "      print('Error in Loop:',e)\n",
        "      now=datetime.datetime.now(tz=gettz('Asia/Kolkata'))\n",
        "      sleep(60-now.second+1)\n",
        "  print ('Bye... Intraday Market Closed')\n",
        "  closing_trade()"
      ]
    },
    {
      "cell_type": "code",
      "execution_count": null,
      "metadata": {
        "colab": {
          "base_uri": "https://localhost:8080/"
        },
        "id": "FAVC9MIg1CDp",
        "outputId": "12960d8b-2006-4a90-ef31-5d2906c8c540"
      },
      "outputs": [
        {
          "output_type": "stream",
          "name": "stdout",
          "text": [
            "time: 7.16 ms (started: 2023-02-04 09:13:50 +00:00)\n"
          ]
        }
      ],
      "source": [
        "def get_3_min_trade_list(dat):\n",
        "  nf_trade_3_min=index_trade(symbol=nf_future['symbol'],interval=\"3m\",candle_type=\"NORMAL\",token=nf_future['token'],exch_seg=nf_future['exch_seg'])\n",
        "  nf_trade_3_min=nf_trade_3_min[(nf_trade_3_min['Date']==dat)]\n",
        "  df=nf_trade_3_min\n",
        "  df=df[['Date','Datetime','Open','High','Low','Close','Trade','Trade End']]\n",
        "  df['Trade Time']=\"-\"\n",
        "  df['Trade Exit']='-'\n",
        "  df['Index SL']='-'\n",
        "  for i in range(0,len(df)):\n",
        "    if df['Trade'][i]!=\"-\":\n",
        "      df['Trade Time'][i]=df['Datetime'][i+1]\n",
        "      ce_sl=min(df['Low'][i],df['Low'][i-1])\n",
        "      pe_sl=max(df['High'][i],df['High'][i-1])\n",
        "      index_sl = ce_sl if nf_trade_3_min['Trade'][i]==\"Buy\" else pe_sl\n",
        "      df['Index SL'][i]=index_sl\n",
        "  for i in range(0,len(df)):\n",
        "    if df['Trade'][i]!=\"-\":\n",
        "      df['Trade Time'][i]=df['Datetime'][i+1]\n",
        "      ce_sl=min(df['Low'][i],df['Low'][i-1])\n",
        "      pe_sl=max(df['High'][i],df['High'][i-1])\n",
        "      index_sl = ce_sl if nf_trade_3_min['Trade'][i]==\"Buy\" else pe_sl\n",
        "      df['Index SL'][i]=index_sl\n",
        "  for i in range(0,len(df)):\n",
        "    if df['Trade'][i]==\"Buy\":\n",
        "      index_sl=df['Index SL'][i]\n",
        "      for j in range(i+1,len(df)):\n",
        "        if df['Trade End'][j]==\"Sell\" or df['Low'][j]<= index_sl:\n",
        "          df['Trade Exit'][i]=df['Datetime'][j+1]\n",
        "          break\n",
        "    if df['Trade'][i]==\"Sell\":\n",
        "      index_sl=df['Index SL'][i]\n",
        "      for j in range(i+1,len(df)):\n",
        "        if df['Trade End'][j]==\"Buy\" or df['High'][j]>= index_sl:\n",
        "          df['Trade Exit'][i]=df['Datetime'][j+1]\n",
        "          break\n",
        "  df=df[(df['Trade']!='-')]\n",
        "  return df"
      ]
    },
    {
      "cell_type": "markdown",
      "metadata": {
        "id": "P2uETUZe3iow"
      },
      "source": [
        "# Run Loop Code"
      ]
    },
    {
      "cell_type": "code",
      "execution_count": null,
      "metadata": {
        "colab": {
          "base_uri": "https://localhost:8080/",
          "height": 747
        },
        "id": "PSMnfEVJtP-i",
        "outputId": "0397557c-25ca-4d15-ae27-6b7b5ed6b51a"
      },
      "outputs": [
        {
          "output_type": "stream",
          "name": "stdout",
          "text": [
            "Lets Begin...\n",
            "Realised: 0 Unrealised: -201\n",
            "Datetime           tradingsymbol  price  Stop Loss  Target     LTP  Profit Index SL ordertag\n",
            "11:02:48 BANKNIFTY09FEB2341400PE 356.23     178.12  463.10   352.7  -88.25        -     TEST\n",
            "11:02:58 BANKNIFTY09FEB2341400CE 457.18     228.59  594.33  452.65 -113.25        -     TEST\n",
            "11:48:12\n",
            "Datetime   Close Trade Trade End  Supertrend  Supertrend_10_2   RSI     VWAP   WMA_20 Indicator\n",
            "15:24:00 17893.0     -         -    17862.71         17876.73 57.34 17777.29 17901.57        3m\n",
            "15:27:00 17877.0     -         -    17862.71         17876.73 50.68 17780.20 17899.86        3m\n",
            "BANKNIFTY LTP: 41499.0 BANKNIFTY09FEB2341400CE & BANKNIFTY09FEB2341400PE\n",
            "{'variety': 'NORMAL', 'tradingsymbol': 'BANKNIFTY09FEB2341400CE', 'symboltoken': '39055', 'transactiontype': 'BUY', 'exchange': 'NFO', 'ordertype': 'MARKET', 'producttype': 'CARRYFORWARD', 'duration': 'DAY', 'price': 0, 'squareoff': 0, 'stoploss': 0, 'quantity': 25, 'triggerprice': 0, 'ordertag': '3m Two Candle Theory: Buy Index SL: 41454.9', 'trailingStopLoss': 5}\n",
            "The order id is: 230204000004404 ,Order Status: rejected ,Price :  - ,Symbol: BANKNIFTY09FEB2341400CE\n",
            "***Buy:  BANKNIFTY09FEB2341400CE  Price:  -  Indicator:  3m Two Candle Theory: Buy Index SL: 41454.9\n",
            "Datetime    Close Trade Trade End  Supertrend  Supertrend_10_2   RSI     VWAP   WMA_20                 Indicator\n",
            "15:24:00 41638.70     -         -    41503.02         41536.13 67.04 41258.64 41609.52                        3m\n",
            "15:27:00 41684.85   Buy       Buy    41506.47         41546.57 70.85 41264.63 41619.60 3m Two Candle Theory: Buy\n",
            "Realised: 0 Unrealised: -314\n",
            "Datetime           tradingsymbol  price  Stop Loss  Target     LTP  Profit Index SL                                    ordertag\n",
            "11:02:48 BANKNIFTY09FEB2341400PE 356.23     178.12  463.10   352.7  -88.25        -                                        TEST\n",
            "11:02:58 BANKNIFTY09FEB2341400CE 457.18     228.59  594.33  452.65 -113.25        -                                        TEST\n",
            "11:48:19 BANKNIFTY09FEB2341400CE 457.18     228.59  594.33  452.65 -113.25  41454.9 3m Two Candle Theory: Buy Index SL: 41454.9\n",
            "11:48:28 BANKNIFTY: 41499 NIFTY: 17854\n",
            "11:48:35 BANKNIFTY: 41499 NIFTY: 17854\n"
          ]
        },
        {
          "output_type": "error",
          "ename": "KeyboardInterrupt",
          "evalue": "ignored",
          "traceback": [
            "\u001b[0;31m---------------------------------------------------------------------------\u001b[0m",
            "\u001b[0;31mKeyboardInterrupt\u001b[0m                         Traceback (most recent call last)",
            "\u001b[0;32m<ipython-input-127-afafe241a09c>\u001b[0m in \u001b[0;36m<module>\u001b[0;34m\u001b[0m\n\u001b[0;32m----> 1\u001b[0;31m \u001b[0mloop_code\u001b[0m\u001b[0;34m(\u001b[0m\u001b[0;34m)\u001b[0m\u001b[0;34m\u001b[0m\u001b[0;34m\u001b[0m\u001b[0m\n\u001b[0m",
            "\u001b[0;32m<ipython-input-97-4032282d5d78>\u001b[0m in \u001b[0;36mloop_code\u001b[0;34m()\u001b[0m\n\u001b[1;32m     19\u001b[0m   \u001b[0;31m#telegram_bot_sendtext('...Jay Shri Ganesh...\\n'+'Welcome...' + user_name)\u001b[0m\u001b[0;34m\u001b[0m\u001b[0;34m\u001b[0m\u001b[0;34m\u001b[0m\u001b[0m\n\u001b[1;32m     20\u001b[0m   \u001b[0;32mfrom\u001b[0m \u001b[0mgoogle\u001b[0m\u001b[0;34m.\u001b[0m\u001b[0mcolab\u001b[0m \u001b[0;32mimport\u001b[0m \u001b[0moutput\u001b[0m\u001b[0;34m\u001b[0m\u001b[0;34m\u001b[0m\u001b[0m\n\u001b[0;32m---> 21\u001b[0;31m   \u001b[0mget_todays_trade\u001b[0m\u001b[0;34m(\u001b[0m\u001b[0;34m)\u001b[0m\u001b[0;34m\u001b[0m\u001b[0;34m\u001b[0m\u001b[0m\n\u001b[0m\u001b[1;32m     22\u001b[0m   \u001b[0;32mwhile\u001b[0m \u001b[0mnow\u001b[0m \u001b[0;34m<\u001b[0m \u001b[0mmarketclose\u001b[0m \u001b[0;32mand\u001b[0m  \u001b[0mnow\u001b[0m  \u001b[0;34m>\u001b[0m \u001b[0mmarketopen\u001b[0m\u001b[0;34m:\u001b[0m\u001b[0;34m\u001b[0m\u001b[0;34m\u001b[0m\u001b[0m\n\u001b[1;32m     23\u001b[0m     \u001b[0;32mtry\u001b[0m\u001b[0;34m:\u001b[0m\u001b[0;34m\u001b[0m\u001b[0;34m\u001b[0m\u001b[0m\n",
            "\u001b[0;32m<ipython-input-84-78b656b40194>\u001b[0m in \u001b[0;36mcheck_target_sl\u001b[0;34m()\u001b[0m\n\u001b[1;32m      6\u001b[0m         \u001b[0msymboltoken\u001b[0m\u001b[0;34m=\u001b[0m\u001b[0mtodays_trade_log\u001b[0m\u001b[0;34m[\u001b[0m\u001b[0;34m'symboltoken'\u001b[0m\u001b[0;34m]\u001b[0m\u001b[0;34m.\u001b[0m\u001b[0miloc\u001b[0m\u001b[0;34m[\u001b[0m\u001b[0mi\u001b[0m\u001b[0;34m]\u001b[0m\u001b[0;34m\u001b[0m\u001b[0;34m\u001b[0m\u001b[0m\n\u001b[1;32m      7\u001b[0m         \u001b[0mtradingsymbol\u001b[0m\u001b[0;34m=\u001b[0m\u001b[0mtodays_trade_log\u001b[0m\u001b[0;34m[\u001b[0m\u001b[0;34m'tradingsymbol'\u001b[0m\u001b[0;34m]\u001b[0m\u001b[0;34m.\u001b[0m\u001b[0miloc\u001b[0m\u001b[0;34m[\u001b[0m\u001b[0mi\u001b[0m\u001b[0;34m]\u001b[0m\u001b[0;34m\u001b[0m\u001b[0;34m\u001b[0m\u001b[0m\n\u001b[0;32m----> 8\u001b[0;31m         \u001b[0mltp_price\u001b[0m\u001b[0;34m=\u001b[0m\u001b[0mget_ltp_price\u001b[0m\u001b[0;34m(\u001b[0m\u001b[0msymbol\u001b[0m\u001b[0;34m=\u001b[0m\u001b[0mtradingsymbol\u001b[0m\u001b[0;34m,\u001b[0m\u001b[0mtoken\u001b[0m\u001b[0;34m=\u001b[0m\u001b[0msymboltoken\u001b[0m\u001b[0;34m,\u001b[0m\u001b[0mexch_seg\u001b[0m\u001b[0;34m=\u001b[0m\u001b[0;34m\"NFO\"\u001b[0m\u001b[0;34m)\u001b[0m\u001b[0;34m\u001b[0m\u001b[0;34m\u001b[0m\u001b[0m\n\u001b[0m\u001b[1;32m      9\u001b[0m         \u001b[0mltp\u001b[0m\u001b[0;34m=\u001b[0m\u001b[0mint\u001b[0m\u001b[0;34m(\u001b[0m\u001b[0mltp_price\u001b[0m\u001b[0;34m)\u001b[0m\u001b[0;34m\u001b[0m\u001b[0;34m\u001b[0m\u001b[0m\n\u001b[1;32m     10\u001b[0m         \u001b[0mprt\u001b[0m\u001b[0;34m=\u001b[0m\u001b[0mltp\u001b[0m\u001b[0;34m-\u001b[0m\u001b[0mint\u001b[0m\u001b[0;34m(\u001b[0m\u001b[0mfloat\u001b[0m\u001b[0;34m(\u001b[0m\u001b[0mtodays_trade_log\u001b[0m\u001b[0;34m[\u001b[0m\u001b[0;34m'price'\u001b[0m\u001b[0;34m]\u001b[0m\u001b[0;34m.\u001b[0m\u001b[0miloc\u001b[0m\u001b[0;34m[\u001b[0m\u001b[0mi\u001b[0m\u001b[0;34m]\u001b[0m\u001b[0;34m)\u001b[0m\u001b[0;34m)\u001b[0m\u001b[0;34m\u001b[0m\u001b[0;34m\u001b[0m\u001b[0m\n",
            "\u001b[0;32m<ipython-input-61-2e40a1bd182e>\u001b[0m in \u001b[0;36mget_ltp_price\u001b[0;34m(symbol, token, exch_seg)\u001b[0m\n\u001b[1;32m     24\u001b[0m       \u001b[0mfive_p_exch\u001b[0m\u001b[0;34m=\u001b[0m\u001b[0;34m\"D\"\u001b[0m\u001b[0;34m\u001b[0m\u001b[0;34m\u001b[0m\u001b[0m\n\u001b[1;32m     25\u001b[0m     \u001b[0;32mtry\u001b[0m\u001b[0;34m:\u001b[0m\u001b[0;34m\u001b[0m\u001b[0;34m\u001b[0m\u001b[0m\n\u001b[0;32m---> 26\u001b[0;31m       \u001b[0mltpInfo\u001b[0m \u001b[0;34m=\u001b[0m \u001b[0mobj\u001b[0m\u001b[0;34m.\u001b[0m\u001b[0mltpData\u001b[0m\u001b[0;34m(\u001b[0m\u001b[0mexch_seg\u001b[0m\u001b[0;34m,\u001b[0m\u001b[0msymbol\u001b[0m\u001b[0;34m,\u001b[0m\u001b[0mtoken\u001b[0m\u001b[0;34m)\u001b[0m\u001b[0;34m\u001b[0m\u001b[0;34m\u001b[0m\u001b[0m\n\u001b[0m\u001b[1;32m     27\u001b[0m       \u001b[0mltp_price\u001b[0m \u001b[0;34m=\u001b[0m \u001b[0mltpInfo\u001b[0m\u001b[0;34m[\u001b[0m\u001b[0;34m'data'\u001b[0m\u001b[0;34m]\u001b[0m\u001b[0;34m[\u001b[0m\u001b[0;34m'ltp'\u001b[0m\u001b[0;34m]\u001b[0m\u001b[0;34m\u001b[0m\u001b[0;34m\u001b[0m\u001b[0m\n\u001b[1;32m     28\u001b[0m     \u001b[0;32mexcept\u001b[0m \u001b[0mException\u001b[0m \u001b[0;32mas\u001b[0m \u001b[0me\u001b[0m\u001b[0;34m:\u001b[0m\u001b[0;34m\u001b[0m\u001b[0;34m\u001b[0m\u001b[0m\n",
            "\u001b[0;32m/usr/local/lib/python3.8/dist-packages/smartapi/smartConnect.py\u001b[0m in \u001b[0;36mltpData\u001b[0;34m(self, exchange, tradingsymbol, symboltoken)\u001b[0m\n\u001b[1;32m    312\u001b[0m             \u001b[0;34m\"symboltoken\"\u001b[0m\u001b[0;34m:\u001b[0m\u001b[0msymboltoken\u001b[0m\u001b[0;34m\u001b[0m\u001b[0;34m\u001b[0m\u001b[0m\n\u001b[1;32m    313\u001b[0m         }\n\u001b[0;32m--> 314\u001b[0;31m         \u001b[0mltpDataResponse\u001b[0m\u001b[0;34m=\u001b[0m \u001b[0mself\u001b[0m\u001b[0;34m.\u001b[0m\u001b[0m_postRequest\u001b[0m\u001b[0;34m(\u001b[0m\u001b[0;34m\"api.ltp.data\"\u001b[0m\u001b[0;34m,\u001b[0m\u001b[0mparams\u001b[0m\u001b[0;34m)\u001b[0m\u001b[0;34m\u001b[0m\u001b[0;34m\u001b[0m\u001b[0m\n\u001b[0m\u001b[1;32m    315\u001b[0m         \u001b[0;32mreturn\u001b[0m \u001b[0mltpDataResponse\u001b[0m\u001b[0;34m\u001b[0m\u001b[0;34m\u001b[0m\u001b[0m\n\u001b[1;32m    316\u001b[0m \u001b[0;34m\u001b[0m\u001b[0m\n",
            "\u001b[0;32m/usr/local/lib/python3.8/dist-packages/smartapi/smartConnect.py\u001b[0m in \u001b[0;36m_postRequest\u001b[0;34m(self, route, params)\u001b[0m\n\u001b[1;32m    218\u001b[0m     \u001b[0;32mdef\u001b[0m \u001b[0m_postRequest\u001b[0m\u001b[0;34m(\u001b[0m\u001b[0mself\u001b[0m\u001b[0;34m,\u001b[0m \u001b[0mroute\u001b[0m\u001b[0;34m,\u001b[0m \u001b[0mparams\u001b[0m\u001b[0;34m=\u001b[0m\u001b[0;32mNone\u001b[0m\u001b[0;34m)\u001b[0m\u001b[0;34m:\u001b[0m\u001b[0;34m\u001b[0m\u001b[0;34m\u001b[0m\u001b[0m\n\u001b[1;32m    219\u001b[0m         \u001b[0;34m\"\"\"Alias for sending a POST request.\"\"\"\u001b[0m\u001b[0;34m\u001b[0m\u001b[0;34m\u001b[0m\u001b[0m\n\u001b[0;32m--> 220\u001b[0;31m         \u001b[0;32mreturn\u001b[0m \u001b[0mself\u001b[0m\u001b[0;34m.\u001b[0m\u001b[0m_request\u001b[0m\u001b[0;34m(\u001b[0m\u001b[0mroute\u001b[0m\u001b[0;34m,\u001b[0m \u001b[0;34m\"POST\"\u001b[0m\u001b[0;34m,\u001b[0m \u001b[0mparams\u001b[0m\u001b[0;34m)\u001b[0m\u001b[0;34m\u001b[0m\u001b[0;34m\u001b[0m\u001b[0m\n\u001b[0m\u001b[1;32m    221\u001b[0m     \u001b[0;32mdef\u001b[0m \u001b[0m_getRequest\u001b[0m\u001b[0;34m(\u001b[0m\u001b[0mself\u001b[0m\u001b[0;34m,\u001b[0m \u001b[0mroute\u001b[0m\u001b[0;34m,\u001b[0m \u001b[0mparams\u001b[0m\u001b[0;34m=\u001b[0m\u001b[0;32mNone\u001b[0m\u001b[0;34m)\u001b[0m\u001b[0;34m:\u001b[0m\u001b[0;34m\u001b[0m\u001b[0;34m\u001b[0m\u001b[0m\n\u001b[1;32m    222\u001b[0m         \u001b[0;34m\"\"\"Alias for sending a GET request.\"\"\"\u001b[0m\u001b[0;34m\u001b[0m\u001b[0;34m\u001b[0m\u001b[0m\n",
            "\u001b[0;32m/usr/local/lib/python3.8/dist-packages/smartapi/smartConnect.py\u001b[0m in \u001b[0;36m_request\u001b[0;34m(self, route, method, parameters)\u001b[0m\n\u001b[1;32m    167\u001b[0m \u001b[0;34m\u001b[0m\u001b[0m\n\u001b[1;32m    168\u001b[0m         \u001b[0;32mtry\u001b[0m\u001b[0;34m:\u001b[0m\u001b[0;34m\u001b[0m\u001b[0;34m\u001b[0m\u001b[0m\n\u001b[0;32m--> 169\u001b[0;31m             r = requests.request(method,\n\u001b[0m\u001b[1;32m    170\u001b[0m                                         \u001b[0murl\u001b[0m\u001b[0;34m,\u001b[0m\u001b[0;34m\u001b[0m\u001b[0;34m\u001b[0m\u001b[0m\n\u001b[1;32m    171\u001b[0m                                         \u001b[0mdata\u001b[0m\u001b[0;34m=\u001b[0m\u001b[0mjson\u001b[0m\u001b[0;34m.\u001b[0m\u001b[0mdumps\u001b[0m\u001b[0;34m(\u001b[0m\u001b[0mparams\u001b[0m\u001b[0;34m)\u001b[0m \u001b[0;32mif\u001b[0m \u001b[0mmethod\u001b[0m \u001b[0;32min\u001b[0m \u001b[0;34m[\u001b[0m\u001b[0;34m\"POST\"\u001b[0m\u001b[0;34m,\u001b[0m \u001b[0;34m\"PUT\"\u001b[0m\u001b[0;34m]\u001b[0m \u001b[0;32melse\u001b[0m \u001b[0;32mNone\u001b[0m\u001b[0;34m,\u001b[0m\u001b[0;34m\u001b[0m\u001b[0;34m\u001b[0m\u001b[0m\n",
            "\u001b[0;32m/usr/local/lib/python3.8/dist-packages/requests/api.py\u001b[0m in \u001b[0;36mrequest\u001b[0;34m(method, url, **kwargs)\u001b[0m\n\u001b[1;32m     57\u001b[0m     \u001b[0;31m# cases, and look like a memory leak in others.\u001b[0m\u001b[0;34m\u001b[0m\u001b[0;34m\u001b[0m\u001b[0;34m\u001b[0m\u001b[0m\n\u001b[1;32m     58\u001b[0m     \u001b[0;32mwith\u001b[0m \u001b[0msessions\u001b[0m\u001b[0;34m.\u001b[0m\u001b[0mSession\u001b[0m\u001b[0;34m(\u001b[0m\u001b[0;34m)\u001b[0m \u001b[0;32mas\u001b[0m \u001b[0msession\u001b[0m\u001b[0;34m:\u001b[0m\u001b[0;34m\u001b[0m\u001b[0;34m\u001b[0m\u001b[0m\n\u001b[0;32m---> 59\u001b[0;31m         \u001b[0;32mreturn\u001b[0m \u001b[0msession\u001b[0m\u001b[0;34m.\u001b[0m\u001b[0mrequest\u001b[0m\u001b[0;34m(\u001b[0m\u001b[0mmethod\u001b[0m\u001b[0;34m=\u001b[0m\u001b[0mmethod\u001b[0m\u001b[0;34m,\u001b[0m \u001b[0murl\u001b[0m\u001b[0;34m=\u001b[0m\u001b[0murl\u001b[0m\u001b[0;34m,\u001b[0m \u001b[0;34m**\u001b[0m\u001b[0mkwargs\u001b[0m\u001b[0;34m)\u001b[0m\u001b[0;34m\u001b[0m\u001b[0;34m\u001b[0m\u001b[0m\n\u001b[0m\u001b[1;32m     60\u001b[0m \u001b[0;34m\u001b[0m\u001b[0m\n\u001b[1;32m     61\u001b[0m \u001b[0;34m\u001b[0m\u001b[0m\n",
            "\u001b[0;32m/usr/local/lib/python3.8/dist-packages/requests/sessions.py\u001b[0m in \u001b[0;36mrequest\u001b[0;34m(self, method, url, params, data, headers, cookies, files, auth, timeout, allow_redirects, proxies, hooks, stream, verify, cert, json)\u001b[0m\n\u001b[1;32m    585\u001b[0m         }\n\u001b[1;32m    586\u001b[0m         \u001b[0msend_kwargs\u001b[0m\u001b[0;34m.\u001b[0m\u001b[0mupdate\u001b[0m\u001b[0;34m(\u001b[0m\u001b[0msettings\u001b[0m\u001b[0;34m)\u001b[0m\u001b[0;34m\u001b[0m\u001b[0;34m\u001b[0m\u001b[0m\n\u001b[0;32m--> 587\u001b[0;31m         \u001b[0mresp\u001b[0m \u001b[0;34m=\u001b[0m \u001b[0mself\u001b[0m\u001b[0;34m.\u001b[0m\u001b[0msend\u001b[0m\u001b[0;34m(\u001b[0m\u001b[0mprep\u001b[0m\u001b[0;34m,\u001b[0m \u001b[0;34m**\u001b[0m\u001b[0msend_kwargs\u001b[0m\u001b[0;34m)\u001b[0m\u001b[0;34m\u001b[0m\u001b[0;34m\u001b[0m\u001b[0m\n\u001b[0m\u001b[1;32m    588\u001b[0m \u001b[0;34m\u001b[0m\u001b[0m\n\u001b[1;32m    589\u001b[0m         \u001b[0;32mreturn\u001b[0m \u001b[0mresp\u001b[0m\u001b[0;34m\u001b[0m\u001b[0;34m\u001b[0m\u001b[0m\n",
            "\u001b[0;32m/usr/local/lib/python3.8/dist-packages/requests/sessions.py\u001b[0m in \u001b[0;36msend\u001b[0;34m(self, request, **kwargs)\u001b[0m\n\u001b[1;32m    699\u001b[0m \u001b[0;34m\u001b[0m\u001b[0m\n\u001b[1;32m    700\u001b[0m         \u001b[0;31m# Send the request\u001b[0m\u001b[0;34m\u001b[0m\u001b[0;34m\u001b[0m\u001b[0;34m\u001b[0m\u001b[0m\n\u001b[0;32m--> 701\u001b[0;31m         \u001b[0mr\u001b[0m \u001b[0;34m=\u001b[0m \u001b[0madapter\u001b[0m\u001b[0;34m.\u001b[0m\u001b[0msend\u001b[0m\u001b[0;34m(\u001b[0m\u001b[0mrequest\u001b[0m\u001b[0;34m,\u001b[0m \u001b[0;34m**\u001b[0m\u001b[0mkwargs\u001b[0m\u001b[0;34m)\u001b[0m\u001b[0;34m\u001b[0m\u001b[0;34m\u001b[0m\u001b[0m\n\u001b[0m\u001b[1;32m    702\u001b[0m \u001b[0;34m\u001b[0m\u001b[0m\n\u001b[1;32m    703\u001b[0m         \u001b[0;31m# Total elapsed time of the request (approximately)\u001b[0m\u001b[0;34m\u001b[0m\u001b[0;34m\u001b[0m\u001b[0;34m\u001b[0m\u001b[0m\n",
            "\u001b[0;32m/usr/local/lib/python3.8/dist-packages/requests/adapters.py\u001b[0m in \u001b[0;36msend\u001b[0;34m(self, request, stream, timeout, verify, cert, proxies)\u001b[0m\n\u001b[1;32m    487\u001b[0m         \u001b[0;32mtry\u001b[0m\u001b[0;34m:\u001b[0m\u001b[0;34m\u001b[0m\u001b[0;34m\u001b[0m\u001b[0m\n\u001b[1;32m    488\u001b[0m             \u001b[0;32mif\u001b[0m \u001b[0;32mnot\u001b[0m \u001b[0mchunked\u001b[0m\u001b[0;34m:\u001b[0m\u001b[0;34m\u001b[0m\u001b[0;34m\u001b[0m\u001b[0m\n\u001b[0;32m--> 489\u001b[0;31m                 resp = conn.urlopen(\n\u001b[0m\u001b[1;32m    490\u001b[0m                     \u001b[0mmethod\u001b[0m\u001b[0;34m=\u001b[0m\u001b[0mrequest\u001b[0m\u001b[0;34m.\u001b[0m\u001b[0mmethod\u001b[0m\u001b[0;34m,\u001b[0m\u001b[0;34m\u001b[0m\u001b[0;34m\u001b[0m\u001b[0m\n\u001b[1;32m    491\u001b[0m                     \u001b[0murl\u001b[0m\u001b[0;34m=\u001b[0m\u001b[0murl\u001b[0m\u001b[0;34m,\u001b[0m\u001b[0;34m\u001b[0m\u001b[0;34m\u001b[0m\u001b[0m\n",
            "\u001b[0;32m/usr/local/lib/python3.8/dist-packages/urllib3/connectionpool.py\u001b[0m in \u001b[0;36murlopen\u001b[0;34m(self, method, url, body, headers, retries, redirect, assert_same_host, timeout, pool_timeout, release_conn, chunked, body_pos, **response_kw)\u001b[0m\n\u001b[1;32m    701\u001b[0m \u001b[0;34m\u001b[0m\u001b[0m\n\u001b[1;32m    702\u001b[0m             \u001b[0;31m# Make the request on the httplib connection object.\u001b[0m\u001b[0;34m\u001b[0m\u001b[0;34m\u001b[0m\u001b[0;34m\u001b[0m\u001b[0m\n\u001b[0;32m--> 703\u001b[0;31m             httplib_response = self._make_request(\n\u001b[0m\u001b[1;32m    704\u001b[0m                 \u001b[0mconn\u001b[0m\u001b[0;34m,\u001b[0m\u001b[0;34m\u001b[0m\u001b[0;34m\u001b[0m\u001b[0m\n\u001b[1;32m    705\u001b[0m                 \u001b[0mmethod\u001b[0m\u001b[0;34m,\u001b[0m\u001b[0;34m\u001b[0m\u001b[0;34m\u001b[0m\u001b[0m\n",
            "\u001b[0;32m/usr/local/lib/python3.8/dist-packages/urllib3/connectionpool.py\u001b[0m in \u001b[0;36m_make_request\u001b[0;34m(self, conn, method, url, timeout, chunked, **httplib_request_kw)\u001b[0m\n\u001b[1;32m    384\u001b[0m         \u001b[0;31m# Trigger any extra validation we need to do.\u001b[0m\u001b[0;34m\u001b[0m\u001b[0;34m\u001b[0m\u001b[0;34m\u001b[0m\u001b[0m\n\u001b[1;32m    385\u001b[0m         \u001b[0;32mtry\u001b[0m\u001b[0;34m:\u001b[0m\u001b[0;34m\u001b[0m\u001b[0;34m\u001b[0m\u001b[0m\n\u001b[0;32m--> 386\u001b[0;31m             \u001b[0mself\u001b[0m\u001b[0;34m.\u001b[0m\u001b[0m_validate_conn\u001b[0m\u001b[0;34m(\u001b[0m\u001b[0mconn\u001b[0m\u001b[0;34m)\u001b[0m\u001b[0;34m\u001b[0m\u001b[0;34m\u001b[0m\u001b[0m\n\u001b[0m\u001b[1;32m    387\u001b[0m         \u001b[0;32mexcept\u001b[0m \u001b[0;34m(\u001b[0m\u001b[0mSocketTimeout\u001b[0m\u001b[0;34m,\u001b[0m \u001b[0mBaseSSLError\u001b[0m\u001b[0;34m)\u001b[0m \u001b[0;32mas\u001b[0m \u001b[0me\u001b[0m\u001b[0;34m:\u001b[0m\u001b[0;34m\u001b[0m\u001b[0;34m\u001b[0m\u001b[0m\n\u001b[1;32m    388\u001b[0m             \u001b[0;31m# Py2 raises this as a BaseSSLError, Py3 raises it as socket timeout.\u001b[0m\u001b[0;34m\u001b[0m\u001b[0;34m\u001b[0m\u001b[0;34m\u001b[0m\u001b[0m\n",
            "\u001b[0;32m/usr/local/lib/python3.8/dist-packages/urllib3/connectionpool.py\u001b[0m in \u001b[0;36m_validate_conn\u001b[0;34m(self, conn)\u001b[0m\n\u001b[1;32m   1040\u001b[0m         \u001b[0;31m# Force connect early to allow us to validate the connection.\u001b[0m\u001b[0;34m\u001b[0m\u001b[0;34m\u001b[0m\u001b[0;34m\u001b[0m\u001b[0m\n\u001b[1;32m   1041\u001b[0m         \u001b[0;32mif\u001b[0m \u001b[0;32mnot\u001b[0m \u001b[0mgetattr\u001b[0m\u001b[0;34m(\u001b[0m\u001b[0mconn\u001b[0m\u001b[0;34m,\u001b[0m \u001b[0;34m\"sock\"\u001b[0m\u001b[0;34m,\u001b[0m \u001b[0;32mNone\u001b[0m\u001b[0;34m)\u001b[0m\u001b[0;34m:\u001b[0m  \u001b[0;31m# AppEngine might not have  `.sock`\u001b[0m\u001b[0;34m\u001b[0m\u001b[0;34m\u001b[0m\u001b[0m\n\u001b[0;32m-> 1042\u001b[0;31m             \u001b[0mconn\u001b[0m\u001b[0;34m.\u001b[0m\u001b[0mconnect\u001b[0m\u001b[0;34m(\u001b[0m\u001b[0;34m)\u001b[0m\u001b[0;34m\u001b[0m\u001b[0;34m\u001b[0m\u001b[0m\n\u001b[0m\u001b[1;32m   1043\u001b[0m \u001b[0;34m\u001b[0m\u001b[0m\n\u001b[1;32m   1044\u001b[0m         \u001b[0;32mif\u001b[0m \u001b[0;32mnot\u001b[0m \u001b[0mconn\u001b[0m\u001b[0;34m.\u001b[0m\u001b[0mis_verified\u001b[0m\u001b[0;34m:\u001b[0m\u001b[0;34m\u001b[0m\u001b[0;34m\u001b[0m\u001b[0m\n",
            "\u001b[0;32m/usr/local/lib/python3.8/dist-packages/urllib3/connection.py\u001b[0m in \u001b[0;36mconnect\u001b[0;34m(self)\u001b[0m\n\u001b[1;32m    412\u001b[0m             \u001b[0mcontext\u001b[0m\u001b[0;34m.\u001b[0m\u001b[0mload_default_certs\u001b[0m\u001b[0;34m(\u001b[0m\u001b[0;34m)\u001b[0m\u001b[0;34m\u001b[0m\u001b[0;34m\u001b[0m\u001b[0m\n\u001b[1;32m    413\u001b[0m \u001b[0;34m\u001b[0m\u001b[0m\n\u001b[0;32m--> 414\u001b[0;31m         self.sock = ssl_wrap_socket(\n\u001b[0m\u001b[1;32m    415\u001b[0m             \u001b[0msock\u001b[0m\u001b[0;34m=\u001b[0m\u001b[0mconn\u001b[0m\u001b[0;34m,\u001b[0m\u001b[0;34m\u001b[0m\u001b[0;34m\u001b[0m\u001b[0m\n\u001b[1;32m    416\u001b[0m             \u001b[0mkeyfile\u001b[0m\u001b[0;34m=\u001b[0m\u001b[0mself\u001b[0m\u001b[0;34m.\u001b[0m\u001b[0mkey_file\u001b[0m\u001b[0;34m,\u001b[0m\u001b[0;34m\u001b[0m\u001b[0;34m\u001b[0m\u001b[0m\n",
            "\u001b[0;32m/usr/local/lib/python3.8/dist-packages/urllib3/util/ssl_.py\u001b[0m in \u001b[0;36mssl_wrap_socket\u001b[0;34m(sock, keyfile, certfile, cert_reqs, ca_certs, server_hostname, ssl_version, ciphers, ssl_context, ca_cert_dir, key_password, ca_cert_data, tls_in_tls)\u001b[0m\n\u001b[1;32m    447\u001b[0m \u001b[0;34m\u001b[0m\u001b[0m\n\u001b[1;32m    448\u001b[0m     \u001b[0;32mif\u001b[0m \u001b[0msend_sni\u001b[0m\u001b[0;34m:\u001b[0m\u001b[0;34m\u001b[0m\u001b[0;34m\u001b[0m\u001b[0m\n\u001b[0;32m--> 449\u001b[0;31m         ssl_sock = _ssl_wrap_socket_impl(\n\u001b[0m\u001b[1;32m    450\u001b[0m             \u001b[0msock\u001b[0m\u001b[0;34m,\u001b[0m \u001b[0mcontext\u001b[0m\u001b[0;34m,\u001b[0m \u001b[0mtls_in_tls\u001b[0m\u001b[0;34m,\u001b[0m \u001b[0mserver_hostname\u001b[0m\u001b[0;34m=\u001b[0m\u001b[0mserver_hostname\u001b[0m\u001b[0;34m\u001b[0m\u001b[0;34m\u001b[0m\u001b[0m\n\u001b[1;32m    451\u001b[0m         )\n",
            "\u001b[0;32m/usr/local/lib/python3.8/dist-packages/urllib3/util/ssl_.py\u001b[0m in \u001b[0;36m_ssl_wrap_socket_impl\u001b[0;34m(sock, ssl_context, tls_in_tls, server_hostname)\u001b[0m\n\u001b[1;32m    491\u001b[0m \u001b[0;34m\u001b[0m\u001b[0m\n\u001b[1;32m    492\u001b[0m     \u001b[0;32mif\u001b[0m \u001b[0mserver_hostname\u001b[0m\u001b[0;34m:\u001b[0m\u001b[0;34m\u001b[0m\u001b[0;34m\u001b[0m\u001b[0m\n\u001b[0;32m--> 493\u001b[0;31m         \u001b[0;32mreturn\u001b[0m \u001b[0mssl_context\u001b[0m\u001b[0;34m.\u001b[0m\u001b[0mwrap_socket\u001b[0m\u001b[0;34m(\u001b[0m\u001b[0msock\u001b[0m\u001b[0;34m,\u001b[0m \u001b[0mserver_hostname\u001b[0m\u001b[0;34m=\u001b[0m\u001b[0mserver_hostname\u001b[0m\u001b[0;34m)\u001b[0m\u001b[0;34m\u001b[0m\u001b[0;34m\u001b[0m\u001b[0m\n\u001b[0m\u001b[1;32m    494\u001b[0m     \u001b[0;32melse\u001b[0m\u001b[0;34m:\u001b[0m\u001b[0;34m\u001b[0m\u001b[0;34m\u001b[0m\u001b[0m\n\u001b[1;32m    495\u001b[0m         \u001b[0;32mreturn\u001b[0m \u001b[0mssl_context\u001b[0m\u001b[0;34m.\u001b[0m\u001b[0mwrap_socket\u001b[0m\u001b[0;34m(\u001b[0m\u001b[0msock\u001b[0m\u001b[0;34m)\u001b[0m\u001b[0;34m\u001b[0m\u001b[0;34m\u001b[0m\u001b[0m\n",
            "\u001b[0;32m/usr/lib/python3.8/ssl.py\u001b[0m in \u001b[0;36mwrap_socket\u001b[0;34m(self, sock, server_side, do_handshake_on_connect, suppress_ragged_eofs, server_hostname, session)\u001b[0m\n\u001b[1;32m    498\u001b[0m         \u001b[0;31m# SSLSocket class handles server_hostname encoding before it calls\u001b[0m\u001b[0;34m\u001b[0m\u001b[0;34m\u001b[0m\u001b[0;34m\u001b[0m\u001b[0m\n\u001b[1;32m    499\u001b[0m         \u001b[0;31m# ctx._wrap_socket()\u001b[0m\u001b[0;34m\u001b[0m\u001b[0;34m\u001b[0m\u001b[0;34m\u001b[0m\u001b[0m\n\u001b[0;32m--> 500\u001b[0;31m         return self.sslsocket_class._create(\n\u001b[0m\u001b[1;32m    501\u001b[0m             \u001b[0msock\u001b[0m\u001b[0;34m=\u001b[0m\u001b[0msock\u001b[0m\u001b[0;34m,\u001b[0m\u001b[0;34m\u001b[0m\u001b[0;34m\u001b[0m\u001b[0m\n\u001b[1;32m    502\u001b[0m             \u001b[0mserver_side\u001b[0m\u001b[0;34m=\u001b[0m\u001b[0mserver_side\u001b[0m\u001b[0;34m,\u001b[0m\u001b[0;34m\u001b[0m\u001b[0;34m\u001b[0m\u001b[0m\n",
            "\u001b[0;32m/usr/lib/python3.8/ssl.py\u001b[0m in \u001b[0;36m_create\u001b[0;34m(cls, sock, server_side, do_handshake_on_connect, suppress_ragged_eofs, server_hostname, context, session)\u001b[0m\n\u001b[1;32m   1038\u001b[0m                         \u001b[0;31m# non-blocking\u001b[0m\u001b[0;34m\u001b[0m\u001b[0;34m\u001b[0m\u001b[0;34m\u001b[0m\u001b[0m\n\u001b[1;32m   1039\u001b[0m                         \u001b[0;32mraise\u001b[0m \u001b[0mValueError\u001b[0m\u001b[0;34m(\u001b[0m\u001b[0;34m\"do_handshake_on_connect should not be specified for non-blocking sockets\"\u001b[0m\u001b[0;34m)\u001b[0m\u001b[0;34m\u001b[0m\u001b[0;34m\u001b[0m\u001b[0m\n\u001b[0;32m-> 1040\u001b[0;31m                     \u001b[0mself\u001b[0m\u001b[0;34m.\u001b[0m\u001b[0mdo_handshake\u001b[0m\u001b[0;34m(\u001b[0m\u001b[0;34m)\u001b[0m\u001b[0;34m\u001b[0m\u001b[0;34m\u001b[0m\u001b[0m\n\u001b[0m\u001b[1;32m   1041\u001b[0m             \u001b[0;32mexcept\u001b[0m \u001b[0;34m(\u001b[0m\u001b[0mOSError\u001b[0m\u001b[0;34m,\u001b[0m \u001b[0mValueError\u001b[0m\u001b[0;34m)\u001b[0m\u001b[0;34m:\u001b[0m\u001b[0;34m\u001b[0m\u001b[0;34m\u001b[0m\u001b[0m\n\u001b[1;32m   1042\u001b[0m                 \u001b[0mself\u001b[0m\u001b[0;34m.\u001b[0m\u001b[0mclose\u001b[0m\u001b[0;34m(\u001b[0m\u001b[0;34m)\u001b[0m\u001b[0;34m\u001b[0m\u001b[0;34m\u001b[0m\u001b[0m\n",
            "\u001b[0;32m/usr/lib/python3.8/ssl.py\u001b[0m in \u001b[0;36mdo_handshake\u001b[0;34m(self, block)\u001b[0m\n\u001b[1;32m   1307\u001b[0m             \u001b[0;32mif\u001b[0m \u001b[0mtimeout\u001b[0m \u001b[0;34m==\u001b[0m \u001b[0;36m0.0\u001b[0m \u001b[0;32mand\u001b[0m \u001b[0mblock\u001b[0m\u001b[0;34m:\u001b[0m\u001b[0;34m\u001b[0m\u001b[0;34m\u001b[0m\u001b[0m\n\u001b[1;32m   1308\u001b[0m                 \u001b[0mself\u001b[0m\u001b[0;34m.\u001b[0m\u001b[0msettimeout\u001b[0m\u001b[0;34m(\u001b[0m\u001b[0;32mNone\u001b[0m\u001b[0;34m)\u001b[0m\u001b[0;34m\u001b[0m\u001b[0;34m\u001b[0m\u001b[0m\n\u001b[0;32m-> 1309\u001b[0;31m             \u001b[0mself\u001b[0m\u001b[0;34m.\u001b[0m\u001b[0m_sslobj\u001b[0m\u001b[0;34m.\u001b[0m\u001b[0mdo_handshake\u001b[0m\u001b[0;34m(\u001b[0m\u001b[0;34m)\u001b[0m\u001b[0;34m\u001b[0m\u001b[0;34m\u001b[0m\u001b[0m\n\u001b[0m\u001b[1;32m   1310\u001b[0m         \u001b[0;32mfinally\u001b[0m\u001b[0;34m:\u001b[0m\u001b[0;34m\u001b[0m\u001b[0;34m\u001b[0m\u001b[0m\n\u001b[1;32m   1311\u001b[0m             \u001b[0mself\u001b[0m\u001b[0;34m.\u001b[0m\u001b[0msettimeout\u001b[0m\u001b[0;34m(\u001b[0m\u001b[0mtimeout\u001b[0m\u001b[0;34m)\u001b[0m\u001b[0;34m\u001b[0m\u001b[0;34m\u001b[0m\u001b[0m\n",
            "\u001b[0;31mKeyboardInterrupt\u001b[0m: "
          ]
        },
        {
          "output_type": "stream",
          "name": "stdout",
          "text": [
            "time: 29.5 s (started: 2023-02-04 06:18:08 +00:00)\n"
          ]
        }
      ],
      "source": [
        "loop_code()"
      ]
    },
    {
      "cell_type": "markdown",
      "metadata": {
        "id": "07IuKLrm0anZ"
      },
      "source": [
        "\n",
        "# Upload Google Sheet"
      ]
    },
    {
      "cell_type": "code",
      "execution_count": null,
      "metadata": {
        "colab": {
          "base_uri": "https://localhost:8080/"
        },
        "id": "T4mVFtQAT4Do",
        "outputId": "9db4b2c2-c3a3-4edb-a1dd-d746373ec012"
      },
      "outputs": [
        {
          "output_type": "stream",
          "name": "stdout",
          "text": [
            "time: 43.9 s (started: 2023-02-03 10:06:20 +00:00)\n"
          ]
        }
      ],
      "source": [
        "# Google Sheet\n",
        "from google.colab import auth\n",
        "auth.authenticate_user()\n",
        "import gspread\n",
        "import pandas as pd\n",
        "from google.auth import default\n",
        "creds, _ = default()\n",
        "gc = gspread.authorize(creds)\n",
        "def next_available_row(worksheet):# Get Last used row\n",
        "    str_list = list(filter(None, worksheet.col_values(1)))\n",
        "    return str(len(str_list)+1)\n",
        "#next_row = next_available_row(worksheet)\n",
        "#lastrow=int(next_row)-1\n",
        "#cell = worksheet.acell('M{}'.format(lastrow), value_render_option='FORMULA').value\n",
        "#cella\n",
        "# Update Google Sheet\n",
        "def update_g_sheet_eod(sht_name,user_name,trading_symbol,indicator,trade,buy_price,\n",
        "                       target,stoploss,sellprice,dt,tm,highprice,lowprice,closeprice,trade_close):\n",
        "  worksheet = gc.open('Trading Log').worksheet(sht_name)\n",
        "  next_row = next_available_row(worksheet)\n",
        "  worksheet.update_acell(\"A{}\".format(next_row), dt)#Date\n",
        "  worksheet.update_acell(\"B{}\".format(next_row), tm)#Time\n",
        "  worksheet.update_acell(\"C{}\".format(next_row), user_name)#User\n",
        "  worksheet.update_acell(\"D{}\".format(next_row), trading_symbol)#Trading Symbol\n",
        "  worksheet.update_acell(\"E{}\".format(next_row), indicator)#Indicator\n",
        "  worksheet.update_acell(\"F{}\".format(next_row), trade)#Trade\n",
        "  worksheet.update_acell(\"G{}\".format(next_row), buy_price)#Buy Price\n",
        "  worksheet.update_acell(\"H{}\".format(next_row), target)#Target\n",
        "  worksheet.update_acell(\"I{}\".format(next_row), stoploss)#Stop Loss\n",
        "  worksheet.update_acell(\"J{}\".format(next_row), sellprice)#Sell Price\n",
        "  worksheet.update_acell(\"N{}\".format(next_row), highprice)#High Price\n",
        "  worksheet.update_acell(\"O{}\".format(next_row), lowprice)#Low Price\n",
        "  worksheet.update_acell(\"P{}\".format(next_row), closeprice)#Low Price\n",
        "  if sht_name=='Option' or sht_name=='1_minute':\n",
        "    worksheet.update_acell(\"K{}\".format(next_row), trade_close)#trade close\n",
        "    worksheet.update_acell(\"L{}\".format(next_row),'=if(N'+str(next_row)+'>=H'+str(next_row)+\n",
        "                           ',\"Win\",if(P'+str(next_row)+'>=G'+str(next_row)+',\"Nil\",\"Loss\"))')\n",
        "    worksheet.update_acell(\"M{}\".format(next_row),'=IF(L'+str(next_row)+'=\"Win\",H'+str(next_row)+\n",
        "                           '-G'+str(next_row)+',P'+str(next_row)+'-G'+str(next_row)+')*if(left(D'+str(next_row)+',1)=\"B\",25,50)')\n",
        "    worksheet.update_acell(\"Q{}\".format(next_row),'=(if(N'+str(next_row)+'>=G'+str(next_row)+'*1.3,G'+str(next_row)+'*1.3,P'+str(next_row)+')-G'+str(next_row)+')*F'+str(next_row))\n",
        "    worksheet.update_acell(\"R{}\".format(next_row),'=(P'+str(next_row)+'-G'+str(next_row)+')*F'+str(next_row))"
      ]
    },
    {
      "cell_type": "code",
      "execution_count": null,
      "metadata": {
        "colab": {
          "base_uri": "https://localhost:8080/"
        },
        "id": "Rl_9ExETSQB-",
        "outputId": "6188bb77-0bb4-41bb-ed9f-bf02d51aeefb"
      },
      "outputs": [
        {
          "output_type": "stream",
          "name": "stdout",
          "text": [
            "time: 3.84 ms (started: 2023-02-03 10:07:10 +00:00)\n"
          ]
        }
      ],
      "source": [
        "def get_buy_df(dat,symbol,interval,period,candle_type):\n",
        "  df=get_historical_data(symbol=symbol,interval=interval,token=\"-\",exch_seg=\"-\",candle_type=candle_type)\n",
        "  #df=historical_data_yfna(symbol,interval,period=period,candle_type=candle_type)\n",
        "  df['Time Frame']=interval\n",
        "  df['Trade End Time']=datetime.datetime.now(tz=gettz('Asia/Kolkata')).replace(hour=15, minute=29, second=0, microsecond=0, tzinfo=None).time()\n",
        "  df['Trade Datetime']=datetime.datetime.now(tz=gettz('Asia/Kolkata')).replace(hour=15, minute=29, second=0, microsecond=0, tzinfo=None).time()\n",
        "  df['Trade Exit']='Day End'\n",
        "  if dat!=\"-\":\n",
        "    df=df[(df['Date']==dat)]\n",
        "  for i in range(len(df)-1):\n",
        "    df['Trade Datetime'].values[i]=df['Datetime'].values[i+1]\n",
        "  df=df[['Date','Datetime','Trade Datetime','Trade End Time','Open','High','Low','Close','Trade','Time Frame','Indicator','Trade Exit']]\n",
        "  df=df[(df['Trade']!='-')]\n",
        "  for i in df.index:\n",
        "    if df.loc[i]['Datetime'].hour==15 :\n",
        "      df=df.drop(i)\n",
        "  df.sort_values(by=['Date','Datetime'], ascending = True, inplace=True)\n",
        "  return df"
      ]
    },
    {
      "cell_type": "code",
      "execution_count": null,
      "metadata": {
        "colab": {
          "base_uri": "https://localhost:8080/"
        },
        "id": "6yjJ8Q30Sc8l",
        "outputId": "ac9e046d-32f5-466b-8927-36a7d1d2a70d"
      },
      "outputs": [
        {
          "output_type": "stream",
          "name": "stdout",
          "text": [
            "time: 2.77 ms (started: 2023-02-03 10:09:21 +00:00)\n"
          ]
        }
      ],
      "source": [
        "def get_sell_df(dat,symbol,interval,period,candle_type):\n",
        "  if interval==\"5m\" or interval==\"15m\":\n",
        "    candle_5m=get_historical_data(symbol=symbol,interval='5m',token=\"-\",exch_seg=\"-\",candle_type=candle_type)\n",
        "    candle_15m=get_historical_data(symbol=symbol,interval='15m',token=\"-\",exch_seg=\"-\",candle_type=candle_type)\n",
        "    #candle_5m=historical_data_yfna(symbol,\"5m\",period=period,candle_type=candle_type)\n",
        "    #candle_15m=historical_data_yfna(symbol,\"15m\",period=period,candle_type=candle_type)\n",
        "    df=candle_5m.append(candle_15m)\n",
        "    df.sort_values(by=['Date','Datetime'], ascending = True, inplace=True)\n",
        "  else:\n",
        "    df=get_historical_data(symbol=symbol,interval=interval,token=\"-\",exch_seg=\"-\",candle_type=candle_type)\n",
        "    #df=historical_data_yfna(symbol,interval,period=period,candle_type=candle_type)\n",
        "  df['Trade End Time']=datetime.datetime.now(tz=gettz('Asia/Kolkata')).replace(hour=15, minute=29, second=0, microsecond=0, tzinfo=None).time()\n",
        "  df['Trade Datetime']=datetime.datetime.now(tz=gettz('Asia/Kolkata')).replace(hour=15, minute=29, second=0, microsecond=0, tzinfo=None).time()\n",
        "  if dat!=\"-\":\n",
        "    df=df[(df['Date']==dat)]\n",
        "  for i in range(len(df)-1):\n",
        "    df['Trade Datetime'].values[i]=df['Datetime'].values[i+1]\n",
        "  df=df[['Date','Datetime','Trade Datetime','Open','High','Low','Close','Trade','Trade End','Indicator']]\n",
        "  df=df[(df['Trade End']!='-')]\n",
        "  return df"
      ]
    },
    {
      "cell_type": "code",
      "execution_count": null,
      "metadata": {
        "colab": {
          "base_uri": "https://localhost:8080/"
        },
        "id": "ec9uSok2SfdH",
        "outputId": "53364957-c3dc-4ad6-a3fe-f98b05d2cac7"
      },
      "outputs": [
        {
          "output_type": "stream",
          "name": "stdout",
          "text": [
            "time: 3.12 ms (started: 2023-02-03 10:07:19 +00:00)\n"
          ]
        }
      ],
      "source": [
        "def get_symbol_token(symbol,df):\n",
        "  df['Index']='-';  df['Symbol']='-';   df['Token']='-';   df['Lot']='-'\n",
        "  for i in range(len(df)):\n",
        "    if df['Trade'].iloc[i]!=\"-\":\n",
        "      indexLtp=df['Close'].iloc[i]\n",
        "      if symbol=='^NSEBANK':\n",
        "        ysymbol=\"BANKNIFTY\"\n",
        "        lot=25\n",
        "        ATMStrike = math.floor(indexLtp/100)*100\n",
        "        target=40\n",
        "      elif symbol=='^NSEI':\n",
        "        ysymbol=\"NIFTY\"\n",
        "        lot=50\n",
        "        target=20\n",
        "        val2 = math.fmod(indexLtp, 50)\n",
        "        val3 = 0\n",
        "        if val2 >= 25:\n",
        "          val3 = 50\n",
        "        ATMStrike = indexLtp - val2 + val3\n",
        "      df['Lot'].values[i]=lot\n",
        "      df['Index'].values[i]=ysymbol\n",
        "      ce_strike_symbol = getTokenInfo(ysymbol,'NFO','OPTIDX',ATMStrike,'CE',expiry_day).iloc[0]\n",
        "      pe_strike_symbol = getTokenInfo(ysymbol,'NFO','OPTIDX',ATMStrike,'PE',expiry_day).iloc[0]\n",
        "      if df['Trade'].values[i] =='Buy':\n",
        "        df['Symbol'].values[i]=ce_strike_symbol['symbol']\n",
        "        df['Token'].values[i]=ce_strike_symbol['token']\n",
        "      elif df['Trade'].values[i] =='Sell':\n",
        "        df['Symbol'].values[i]=pe_strike_symbol['symbol']\n",
        "        df['Token'].values[i]=pe_strike_symbol['token']\n",
        "  return df"
      ]
    },
    {
      "cell_type": "code",
      "execution_count": null,
      "metadata": {
        "colab": {
          "base_uri": "https://localhost:8080/"
        },
        "id": "SWyl9F-ySjWl",
        "outputId": "93f708f5-1b33-49cb-87e4-3c28548cf9f4"
      },
      "outputs": [
        {
          "output_type": "stream",
          "name": "stdout",
          "text": [
            "time: 2.75 ms (started: 2023-02-03 10:07:24 +00:00)\n"
          ]
        }
      ],
      "source": [
        "def match_by_ell_df(buy_df,sell_df):\n",
        "  for i in range(len(buy_df)):\n",
        "    trade=buy_df['Trade'].values[i]\n",
        "    dat=buy_df['Date'].values[i]\n",
        "    Datetime=buy_df['Trade Datetime'].values[i]\n",
        "    trade_end_details=sell_df[(sell_df['Date']==dat) & (sell_df['Datetime']>Datetime) & (sell_df['Trade End']!=trade)]\n",
        "    if len(trade_end_details)!=0:\n",
        "      buy_df['Trade End Time'].values[i]=trade_end_details['Trade Datetime'].values[0]\n",
        "      buy_df['Trade Exit'].values[i]=trade_end_details['Indicator'].values[0]\n",
        "  return buy_df"
      ]
    },
    {
      "cell_type": "code",
      "execution_count": null,
      "metadata": {
        "colab": {
          "base_uri": "https://localhost:8080/"
        },
        "id": "Mj-5c_hvSljD",
        "outputId": "acd71e80-6dbd-41e2-d122-aa04669cbe94"
      },
      "outputs": [
        {
          "output_type": "stream",
          "name": "stdout",
          "text": [
            "time: 1.53 ms (started: 2023-02-03 10:07:33 +00:00)\n"
          ]
        }
      ],
      "source": [
        "def get_summary(symbol,interval,period,candle_type,dat=\"-\"):\n",
        "  buy_df=get_buy_df(dat,symbol,interval,period,candle_type)\n",
        "  sell_df=get_sell_df(dat,symbol,interval,period,candle_type)\n",
        "  df=match_by_ell_df(buy_df,sell_df)\n",
        "  df=get_symbol_token(symbol,df)\n",
        "  print(symbol,interval,period,len(df))\n",
        "  return df"
      ]
    },
    {
      "cell_type": "code",
      "execution_count": null,
      "metadata": {
        "colab": {
          "base_uri": "https://localhost:8080/"
        },
        "id": "vPNsanlBSok1",
        "outputId": "fbb6282c-501e-44b3-a348-7db2c155f8d3"
      },
      "outputs": [
        {
          "output_type": "stream",
          "name": "stdout",
          "text": [
            "time: 6.63 ms (started: 2023-02-03 10:07:41 +00:00)\n"
          ]
        }
      ],
      "source": [
        "def get_backtest_data(dat):\n",
        "  aa=get_summary(\"^NSEBANK\",\"5m\",\"7d\",\"NORMAL\",dat)\n",
        "  bb=get_summary(\"^NSEBANK\",\"15m\",\"7d\",\"NORMAL\",dat)\n",
        "  cc=get_summary(\"^NSEI\",\"5m\",\"7d\",\"NORMAL\",dat)\n",
        "  dd=get_summary(\"^NSEI\",\"15m\",\"7d\",\"NORMAL\",dat)\n",
        "  #ee=get_summary(\"^NSEI\",\"1m\",\"2d\",\"HEIKIN_ASHI\",dat)\n",
        "  #ff=get_summary(\"^NSEBANK\",\"1m\",\"7d\",\"HEIKIN_ASHI\",dat)\n",
        "  #gg=get_summary(\"^NSEI\",\"3m\",\"7d\",\"HEIKIN_ASHI\",dat)\n",
        "  #hh=get_summary(\"^NSEBANK\",\"3m\",\"7d\",\"HEIKIN_ASHI\",dat)\n",
        "  e=pd.DataFrame()\n",
        "  e=e.append(aa)\n",
        "  e=e.append(bb)\n",
        "  e=e.append(cc)\n",
        "  e=e.append(dd)\n",
        "  #e=e.append(ee)\n",
        "  #e=e.append(ff)\n",
        "  #e=e.append(gg)\n",
        "  #e=e.append(hh)\n",
        "  e.sort_values(by=['Date','Datetime'], ascending = True, inplace=True)\n",
        "  e['Buy Price']='-'\n",
        "  e['High Price']='-'\n",
        "  e['Low Price']='-'\n",
        "  e['Close Price']='-'\n",
        "  df = pd.DataFrame()\n",
        "  opt_symbol_list=e['Token'].unique()\n",
        "  optiols_ohlc_data=pd.DataFrame()\n",
        "  from tqdm import tqdm\n",
        "  for i in opt_symbol_list:\n",
        "  #for i in tqdm (range (len(opt_symbol_list)), desc=\"Loading OHLC Data...\"):\n",
        "    old_data=get_historical_data(symbol='-',interval='1m',token=i,exch_seg=\"NFO\",candle_type=\"NORMAL\")\n",
        "    #old_data=fetch_historical_data_5paisa(i,\"NFO\",'1m')\n",
        "    old_data=old_data[(old_data['Date']==dat)]\n",
        "    old_data['Token']='-'\n",
        "    old_data['Token']=i\n",
        "    optiols_ohlc_data=optiols_ohlc_data.append(old_data)\n",
        "\n",
        "  #for i in range(len(e)):\n",
        "  for i in tqdm (range (len(e)), desc=\"Loading...\"):\n",
        "    #try:\n",
        "      option_symbol=e['Symbol'].values[i]\n",
        "      token=e['Token'].values[i]\n",
        "      dat=e['Date'].values[i]\n",
        "      tm=e['Trade Datetime'].values[i]\n",
        "      indicator=e['Indicator'].values[i]\n",
        "      end_tm=e['Trade End Time'].values[i]\n",
        "      index=e['Index'].values[i]\n",
        "      time_frame=e['Time Frame'].values[i]\n",
        "      #old_data=fetch_historical_data_5paisa(token,\"NFO\",'1m')\n",
        "      #old_data=old_data[(old_data['Date']==dat)]\n",
        "      old_data=optiols_ohlc_data[(optiols_ohlc_data['Token']==token)]\n",
        "      old_data = old_data[(old_data['Datetime'] >= tm ) & (old_data['Datetime'] <= end_tm)]\n",
        "      if len(old_data)!=0:\n",
        "        e['Buy Price'].values[i]=old_data['Open'].iloc[0]\n",
        "        e['High Price'].values[i]=old_data['High'].max()\n",
        "        e['Low Price'].values[i]=old_data['Low'].min()\n",
        "        e['Close Price'].values[i]=old_data['Open'].iloc[-1]\n",
        "        old_data['Index']=index\n",
        "        old_data['Interval']=time_frame\n",
        "        old_data['Symbol']=option_symbol\n",
        "        old_data['Indicator']=indicator\n",
        "        old_data['Trade Buy']=\"-\"\n",
        "        old_data['Trade Sell']=\"-\"\n",
        "        old_data['Trade Buy'].values[0]=tm\n",
        "        old_data['Trade Sell'].values[0]=end_tm\n",
        "        old_data['Buy Price']='-'\n",
        "        old_data['Close Price']='-'\n",
        "        old_data['High Price']='-'\n",
        "        old_data['Low Price']='-'\n",
        "        old_data['Buy Price'].values[0]=old_data['Open'].iloc[0]\n",
        "        old_data['Close Price'].values[0]=old_data['Open'].iloc[-1]\n",
        "        old_data['High Price'].values[0]=old_data['High'].max()\n",
        "        old_data['Low Price'].values[0]=old_data['Low'].min()\n",
        "        old_data['Remark']='-'\n",
        "        old_data['Remark'].values[0]=\"Trade Start\"\n",
        "        old_data['Remark'].values[-1]=\"Trade End\"\n",
        "        old_data=old_data[['Date','Datetime','Index','Interval','Indicator','Symbol','Open','High','Low','Close','Trade Buy','Trade Sell',\n",
        "                          'Buy Price','High Price','Low Price','Close Price','Remark']]\n",
        "        df=df.append(old_data)\n",
        "    #except Exception as p:\n",
        "    #  print('Error:',p)\n",
        "  return e,df"
      ]
    },
    {
      "cell_type": "code",
      "execution_count": null,
      "metadata": {
        "colab": {
          "base_uri": "https://localhost:8080/"
        },
        "id": "Ne1BX3WFT23S",
        "outputId": "9f279b81-47d7-4013-bea7-1ea8436d2472"
      },
      "outputs": [
        {
          "output_type": "stream",
          "name": "stdout",
          "text": [
            "time: 1.42 ms (started: 2023-02-03 10:07:53 +00:00)\n"
          ]
        }
      ],
      "source": [
        "def get_holding_price():\n",
        "  if obj.holding()['data']== None:\n",
        "    holding_price=0\n",
        "  else:\n",
        "    holding=pd.DataFrame(obj.holding()['data'])\n",
        "    holding['Current Value']=holding['quantity'] * holding['ltp']\n",
        "    holding_price=(holding['Current Value'].sum())\n",
        "  if obj.position()['data']==None:\n",
        "    position_price =0\n",
        "  else:\n",
        "    position=pd.DataFrame(obj.position()['data'])\n",
        "    position['Current Value']=float(position['netqty'])* float(position['ltp'])\n",
        "    position_price=position['Current Value'].sum()\n",
        "  current_holding=position_price+holding_price\n",
        "  return current_holding"
      ]
    },
    {
      "cell_type": "code",
      "execution_count": null,
      "metadata": {
        "colab": {
          "base_uri": "https://localhost:8080/"
        },
        "id": "4LiDGKe3tX0z",
        "outputId": "1ef7e5b9-6c87-4709-91a9-8ac144a2d114"
      },
      "outputs": [
        {
          "output_type": "stream",
          "name": "stdout",
          "text": [
            "time: 8.75 ms (started: 2023-02-03 10:08:03 +00:00)\n"
          ]
        }
      ],
      "source": [
        "def upload_backtest(opt_df):\n",
        "  opt_df['User']=user\n",
        "  opt_df['Target']=''\n",
        "  opt_df['Sell Price']='-'\n",
        "  opt_df['Win/Loss']=''\n",
        "  opt_df['Profit']=''\n",
        "  opt_df['30% Profit']=''\n",
        "  opt_df['ETE']=''\n",
        "  opt_df=opt_df[['Date','Datetime','User','Symbol','Indicator','Lot','Buy Price','Target','Trade Exit','Sell Price',\n",
        "                'Trade End Time','Win/Loss','Profit','High Price','Low Price','Close Price','30% Profit','ETE']]\n",
        "  opt_df=opt_df[(opt_df['Buy Price']!=\"-\")]\n",
        "  for i in range(len(opt_df)):\n",
        "    Symbol=opt_df['Symbol'].values[i]\n",
        "    Indicator=opt_df['Indicator'].values[i]\n",
        "    if Symbol[:4]==\"BANK\":\n",
        "      if Indicator[:2]==\"1m\" or Indicator[:2]==\"3m\":\n",
        "        opt_df['Target'].values[i]=20+opt_df['Buy Price'].values[i]\n",
        "      else:\n",
        "        opt_df['Target'].values[i]=40+opt_df['Buy Price'].values[i]\n",
        "    else:\n",
        "      if Indicator[:2]==\"1m\" or Indicator[:2]==\"3m\":\n",
        "        opt_df['Target'].values[i]=10+opt_df['Buy Price'].values[i]\n",
        "      else:\n",
        "        opt_df['Target'].values[i]=20+opt_df['Buy Price'].values[i]\n",
        "    if opt_df['High Price'].values[i]>=opt_df['Target'].values[i]:\n",
        "      opt_df['Profit'].values[i]=((opt_df['Target'].values[i]-opt_df['Buy Price'].values[i])*opt_df['Lot'].values[i])\n",
        "      opt_df['Win/Loss'].values[i]=\"Win\"\n",
        "    else:\n",
        "      opt_df['Profit'].values[i]=((opt_df['Close Price'].values[i]-opt_df['Buy Price'].values[i])*opt_df['Lot'].values[i])\n",
        "      opt_df['Win/Loss'].values[i]=\"Loss\"\n",
        "    if opt_df['High Price'].values[i]>=(opt_df['Buy Price'].values[i]*1.3):\n",
        "      opt_df['30% Profit'].values[i]=((opt_df['Buy Price'].values[i]*1.3)-opt_df['Buy Price'].values[i])*opt_df['Lot'].values[i]\n",
        "    else:\n",
        "      opt_df['30% Profit'].values[i]=((opt_df['Close Price'].values[i]-opt_df['Buy Price'].values[i])*opt_df['Lot'].values[i])\n",
        "    opt_df['ETE'].values[i]=((opt_df['Close Price'].values[i]-opt_df['Buy Price'].values[i])*opt_df['Lot'].values[i])\n",
        "  df_5_min=opt_df[opt_df['Indicator'].str.contains('5m')| opt_df['Indicator'].str.contains('15m')]\n",
        "  df_1_min=opt_df[opt_df['Indicator'].str.contains('1m') | opt_df['Indicator'].str.contains('3m')]\n",
        "  return df_5_min,df_1_min"
      ]
    },
    {
      "cell_type": "code",
      "execution_count": null,
      "metadata": {
        "colab": {
          "base_uri": "https://localhost:8080/"
        },
        "id": "mBQN_hoqvhIj",
        "outputId": "84d83a90-22fb-454b-dd2c-9c632a121346"
      },
      "outputs": [
        {
          "output_type": "stream",
          "name": "stdout",
          "text": [
            "time: 1.66 ms (started: 2023-02-03 10:08:07 +00:00)\n"
          ]
        }
      ],
      "source": [
        "def upload_gs(df_5_min,df_1_min):\n",
        "  import gspread_dataframe as gd\n",
        "  # Connecting with `gspread` here\n",
        "  ws = gc.open(\"Trading Log\").worksheet(\"Option\")\n",
        "  existing = gd.get_as_dataframe(ws)\n",
        "  existing = existing.dropna(thresh=2)\n",
        "  existing = existing.dropna(axis=1)\n",
        "  updated = existing.append(df_5_min)\n",
        "  gd.set_with_dataframe(ws, updated)\n",
        "\n",
        "  '''\n",
        "  ws = gc.open(\"Trading Log\").worksheet(\"Live_trade\")\n",
        "  existing = gd.get_as_dataframe(ws)\n",
        "  existing = existing.dropna(thresh=2)\n",
        "  existing = existing.dropna(axis=1)\n",
        "  updated = existing.append(todays_trade_log)\n",
        "  gd.set_with_dataframe(ws, updated)\n",
        "  '''"
      ]
    },
    {
      "cell_type": "code",
      "execution_count": null,
      "metadata": {
        "colab": {
          "base_uri": "https://localhost:8080/"
        },
        "id": "66wTRL5slm7d",
        "outputId": "0a0ce670-f86b-442d-d18e-d967ce9a7df1"
      },
      "outputs": [
        {
          "output_type": "stream",
          "name": "stdout",
          "text": [
            "time: 3.85 ms (started: 2023-02-03 10:08:11 +00:00)\n"
          ]
        }
      ],
      "source": [
        "def nothing():\n",
        "  from tqdm import tqdm\n",
        "  for i in tqdm (range (len(e)), desc=\"Loading...\"):\n",
        "  #for i in range(len(e)):\n",
        "    #sleep(0.25)\n",
        "    option_symbol=e['Symbol'].values[i]\n",
        "    indicator_strategy=e['Indicator'].values[i]\n",
        "    close_indicator=e['Trade Exit'].values[i]\n",
        "    lot=e['Lot'].values[i]\n",
        "    #target=e['Target'].values[i]\n",
        "    tgt=40 if option_symbol[:1]==\"B\" else 20\n",
        "    target=tgt\n",
        "    buy_price=e['Buy Price'].values[i]\n",
        "    close_indicator=e['Trade Exit'].values[i]\n",
        "    dat=e['Date'].values[i]\n",
        "    buy_time=str(e['Trade Datetime'].values[i])\n",
        "    max_value=e['High Price'].values[i]\n",
        "    min_value=e['Low Price'].values[i]\n",
        "    close_price=e['Close Price'].values[i]\n",
        "    trade_end=str(e['Trade End Time'].values[i])\n",
        "    if indicator_strategy[:2]==\"1m\" or indicator_strategy[:2]==\"3m\":\n",
        "      update_g_sheet_eod('1_minute',user,option_symbol,indicator_strategy,lot,buy_price,\n",
        "                      buy_price+target,close_indicator,'',dat,buy_time,max_value,min_value,close_price,trade_end)\n",
        "    else:\n",
        "      update_g_sheet_eod('Option',user,option_symbol,indicator_strategy,lot,buy_price,\n",
        "                        buy_price+target,close_indicator,'',dat,buy_time,max_value,min_value,close_price,trade_end)"
      ]
    },
    {
      "cell_type": "code",
      "execution_count": null,
      "metadata": {
        "colab": {
          "base_uri": "https://localhost:8080/"
        },
        "id": "4EWTQ2wuUCXI",
        "outputId": "8ea4f396-b492-495f-802f-e2470697d90d"
      },
      "outputs": [
        {
          "output_type": "stream",
          "name": "stdout",
          "text": [
            "time: 10.4 ms (started: 2023-02-03 10:08:18 +00:00)\n"
          ]
        }
      ],
      "source": [
        "def send_msg_5_min():\n",
        "  worksheet = gc.open('Trading Log').worksheet('Dashboard')\n",
        "  next_row = next_available_row(worksheet)\n",
        "  lastrow=int(next_row)-1\n",
        "  worksheet.update_acell(\"A{}\".format(next_row),\"=WORKDAY(A\"+str(lastrow)+',1,2)')\n",
        "  worksheet.update_acell(\"B{}\".format(next_row),\"=COUNTIF(Option!A:A,A\"+str(next_row)+')')\n",
        "  worksheet.update_acell(\"C{}\".format(next_row),\"=COUNTIFS(Option!A:A,A\"+str(next_row)+',Option!K:K,\"Win\")')\n",
        "  worksheet.update_acell(\"D{}\".format(next_row),\"=COUNTIFS(Option!A:A,A\"+str(next_row)+',Option!K:K,\"Partial Win\")')\n",
        "  worksheet.update_acell(\"E{}\".format(next_row),\"=COUNTIFS(Option!A:A,A\"+str(next_row)+',Option!K:K,\"NIL\")')\n",
        "  worksheet.update_acell(\"F{}\".format(next_row),\"=COUNTIFS(Option!A:A,A\"+str(next_row)+',Option!K:K,\"Loss\")')\n",
        "  worksheet.update_acell(\"G{}\".format(next_row),\"=SUM(C\"+str(next_row)+',D'+str(next_row)+',E'+str(next_row)+')')\n",
        "  worksheet.update_acell(\"H{}\".format(next_row),\"=G\"+str(next_row)+'/B'+str(next_row))\n",
        "  worksheet.update_acell(\"I{}\".format(next_row),\"=SUMIFS(Option!L:L,Option!A:A,A\"+str(next_row)+')')\n",
        "  worksheet.update_acell(\"J{}\".format(next_row),\"=SUMIFS(Option!P:P,Option!A:A,A\"+str(next_row)+')')\n",
        "  worksheet.update_acell(\"K{}\".format(next_row),\"=SUMIFS(Option!Q:Q,Option!A:A,A\"+str(next_row)+')')\n",
        "  worksheet = gc.open('Trading Log').worksheet('Dashboard')\n",
        "  next_row = next_available_row(worksheet)\n",
        "  lastrow=int(next_row)-1\n",
        "  dt = worksheet.cell(lastrow, 1).value\n",
        "  trade = worksheet.cell(lastrow, 2).value\n",
        "  win = worksheet.cell(lastrow, 7).value\n",
        "  loss = worksheet.cell(lastrow, 6).value\n",
        "  nil = worksheet.cell(lastrow, 5).value\n",
        "  sucess = worksheet.cell(lastrow, 8).value\n",
        "  profit = worksheet.cell(lastrow, 9).value\n",
        "  percent_profit = worksheet.cell(lastrow, 10).value\n",
        "  ete_profit = worksheet.cell(lastrow, 11).value\n",
        "  msg=('Date: '+dt+'\\nTrade: '+trade+'\\nWin: '+win+'\\nLoss: '+loss+'\\nNIL: '+nil+'\\nSucess: '+sucess+'\\nProfit: '+profit\n",
        "      +'\\nPercent Profit Trade: '+percent_profit+'\\nEnd To End: '+ete_profit)\n",
        "  print(msg)\n",
        "  telegram_bot_sendtext(msg)"
      ]
    },
    {
      "cell_type": "code",
      "execution_count": null,
      "metadata": {
        "colab": {
          "base_uri": "https://localhost:8080/"
        },
        "id": "u8zQPJjG8GgY",
        "outputId": "66c69dc7-3cef-472c-d93e-4ddfb0f80d2a"
      },
      "outputs": [
        {
          "output_type": "stream",
          "name": "stdout",
          "text": [
            "time: 4.23 ms (started: 2023-02-03 10:08:30 +00:00)\n"
          ]
        }
      ],
      "source": [
        "def send_msg_1_min():\n",
        "  worksheet = gc.open('Trading Log').worksheet('1m_Dashboard')\n",
        "  next_row = next_available_row(worksheet)\n",
        "  lastrow=int(next_row)-1\n",
        "  worksheet.update_acell(\"A{}\".format(next_row),\"=WORKDAY(A\"+str(lastrow)+',1,2)')\n",
        "  worksheet.update_acell(\"B{}\".format(next_row),\"=COUNTIF(1_minute!A:A,A\"+str(next_row)+')')\n",
        "  worksheet.update_acell(\"C{}\".format(next_row),\"=COUNTIFS(1_minute!A:A,A\"+str(next_row)+',1_minute!K:K,\"Win\")')\n",
        "  worksheet.update_acell(\"D{}\".format(next_row),\"=COUNTIFS(1_minute!A:A,A\"+str(next_row)+',1_minute!K:K,\"Partial Win\")')\n",
        "  worksheet.update_acell(\"E{}\".format(next_row),\"=COUNTIFS(1_minute!A:A,A\"+str(next_row)+',1_minute!K:K,\"NIL\")')\n",
        "  worksheet.update_acell(\"F{}\".format(next_row),\"=COUNTIFS(1_minute!A:A,A\"+str(next_row)+',1_minute!K:K,\"Loss\")')\n",
        "  worksheet.update_acell(\"G{}\".format(next_row),\"=SUM(C\"+str(next_row)+',D'+str(next_row)+',E'+str(next_row)+')')\n",
        "  worksheet.update_acell(\"H{}\".format(next_row),\"=G\"+str(next_row)+'/B'+str(next_row))\n",
        "  worksheet.update_acell(\"I{}\".format(next_row),\"=SUMIFS(1_minute!L:L,1_minute!A:A,A\"+str(next_row)+')')\n",
        "  worksheet.update_acell(\"J{}\".format(next_row),\"=SUMIFS(1_minute!P:P,1_minute!A:A,A\"+str(next_row)+')')\n",
        "  worksheet.update_acell(\"K{}\".format(next_row),\"=SUMIFS(1_minute!Q:Q,1_minute!A:A,A\"+str(next_row)+')')\n",
        "  worksheet = gc.open('Trading Log').worksheet('1m_Dashboard')\n",
        "  next_row = next_available_row(worksheet)\n",
        "  lastrow=int(next_row)-1\n",
        "  dt = worksheet.cell(lastrow, 1).value\n",
        "  trade = worksheet.cell(lastrow, 2).value\n",
        "  win = worksheet.cell(lastrow, 7).value\n",
        "  loss = worksheet.cell(lastrow, 6).value\n",
        "  nil = worksheet.cell(lastrow, 5).value\n",
        "  sucess = worksheet.cell(lastrow, 8).value\n",
        "  profit = worksheet.cell(lastrow, 9).value\n",
        "  percent_profit = worksheet.cell(lastrow, 10).value\n",
        "  ete_profit = worksheet.cell(lastrow, 11).value\n",
        "  msg=('One Minute Trade\\nDate: '+dt+'\\nTrade: '+trade+'\\nWin: '+win+'\\nLoss: '+loss+'\\nNIL: '+nil+'\\nSucess: '+sucess+'\\nProfit: '+profit\n",
        "      +'\\nPercent Profit Trade: '+percent_profit+'\\nEnd To End: '+ete_profit)\n",
        "  print(msg)\n",
        "  telegram_bot_sendtext(msg)"
      ]
    },
    {
      "cell_type": "code",
      "execution_count": null,
      "metadata": {
        "colab": {
          "base_uri": "https://localhost:8080/"
        },
        "id": "JdLl669N9F6l",
        "outputId": "d7dff996-52bb-4b14-acc1-8c991925a9e0"
      },
      "outputs": [
        {
          "output_type": "stream",
          "name": "stdout",
          "text": [
            "time: 3.87 ms (started: 2023-02-03 10:08:39 +00:00)\n"
          ]
        }
      ],
      "source": [
        "def update_live_trade():\n",
        "  try:\n",
        "    get_todays_trade()\n",
        "    gs_todays_trade_log=todays_trade_log\n",
        "    gs_todays_trade_log['Date']=(datetime.datetime.now(tz=gettz('Asia/Kolkata'))- timedelta(days=0)).strftime(\"%m/%d/%y\")\n",
        "    gs_todays_trade_log=gs_todays_trade_log[['Date','updatetime', 'symboltoken', 'tradingsymbol', 'exchange', 'price',\n",
        "          'ordertag', 'Sell', 'Exit Time', 'quantity', 'Sell Indicator', 'Status',\n",
        "          'LTP', 'Profit', 'Index SL', 'Time Frame', 'Stop Loss', 'Target']]\n",
        "    import gspread_dataframe as gd\n",
        "    ws = gc.open(\"Trading Log\").worksheet(\"Live_trade\")\n",
        "    existing = gd.get_as_dataframe(ws)\n",
        "    existing = existing.dropna(thresh=2)\n",
        "    existing = existing.dropna(axis=1)\n",
        "    updated = existing.append(todays_trade_log)\n",
        "    gd.set_with_dataframe(ws, updated)\n",
        "  except Exception as e:\n",
        "    print(\"Error\")"
      ]
    },
    {
      "cell_type": "code",
      "execution_count": null,
      "metadata": {
        "colab": {
          "base_uri": "https://localhost:8080/"
        },
        "id": "DU4LOF4JICPD",
        "outputId": "3c9a0309-1304-4638-8d97-19d4ab335f46"
      },
      "outputs": [
        {
          "output_type": "stream",
          "name": "stdout",
          "text": [
            "02/03/23\n",
            "^NSEBANK 5m 7d 6\n",
            "^NSEBANK 15m 7d 5\n",
            "^NSEI 5m 7d 6\n",
            "^NSEI 15m 7d 2\n"
          ]
        },
        {
          "output_type": "stream",
          "name": "stderr",
          "text": [
            "Loading...: 100%|██████████| 19/19 [00:02<00:00,  9.46it/s]"
          ]
        },
        {
          "output_type": "stream",
          "name": "stdout",
          "text": [
            "\n",
            "Trade Code: 19 \n",
            "1000k: 4335 \n",
            "30%: 12816 \n",
            "ETE: 36342\n",
            "time: 39.9 s (started: 2023-02-03 10:09:30 +00:00)\n"
          ]
        },
        {
          "output_type": "stream",
          "name": "stderr",
          "text": [
            "\n"
          ]
        }
      ],
      "source": [
        "dat=(datetime.datetime.now(tz=gettz('Asia/Kolkata'))- timedelta(days=0)).strftime(\"%m/%d/%y\")\n",
        "print(dat)\n",
        "#dat='-'\n",
        "e,df=get_backtest_data(dat)\n",
        "df_5_min,df_1_min=upload_backtest(e)\n",
        "print('\\nTrade Code:',len(df_5_min),'\\n1000k:',int(df_5_min['Profit'].sum()),\n",
        "      '\\n30%:',int(df_5_min['30% Profit'].sum()),'\\nETE:',int(df_5_min['ETE'].sum()))"
      ]
    },
    {
      "cell_type": "code",
      "execution_count": null,
      "metadata": {
        "colab": {
          "base_uri": "https://localhost:8080/"
        },
        "id": "VGb3GgkbAHLc",
        "outputId": "4b5f8b2d-a1e0-4669-8c7a-acf52fbb7987"
      },
      "outputs": [
        {
          "output_type": "stream",
          "name": "stdout",
          "text": [
            "Date: Wednesday, February 1, 2023\n",
            "Trade: 19\n",
            "Win: 14\n",
            "Loss: 5\n",
            "NIL: 0\n",
            "Sucess: 73.68%\n",
            "Profit: 3089\n",
            "Percent Profit Trade: 8422\n",
            "End To End: 127185\n"
          ]
        }
      ],
      "source": [
        "if dat!='-':\n",
        "  upload_gs(df_5_min,df_1_min)\n",
        "  send_msg_5_min()\n",
        "  update_live_trade()\n",
        "  #day_stock_scaner()\n",
        "  #send_msg_1_min()"
      ]
    },
    {
      "cell_type": "code",
      "execution_count": null,
      "metadata": {
        "id": "DE3BXNQJ9QC2",
        "colab": {
          "base_uri": "https://localhost:8080/"
        },
        "outputId": "b3603974-2f11-44e6-f851-24caf5200e6f"
      },
      "outputs": [
        {
          "output_type": "stream",
          "name": "stdout",
          "text": [
            "time: 2.83 ms (started: 2023-02-02 15:54:12 +00:00)\n"
          ]
        }
      ],
      "source": [
        "def pull_options_data(token_df_new):\n",
        "  df = pd.DataFrame()\n",
        "  to_date= datetime.datetime.now(tz=gettz('Asia/Kolkata'))\n",
        "  from_date = to_date - timedelta(days=7)\n",
        "  from_date_format = from_date.strftime(\"%Y-%m-%d %H:%M\")\n",
        "  to_date_format = to_date.strftime(\"%Y-%m-%d %H:%M\")\n",
        "  index_name=token_df_new['name'].values[0]\n",
        "  for i in range(len(token_df_new)):\n",
        "    try:\n",
        "      token=token_df_new['token'].values[i]\n",
        "      symbol=token_df_new['symbol'].values[i]\n",
        "      old_data=client.historical_data('N','D',token,'1m',from_date_format,to_date_format)\n",
        "      old_data['Datetime'] = pd.to_datetime(old_data['Datetime'],format = '%Y-%m-%d %H:%M:%S')\n",
        "      old_data['Date']=old_data['Datetime'].dt.strftime('%m/%d/%y')\n",
        "      old_data['Datetime'] = pd.to_datetime(old_data['Datetime']).dt.time\n",
        "      old_data['Symbol']=symbol\n",
        "      old_data['Expiry']=expiry_day.strftime('%m/%d/%y')\n",
        "      old_data=old_data[['Symbol','Expiry','Date','Datetime','Open','High','Low','Close']]\n",
        "      df=df.append(old_data)\n",
        "    except Exception as e:\n",
        "      print('Error in Scan for:',symbol,e)\n",
        "  fl_name=index_name +\" Options \" +expiry_day.strftime('%m_%d_%Y')+ \".csv\"\n",
        "  df.to_csv(fl_name,header=True, index=False)\n",
        "  files.download(fl_name)"
      ]
    },
    {
      "cell_type": "code",
      "execution_count": null,
      "metadata": {
        "id": "ogl4afaz15VE",
        "colab": {
          "base_uri": "https://localhost:8080/"
        },
        "outputId": "76fe4b7d-849b-49bd-8604-dca75e74f1d7"
      },
      "outputs": [
        {
          "output_type": "stream",
          "name": "stdout",
          "text": [
            "time: 3.27 ms (started: 2023-02-02 15:54:12 +00:00)\n"
          ]
        }
      ],
      "source": [
        "def stock_backest():\n",
        "  stocklist=[\"ALKYLAMINE\",\"AMARAJABAT\",\"ASIANPAINT\",\"ASTRAL\",\"AXISBANK\",\"BALRAMCHIN\",\n",
        "           \"CAMS\",\"DEEPAKNTR\",\"DIXON\",\"GRINFRA\",\"HAPPSTMNDS\",\"HDFCBANK\",\"HINDUNILVR\",\n",
        "           \"IEX\",\"INDIAMART\",\"INFY\",\"JUBLFOOD\",\"KANCHI\",\"LICI\",\"LXCHEM\",\"NAZARA\",\n",
        "           \"PIDILITIND\",\"RECLTD\",\"RELIANCE\",\"TATAMOTORS\",\"TATAPOWER\",\"TCS\",\"VINATIORGA\"]\n",
        "  pl=0\n",
        "  for script in stocklist:\n",
        "    try:\n",
        "      df=get_historical_data(symbol=script+\".NS\",interval='60m',token=\"-\",exch_seg=\"-\",candle_type=\"NORMAL\")\n",
        "      #df=historical_data_yfna(script+\".NS\",\"60m\",period=\"360d\",candle_type=\"NORMAL\")\n",
        "      df['Trade Price']=\"-\"\n",
        "      for i in range(len(df)-1):\n",
        "          df['Trade Price'].values[i]=df['Open'].values[i+1]\n",
        "      df = df[(df['St Trade'] != '-')]\n",
        "      if df.iloc[0]['St Trade']==\"Sell\":\n",
        "        df = df.iloc[1:]\n",
        "      if df.iloc[-1]['St Trade']==\"Buy\":\n",
        "        df.drop(df.tail(1).index,inplace=True)\n",
        "      df=df[['Date','Datetime','Open','High','Low','Close','Trade Price','St Trade']]\n",
        "      df_buy = df[(df['St Trade'] == 'Buy')]\n",
        "      df_sell = df[(df['St Trade'] == 'Sell')]\n",
        "      buy=round((df_buy['Trade Price'].sum()),2)\n",
        "      sell=round((df_sell['Trade Price'].sum()),2)\n",
        "      pert=sell/buy\n",
        "      pl=pl+(pert*100-100)\n",
        "      print(script,round(pert*100-100,2))\n",
        "    except Exception as e:\n",
        "        print('Error in:',e)\n",
        "  print('total pl %:',pl)"
      ]
    },
    {
      "cell_type": "code",
      "execution_count": null,
      "metadata": {
        "id": "TRlS-E-4Zd6C",
        "colab": {
          "base_uri": "https://localhost:8080/"
        },
        "outputId": "3c3c72cf-6a99-4c27-a1e4-13d10d96b353"
      },
      "outputs": [
        {
          "output_type": "stream",
          "name": "stdout",
          "text": [
            "^NSEI\n",
            "^NSEBANK\n",
            "time: 1.62 ms (started: 2023-02-02 15:54:12 +00:00)\n"
          ]
        }
      ],
      "source": [
        "expiry=expiry_day.strftime('%m/%d/%y')\n",
        "dat=datetime.datetime.now(tz=gettz('Asia/Kolkata')).strftime(\"%m/%d/%y\")\n",
        "if expiry==dat:\n",
        "  symbol_list=['^NSEI','^NSEBANK']\n",
        "  from google.colab import files\n",
        "  to_date=datetime.datetime.now(tz=gettz('Asia/Kolkata')).replace(hour=0,second=0,minute=0,microsecond=0, tzinfo=None)+timedelta(days=1)\n",
        "  from_date=to_date- timedelta(days=7)\n",
        "  to_date=to_date.strftime(\"%m/%d/%y\")\n",
        "  from_date=from_date.strftime(\"%m/%d/%y\")\n",
        "  for symbol in symbol_list:\n",
        "    print(symbol)"
      ]
    },
    {
      "cell_type": "code",
      "execution_count": null,
      "metadata": {
        "id": "-6nYN-AY9NPV",
        "colab": {
          "base_uri": "https://localhost:8080/",
          "height": 34
        },
        "outputId": "42133fa6-fa78-409d-8485-54e467cb6708"
      },
      "outputs": [
        {
          "output_type": "display_data",
          "data": {
            "text/plain": [
              "<IPython.core.display.Javascript object>"
            ],
            "application/javascript": [
              "\n",
              "    async function download(id, filename, size) {\n",
              "      if (!google.colab.kernel.accessAllowed) {\n",
              "        return;\n",
              "      }\n",
              "      const div = document.createElement('div');\n",
              "      const label = document.createElement('label');\n",
              "      label.textContent = `Downloading \"${filename}\": `;\n",
              "      div.appendChild(label);\n",
              "      const progress = document.createElement('progress');\n",
              "      progress.max = size;\n",
              "      div.appendChild(progress);\n",
              "      document.body.appendChild(div);\n",
              "\n",
              "      const buffers = [];\n",
              "      let downloaded = 0;\n",
              "\n",
              "      const channel = await google.colab.kernel.comms.open(id);\n",
              "      // Send a message to notify the kernel that we're ready.\n",
              "      channel.send({})\n",
              "\n",
              "      for await (const message of channel.messages) {\n",
              "        // Send a message to notify the kernel that we're ready.\n",
              "        channel.send({})\n",
              "        if (message.buffers) {\n",
              "          for (const buffer of message.buffers) {\n",
              "            buffers.push(buffer);\n",
              "            downloaded += buffer.byteLength;\n",
              "            progress.value = downloaded;\n",
              "          }\n",
              "        }\n",
              "      }\n",
              "      const blob = new Blob(buffers, {type: 'application/binary'});\n",
              "      const a = document.createElement('a');\n",
              "      a.href = window.URL.createObjectURL(blob);\n",
              "      a.download = filename;\n",
              "      div.appendChild(a);\n",
              "      a.click();\n",
              "      div.remove();\n",
              "    }\n",
              "  "
            ]
          },
          "metadata": {}
        },
        {
          "output_type": "display_data",
          "data": {
            "text/plain": [
              "<IPython.core.display.Javascript object>"
            ],
            "application/javascript": [
              "download(\"download_f5df789f-aafe-4475-99cb-e6c6cd915dfc\", \"NIFTY.csv\", 125669)"
            ]
          },
          "metadata": {}
        },
        {
          "output_type": "display_data",
          "data": {
            "text/plain": [
              "<IPython.core.display.Javascript object>"
            ],
            "application/javascript": [
              "\n",
              "    async function download(id, filename, size) {\n",
              "      if (!google.colab.kernel.accessAllowed) {\n",
              "        return;\n",
              "      }\n",
              "      const div = document.createElement('div');\n",
              "      const label = document.createElement('label');\n",
              "      label.textContent = `Downloading \"${filename}\": `;\n",
              "      div.appendChild(label);\n",
              "      const progress = document.createElement('progress');\n",
              "      progress.max = size;\n",
              "      div.appendChild(progress);\n",
              "      document.body.appendChild(div);\n",
              "\n",
              "      const buffers = [];\n",
              "      let downloaded = 0;\n",
              "\n",
              "      const channel = await google.colab.kernel.comms.open(id);\n",
              "      // Send a message to notify the kernel that we're ready.\n",
              "      channel.send({})\n",
              "\n",
              "      for await (const message of channel.messages) {\n",
              "        // Send a message to notify the kernel that we're ready.\n",
              "        channel.send({})\n",
              "        if (message.buffers) {\n",
              "          for (const buffer of message.buffers) {\n",
              "            buffers.push(buffer);\n",
              "            downloaded += buffer.byteLength;\n",
              "            progress.value = downloaded;\n",
              "          }\n",
              "        }\n",
              "      }\n",
              "      const blob = new Blob(buffers, {type: 'application/binary'});\n",
              "      const a = document.createElement('a');\n",
              "      a.href = window.URL.createObjectURL(blob);\n",
              "      a.download = filename;\n",
              "      div.appendChild(a);\n",
              "      a.click();\n",
              "      div.remove();\n",
              "    }\n",
              "  "
            ]
          },
          "metadata": {}
        },
        {
          "output_type": "display_data",
          "data": {
            "text/plain": [
              "<IPython.core.display.Javascript object>"
            ],
            "application/javascript": [
              "download(\"download_2f630575-3cad-47a0-951e-014e905b7777\", \"NIFTY Options 02_02_2023.csv\", 6011238)"
            ]
          },
          "metadata": {}
        },
        {
          "output_type": "display_data",
          "data": {
            "text/plain": [
              "<IPython.core.display.Javascript object>"
            ],
            "application/javascript": [
              "\n",
              "    async function download(id, filename, size) {\n",
              "      if (!google.colab.kernel.accessAllowed) {\n",
              "        return;\n",
              "      }\n",
              "      const div = document.createElement('div');\n",
              "      const label = document.createElement('label');\n",
              "      label.textContent = `Downloading \"${filename}\": `;\n",
              "      div.appendChild(label);\n",
              "      const progress = document.createElement('progress');\n",
              "      progress.max = size;\n",
              "      div.appendChild(progress);\n",
              "      document.body.appendChild(div);\n",
              "\n",
              "      const buffers = [];\n",
              "      let downloaded = 0;\n",
              "\n",
              "      const channel = await google.colab.kernel.comms.open(id);\n",
              "      // Send a message to notify the kernel that we're ready.\n",
              "      channel.send({})\n",
              "\n",
              "      for await (const message of channel.messages) {\n",
              "        // Send a message to notify the kernel that we're ready.\n",
              "        channel.send({})\n",
              "        if (message.buffers) {\n",
              "          for (const buffer of message.buffers) {\n",
              "            buffers.push(buffer);\n",
              "            downloaded += buffer.byteLength;\n",
              "            progress.value = downloaded;\n",
              "          }\n",
              "        }\n",
              "      }\n",
              "      const blob = new Blob(buffers, {type: 'application/binary'});\n",
              "      const a = document.createElement('a');\n",
              "      a.href = window.URL.createObjectURL(blob);\n",
              "      a.download = filename;\n",
              "      div.appendChild(a);\n",
              "      a.click();\n",
              "      div.remove();\n",
              "    }\n",
              "  "
            ]
          },
          "metadata": {}
        },
        {
          "output_type": "display_data",
          "data": {
            "text/plain": [
              "<IPython.core.display.Javascript object>"
            ],
            "application/javascript": [
              "download(\"download_f7a6364a-ca49-41f8-9bca-1599df9f8d83\", \"BANKNIFTY.csv\", 133315)"
            ]
          },
          "metadata": {}
        },
        {
          "output_type": "display_data",
          "data": {
            "text/plain": [
              "<IPython.core.display.Javascript object>"
            ],
            "application/javascript": [
              "\n",
              "    async function download(id, filename, size) {\n",
              "      if (!google.colab.kernel.accessAllowed) {\n",
              "        return;\n",
              "      }\n",
              "      const div = document.createElement('div');\n",
              "      const label = document.createElement('label');\n",
              "      label.textContent = `Downloading \"${filename}\": `;\n",
              "      div.appendChild(label);\n",
              "      const progress = document.createElement('progress');\n",
              "      progress.max = size;\n",
              "      div.appendChild(progress);\n",
              "      document.body.appendChild(div);\n",
              "\n",
              "      const buffers = [];\n",
              "      let downloaded = 0;\n",
              "\n",
              "      const channel = await google.colab.kernel.comms.open(id);\n",
              "      // Send a message to notify the kernel that we're ready.\n",
              "      channel.send({})\n",
              "\n",
              "      for await (const message of channel.messages) {\n",
              "        // Send a message to notify the kernel that we're ready.\n",
              "        channel.send({})\n",
              "        if (message.buffers) {\n",
              "          for (const buffer of message.buffers) {\n",
              "            buffers.push(buffer);\n",
              "            downloaded += buffer.byteLength;\n",
              "            progress.value = downloaded;\n",
              "          }\n",
              "        }\n",
              "      }\n",
              "      const blob = new Blob(buffers, {type: 'application/binary'});\n",
              "      const a = document.createElement('a');\n",
              "      a.href = window.URL.createObjectURL(blob);\n",
              "      a.download = filename;\n",
              "      div.appendChild(a);\n",
              "      a.click();\n",
              "      div.remove();\n",
              "    }\n",
              "  "
            ]
          },
          "metadata": {}
        },
        {
          "output_type": "display_data",
          "data": {
            "text/plain": [
              "<IPython.core.display.Javascript object>"
            ],
            "application/javascript": [
              "download(\"download_69b5c77c-5608-43e0-898a-d1a987a26d78\", \"BANKNIFTY Options 02_02_2023.csv\", 8524549)"
            ]
          },
          "metadata": {}
        },
        {
          "output_type": "stream",
          "name": "stdout",
          "text": [
            "time: 1min 2s (started: 2023-02-02 15:54:36 +00:00)\n"
          ]
        }
      ],
      "source": [
        "expiry=expiry_day.strftime('%m/%d/%y')\n",
        "dat=datetime.datetime.now(tz=gettz('Asia/Kolkata')).strftime(\"%m/%d/%y\")\n",
        "if expiry==dat:\n",
        "  symbol_list=['^NSEI','^NSEBANK']\n",
        "  from google.colab import files\n",
        "  for symbol in symbol_list:\n",
        "    to_date=datetime.datetime.now(tz=gettz('Asia/Kolkata')).replace(hour=0,second=0,minute=0,microsecond=0, tzinfo=None)+timedelta(days=1)\n",
        "    from_date=to_date- timedelta(days=7)\n",
        "    index_symbol=\"NIFTY\" if symbol==\"^NSEI\" else \"BANKNIFTY\"\n",
        "    df=yf.Ticker(symbol).history(interval=\"1m\",period=\"7d\")\n",
        "    df.reset_index(level=0, inplace=True)\n",
        "    df['Datetime']=df['Datetime'].dt.tz_localize(None)\n",
        "    df = df[(df['Datetime'] >= from_date ) & (df['Datetime'] <= to_date)]\n",
        "    df['Date']=df['Datetime'].dt.strftime('%m/%d/%y')\n",
        "    df['Datetime'] = pd.to_datetime(df['Datetime']).dt.time\n",
        "    df = df.round(decimals=2)\n",
        "    df['Expiry']=expiry_day.strftime('%m/%d/%y')\n",
        "    df['Symbol']=index_symbol\n",
        "    df=df[['Symbol','Expiry','Date','Datetime','Open','High','Low','Close']]\n",
        "    fl_name=index_symbol + \".csv\"\n",
        "    df.to_csv(fl_name,header=True, index=False)\n",
        "    files.download(fl_name)\n",
        "    high=(df['High'].max()+300)*100\n",
        "    low=(df['Low'].min()-300)*100\n",
        "    token_df_new = token_df[(token_df['name'] == index_symbol) & (token_df['instrumenttype'] == 'OPTIDX') & (token_df['expiry'] == expiry_day)]\n",
        "    token_df_new = token_df_new[(token_df_new['strike'] >= low) & (token_df_new['strike'] <= high) ]\n",
        "    token_df_new.sort_values(by=['strike'], ascending = True, inplace=True)\n",
        "    pull_options_data(token_df_new)"
      ]
    },
    {
      "cell_type": "code",
      "execution_count": null,
      "metadata": {
        "id": "WqOzO7K3cShT"
      },
      "outputs": [],
      "source": [
        "df=todays_trade_log\n",
        "from google.colab import files\n",
        "df.to_csv(\"Index Data.csv\")\n",
        "files.download(\"Index Data.csv\")"
      ]
    },
    {
      "cell_type": "code",
      "execution_count": null,
      "metadata": {
        "id": "Q5ui8E0XH7wP"
      },
      "outputs": [],
      "source": [
        "'''symbol=\"^NSEI\"\n",
        "dat=datetime.datetime.now(tz=gettz('Asia/Kolkata'))- timedelta(days=0)\n",
        "dat=dat.strftime(\"%m/%d/%y\")\n",
        "df=historical_data_yfna(symbol,\"5m\",period='3d',candle_type='Normal')\n",
        "df\n",
        "'''"
      ]
    },
    {
      "cell_type": "code",
      "execution_count": null,
      "metadata": {
        "id": "WyyS8ZqVSvge"
      },
      "outputs": [],
      "source": [
        "nf_trade_3_min=index_trade(symbol=nf_future['symbol'],interval=\"3m\",candle_type=\"NORMAL\",token=nf_future['token'],exch_seg=nf_future['exch_seg'])\n",
        "df=nf_trade_3_min[(nf_trade_3_min['Date']==dat)]\n",
        "from google.colab import files\n",
        "df.to_csv(\"Index Data.csv\")\n",
        "files.download(\"Index Data.csv\")\n"
      ]
    },
    {
      "cell_type": "code",
      "execution_count": null,
      "metadata": {
        "id": "DzywaKzWtQL3"
      },
      "outputs": [],
      "source": [
        "dat=(datetime.datetime.now(tz=gettz('Asia/Kolkata'))- timedelta(days=0)).strftime(\"%m/%d/%y\")\n",
        "nf_trade_3_min=get_historical_data(nf_future['symbol'],interval='3m',token=nf_future['token'],exch_seg=nf_future['exch_seg'],candle_type=\"NORMAL\")\n",
        "nf_trade_3_min=nf_trade_3_min[(nf_trade_3_min['Date']==dat) & (nf_trade_3_min['Trade']!='-')]\n",
        "nf_trade_3_min=nf_trade_3_min[['Date','Datetime','Trade','Open','High','Low','Close','Volume','Supertrend_10_2','Supertrend','VWAP','WMA_20','RSI','Time Frame','Indicator']]\n",
        "nf_trade_3_min"
      ]
    }
  ],
  "metadata": {
    "colab": {
      "provenance": []
    },
    "kernelspec": {
      "display_name": "Python 3",
      "name": "python3"
    },
    "language_info": {
      "name": "python"
    }
  },
  "nbformat": 4,
  "nbformat_minor": 0
}